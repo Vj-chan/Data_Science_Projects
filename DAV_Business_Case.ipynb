{
 "cells": [
  {
   "cell_type": "markdown",
   "id": "83e3918e",
   "metadata": {},
   "source": [
    "# Business case study of India's leading fitness equipment brand "
   ]
  },
  {
   "cell_type": "markdown",
   "id": "6a28a938",
   "metadata": {},
   "source": [
    "### Importing necessary libraries"
   ]
  },
  {
   "cell_type": "code",
   "execution_count": 1,
   "id": "fb2a0421",
   "metadata": {},
   "outputs": [],
   "source": [
    "import math\n",
    "import numpy as np\n",
    "import pandas as pd\n",
    "import matplotlib.pyplot as plt\n",
    "import seaborn as sns"
   ]
  },
  {
   "cell_type": "markdown",
   "id": "63573be4",
   "metadata": {},
   "source": [
    "### Reading the CSV file and creating a dataframe"
   ]
  },
  {
   "cell_type": "code",
   "execution_count": 2,
   "id": "6a393ed5",
   "metadata": {},
   "outputs": [
    {
     "data": {
      "text/html": [
       "<div>\n",
       "<style scoped>\n",
       "    .dataframe tbody tr th:only-of-type {\n",
       "        vertical-align: middle;\n",
       "    }\n",
       "\n",
       "    .dataframe tbody tr th {\n",
       "        vertical-align: top;\n",
       "    }\n",
       "\n",
       "    .dataframe thead th {\n",
       "        text-align: right;\n",
       "    }\n",
       "</style>\n",
       "<table border=\"1\" class=\"dataframe\">\n",
       "  <thead>\n",
       "    <tr style=\"text-align: right;\">\n",
       "      <th></th>\n",
       "      <th>Product</th>\n",
       "      <th>Age</th>\n",
       "      <th>Gender</th>\n",
       "      <th>Education</th>\n",
       "      <th>MaritalStatus</th>\n",
       "      <th>Usage</th>\n",
       "      <th>Fitness</th>\n",
       "      <th>Income</th>\n",
       "      <th>Miles</th>\n",
       "    </tr>\n",
       "  </thead>\n",
       "  <tbody>\n",
       "    <tr>\n",
       "      <th>0</th>\n",
       "      <td>KP281</td>\n",
       "      <td>18</td>\n",
       "      <td>Male</td>\n",
       "      <td>14</td>\n",
       "      <td>Single</td>\n",
       "      <td>3</td>\n",
       "      <td>4</td>\n",
       "      <td>29562</td>\n",
       "      <td>112</td>\n",
       "    </tr>\n",
       "    <tr>\n",
       "      <th>1</th>\n",
       "      <td>KP281</td>\n",
       "      <td>19</td>\n",
       "      <td>Male</td>\n",
       "      <td>15</td>\n",
       "      <td>Single</td>\n",
       "      <td>2</td>\n",
       "      <td>3</td>\n",
       "      <td>31836</td>\n",
       "      <td>75</td>\n",
       "    </tr>\n",
       "    <tr>\n",
       "      <th>2</th>\n",
       "      <td>KP281</td>\n",
       "      <td>19</td>\n",
       "      <td>Female</td>\n",
       "      <td>14</td>\n",
       "      <td>Partnered</td>\n",
       "      <td>4</td>\n",
       "      <td>3</td>\n",
       "      <td>30699</td>\n",
       "      <td>66</td>\n",
       "    </tr>\n",
       "    <tr>\n",
       "      <th>3</th>\n",
       "      <td>KP281</td>\n",
       "      <td>19</td>\n",
       "      <td>Male</td>\n",
       "      <td>12</td>\n",
       "      <td>Single</td>\n",
       "      <td>3</td>\n",
       "      <td>3</td>\n",
       "      <td>32973</td>\n",
       "      <td>85</td>\n",
       "    </tr>\n",
       "    <tr>\n",
       "      <th>4</th>\n",
       "      <td>KP281</td>\n",
       "      <td>20</td>\n",
       "      <td>Male</td>\n",
       "      <td>13</td>\n",
       "      <td>Partnered</td>\n",
       "      <td>4</td>\n",
       "      <td>2</td>\n",
       "      <td>35247</td>\n",
       "      <td>47</td>\n",
       "    </tr>\n",
       "    <tr>\n",
       "      <th>...</th>\n",
       "      <td>...</td>\n",
       "      <td>...</td>\n",
       "      <td>...</td>\n",
       "      <td>...</td>\n",
       "      <td>...</td>\n",
       "      <td>...</td>\n",
       "      <td>...</td>\n",
       "      <td>...</td>\n",
       "      <td>...</td>\n",
       "    </tr>\n",
       "    <tr>\n",
       "      <th>175</th>\n",
       "      <td>KP781</td>\n",
       "      <td>40</td>\n",
       "      <td>Male</td>\n",
       "      <td>21</td>\n",
       "      <td>Single</td>\n",
       "      <td>6</td>\n",
       "      <td>5</td>\n",
       "      <td>83416</td>\n",
       "      <td>200</td>\n",
       "    </tr>\n",
       "    <tr>\n",
       "      <th>176</th>\n",
       "      <td>KP781</td>\n",
       "      <td>42</td>\n",
       "      <td>Male</td>\n",
       "      <td>18</td>\n",
       "      <td>Single</td>\n",
       "      <td>5</td>\n",
       "      <td>4</td>\n",
       "      <td>89641</td>\n",
       "      <td>200</td>\n",
       "    </tr>\n",
       "    <tr>\n",
       "      <th>177</th>\n",
       "      <td>KP781</td>\n",
       "      <td>45</td>\n",
       "      <td>Male</td>\n",
       "      <td>16</td>\n",
       "      <td>Single</td>\n",
       "      <td>5</td>\n",
       "      <td>5</td>\n",
       "      <td>90886</td>\n",
       "      <td>160</td>\n",
       "    </tr>\n",
       "    <tr>\n",
       "      <th>178</th>\n",
       "      <td>KP781</td>\n",
       "      <td>47</td>\n",
       "      <td>Male</td>\n",
       "      <td>18</td>\n",
       "      <td>Partnered</td>\n",
       "      <td>4</td>\n",
       "      <td>5</td>\n",
       "      <td>104581</td>\n",
       "      <td>120</td>\n",
       "    </tr>\n",
       "    <tr>\n",
       "      <th>179</th>\n",
       "      <td>KP781</td>\n",
       "      <td>48</td>\n",
       "      <td>Male</td>\n",
       "      <td>18</td>\n",
       "      <td>Partnered</td>\n",
       "      <td>4</td>\n",
       "      <td>5</td>\n",
       "      <td>95508</td>\n",
       "      <td>180</td>\n",
       "    </tr>\n",
       "  </tbody>\n",
       "</table>\n",
       "<p>180 rows × 9 columns</p>\n",
       "</div>"
      ],
      "text/plain": [
       "    Product  Age  Gender  Education MaritalStatus  Usage  Fitness  Income  \\\n",
       "0     KP281   18    Male         14        Single      3        4   29562   \n",
       "1     KP281   19    Male         15        Single      2        3   31836   \n",
       "2     KP281   19  Female         14     Partnered      4        3   30699   \n",
       "3     KP281   19    Male         12        Single      3        3   32973   \n",
       "4     KP281   20    Male         13     Partnered      4        2   35247   \n",
       "..      ...  ...     ...        ...           ...    ...      ...     ...   \n",
       "175   KP781   40    Male         21        Single      6        5   83416   \n",
       "176   KP781   42    Male         18        Single      5        4   89641   \n",
       "177   KP781   45    Male         16        Single      5        5   90886   \n",
       "178   KP781   47    Male         18     Partnered      4        5  104581   \n",
       "179   KP781   48    Male         18     Partnered      4        5   95508   \n",
       "\n",
       "     Miles  \n",
       "0      112  \n",
       "1       75  \n",
       "2       66  \n",
       "3       85  \n",
       "4       47  \n",
       "..     ...  \n",
       "175    200  \n",
       "176    200  \n",
       "177    160  \n",
       "178    120  \n",
       "179    180  \n",
       "\n",
       "[180 rows x 9 columns]"
      ]
     },
     "execution_count": 2,
     "metadata": {},
     "output_type": "execute_result"
    }
   ],
   "source": [
    "df = pd.read_csv('https://d2beiqkhq929f0.cloudfront.net/public_assets/assets/000/001/125/original/aerofit_treadmill.csv?1639992749')\n",
    "df"
   ]
  },
  {
   "cell_type": "markdown",
   "id": "eeb53f81",
   "metadata": {},
   "source": [
    "### EXPLORATORY ANALYSIS"
   ]
  },
  {
   "cell_type": "code",
   "execution_count": 3,
   "id": "91cd132a",
   "metadata": {},
   "outputs": [
    {
     "data": {
      "text/plain": [
       "(180, 9)"
      ]
     },
     "execution_count": 3,
     "metadata": {},
     "output_type": "execute_result"
    }
   ],
   "source": [
    "df.shape"
   ]
  },
  {
   "cell_type": "markdown",
   "id": "f79c40a6",
   "metadata": {},
   "source": [
    "The dataframe has 180 rows and 9 columns"
   ]
  },
  {
   "cell_type": "code",
   "execution_count": 4,
   "id": "e7c00372",
   "metadata": {},
   "outputs": [
    {
     "name": "stdout",
     "output_type": "stream",
     "text": [
      "<class 'pandas.core.frame.DataFrame'>\n",
      "RangeIndex: 180 entries, 0 to 179\n",
      "Data columns (total 9 columns):\n",
      " #   Column         Non-Null Count  Dtype \n",
      "---  ------         --------------  ----- \n",
      " 0   Product        180 non-null    object\n",
      " 1   Age            180 non-null    int64 \n",
      " 2   Gender         180 non-null    object\n",
      " 3   Education      180 non-null    int64 \n",
      " 4   MaritalStatus  180 non-null    object\n",
      " 5   Usage          180 non-null    int64 \n",
      " 6   Fitness        180 non-null    int64 \n",
      " 7   Income         180 non-null    int64 \n",
      " 8   Miles          180 non-null    int64 \n",
      "dtypes: int64(6), object(3)\n",
      "memory usage: 12.8+ KB\n"
     ]
    }
   ],
   "source": [
    "df.info()"
   ]
  },
  {
   "cell_type": "markdown",
   "id": "1756aad7",
   "metadata": {},
   "source": [
    "There is **no null values** in the dataset. The **product, gender, & marital status** columns are of **string** data type and the **rest of all columns** are **int** datatype. No columns need data type conversion. The data given looks already clean."
   ]
  },
  {
   "cell_type": "code",
   "execution_count": 5,
   "id": "3e21e7f4",
   "metadata": {},
   "outputs": [
    {
     "data": {
      "text/html": [
       "<div>\n",
       "<style scoped>\n",
       "    .dataframe tbody tr th:only-of-type {\n",
       "        vertical-align: middle;\n",
       "    }\n",
       "\n",
       "    .dataframe tbody tr th {\n",
       "        vertical-align: top;\n",
       "    }\n",
       "\n",
       "    .dataframe thead th {\n",
       "        text-align: right;\n",
       "    }\n",
       "</style>\n",
       "<table border=\"1\" class=\"dataframe\">\n",
       "  <thead>\n",
       "    <tr style=\"text-align: right;\">\n",
       "      <th></th>\n",
       "      <th>Product</th>\n",
       "      <th>Age</th>\n",
       "      <th>Gender</th>\n",
       "      <th>Education</th>\n",
       "      <th>MaritalStatus</th>\n",
       "      <th>Usage</th>\n",
       "      <th>Fitness</th>\n",
       "      <th>Income</th>\n",
       "      <th>Miles</th>\n",
       "    </tr>\n",
       "  </thead>\n",
       "  <tbody>\n",
       "    <tr>\n",
       "      <th>count</th>\n",
       "      <td>180</td>\n",
       "      <td>180.000000</td>\n",
       "      <td>180</td>\n",
       "      <td>180.000000</td>\n",
       "      <td>180</td>\n",
       "      <td>180.000000</td>\n",
       "      <td>180.000000</td>\n",
       "      <td>180.000000</td>\n",
       "      <td>180.000000</td>\n",
       "    </tr>\n",
       "    <tr>\n",
       "      <th>unique</th>\n",
       "      <td>3</td>\n",
       "      <td>NaN</td>\n",
       "      <td>2</td>\n",
       "      <td>NaN</td>\n",
       "      <td>2</td>\n",
       "      <td>NaN</td>\n",
       "      <td>NaN</td>\n",
       "      <td>NaN</td>\n",
       "      <td>NaN</td>\n",
       "    </tr>\n",
       "    <tr>\n",
       "      <th>top</th>\n",
       "      <td>KP281</td>\n",
       "      <td>NaN</td>\n",
       "      <td>Male</td>\n",
       "      <td>NaN</td>\n",
       "      <td>Partnered</td>\n",
       "      <td>NaN</td>\n",
       "      <td>NaN</td>\n",
       "      <td>NaN</td>\n",
       "      <td>NaN</td>\n",
       "    </tr>\n",
       "    <tr>\n",
       "      <th>freq</th>\n",
       "      <td>80</td>\n",
       "      <td>NaN</td>\n",
       "      <td>104</td>\n",
       "      <td>NaN</td>\n",
       "      <td>107</td>\n",
       "      <td>NaN</td>\n",
       "      <td>NaN</td>\n",
       "      <td>NaN</td>\n",
       "      <td>NaN</td>\n",
       "    </tr>\n",
       "    <tr>\n",
       "      <th>mean</th>\n",
       "      <td>NaN</td>\n",
       "      <td>28.788889</td>\n",
       "      <td>NaN</td>\n",
       "      <td>15.572222</td>\n",
       "      <td>NaN</td>\n",
       "      <td>3.455556</td>\n",
       "      <td>3.311111</td>\n",
       "      <td>53719.577778</td>\n",
       "      <td>103.194444</td>\n",
       "    </tr>\n",
       "    <tr>\n",
       "      <th>std</th>\n",
       "      <td>NaN</td>\n",
       "      <td>6.943498</td>\n",
       "      <td>NaN</td>\n",
       "      <td>1.617055</td>\n",
       "      <td>NaN</td>\n",
       "      <td>1.084797</td>\n",
       "      <td>0.958869</td>\n",
       "      <td>16506.684226</td>\n",
       "      <td>51.863605</td>\n",
       "    </tr>\n",
       "    <tr>\n",
       "      <th>min</th>\n",
       "      <td>NaN</td>\n",
       "      <td>18.000000</td>\n",
       "      <td>NaN</td>\n",
       "      <td>12.000000</td>\n",
       "      <td>NaN</td>\n",
       "      <td>2.000000</td>\n",
       "      <td>1.000000</td>\n",
       "      <td>29562.000000</td>\n",
       "      <td>21.000000</td>\n",
       "    </tr>\n",
       "    <tr>\n",
       "      <th>25%</th>\n",
       "      <td>NaN</td>\n",
       "      <td>24.000000</td>\n",
       "      <td>NaN</td>\n",
       "      <td>14.000000</td>\n",
       "      <td>NaN</td>\n",
       "      <td>3.000000</td>\n",
       "      <td>3.000000</td>\n",
       "      <td>44058.750000</td>\n",
       "      <td>66.000000</td>\n",
       "    </tr>\n",
       "    <tr>\n",
       "      <th>50%</th>\n",
       "      <td>NaN</td>\n",
       "      <td>26.000000</td>\n",
       "      <td>NaN</td>\n",
       "      <td>16.000000</td>\n",
       "      <td>NaN</td>\n",
       "      <td>3.000000</td>\n",
       "      <td>3.000000</td>\n",
       "      <td>50596.500000</td>\n",
       "      <td>94.000000</td>\n",
       "    </tr>\n",
       "    <tr>\n",
       "      <th>75%</th>\n",
       "      <td>NaN</td>\n",
       "      <td>33.000000</td>\n",
       "      <td>NaN</td>\n",
       "      <td>16.000000</td>\n",
       "      <td>NaN</td>\n",
       "      <td>4.000000</td>\n",
       "      <td>4.000000</td>\n",
       "      <td>58668.000000</td>\n",
       "      <td>114.750000</td>\n",
       "    </tr>\n",
       "    <tr>\n",
       "      <th>max</th>\n",
       "      <td>NaN</td>\n",
       "      <td>50.000000</td>\n",
       "      <td>NaN</td>\n",
       "      <td>21.000000</td>\n",
       "      <td>NaN</td>\n",
       "      <td>7.000000</td>\n",
       "      <td>5.000000</td>\n",
       "      <td>104581.000000</td>\n",
       "      <td>360.000000</td>\n",
       "    </tr>\n",
       "  </tbody>\n",
       "</table>\n",
       "</div>"
      ],
      "text/plain": [
       "       Product         Age Gender   Education MaritalStatus       Usage  \\\n",
       "count      180  180.000000    180  180.000000           180  180.000000   \n",
       "unique       3         NaN      2         NaN             2         NaN   \n",
       "top      KP281         NaN   Male         NaN     Partnered         NaN   \n",
       "freq        80         NaN    104         NaN           107         NaN   \n",
       "mean       NaN   28.788889    NaN   15.572222           NaN    3.455556   \n",
       "std        NaN    6.943498    NaN    1.617055           NaN    1.084797   \n",
       "min        NaN   18.000000    NaN   12.000000           NaN    2.000000   \n",
       "25%        NaN   24.000000    NaN   14.000000           NaN    3.000000   \n",
       "50%        NaN   26.000000    NaN   16.000000           NaN    3.000000   \n",
       "75%        NaN   33.000000    NaN   16.000000           NaN    4.000000   \n",
       "max        NaN   50.000000    NaN   21.000000           NaN    7.000000   \n",
       "\n",
       "           Fitness         Income       Miles  \n",
       "count   180.000000     180.000000  180.000000  \n",
       "unique         NaN            NaN         NaN  \n",
       "top            NaN            NaN         NaN  \n",
       "freq           NaN            NaN         NaN  \n",
       "mean      3.311111   53719.577778  103.194444  \n",
       "std       0.958869   16506.684226   51.863605  \n",
       "min       1.000000   29562.000000   21.000000  \n",
       "25%       3.000000   44058.750000   66.000000  \n",
       "50%       3.000000   50596.500000   94.000000  \n",
       "75%       4.000000   58668.000000  114.750000  \n",
       "max       5.000000  104581.000000  360.000000  "
      ]
     },
     "execution_count": 5,
     "metadata": {},
     "output_type": "execute_result"
    }
   ],
   "source": [
    "df.describe(include='all')"
   ]
  },
  {
   "cell_type": "markdown",
   "id": "52dd5565",
   "metadata": {},
   "source": [
    "**Insights:**\n",
    "\n",
    "  From this describe method we can find that,\n",
    "  \n",
    "+ The **KP281** model was sold approximately 40% in the overall sales,\n",
    "+ The **median age** of the buyers is **26 years**,\n",
    "+ **Male** customers bought **more than 50%** in the overall purchase,\n",
    "+ The **median of education** is **16 years**,\n",
    "+ **More than 50%** of the products were bought by **married** customers,\n",
    "+ The **median of usage** is **3 times** per week,\n",
    "+ The **median of fitness** level is **3** on a scale of 5,\n",
    "+ The **median salary** of the customers is **50596.50$**,\n",
    "\n",
    "Also we can find that some of the columns can be categorized for easy analysis."
   ]
  },
  {
   "cell_type": "markdown",
   "id": "1c7bc0f9",
   "metadata": {},
   "source": [
    "### CATEGORIZATION:"
   ]
  },
  {
   "cell_type": "markdown",
   "id": "925f2e90",
   "metadata": {},
   "source": [
    "<a id = 'age_cat'></a>\n",
    "**Age_cat:**\n",
    "The `Age` column ranges from **18** years to **50** years. It can be categorized as,\n",
    "\n",
    "* 18 to 30 - young,\n",
    "* 31 to 40 - mid_age,\n",
    "* 40 to 50 - old"
   ]
  },
  {
   "cell_type": "code",
   "execution_count": 6,
   "id": "96b863c5",
   "metadata": {},
   "outputs": [],
   "source": [
    "df['Age_cat'] = pd.cut(df['Age'], bins = [17, 30, 40, 50], labels = ['young', 'mid_age', 'old'])"
   ]
  },
  {
   "cell_type": "markdown",
   "id": "d39cf985",
   "metadata": {},
   "source": [
    " "
   ]
  },
  {
   "cell_type": "markdown",
   "id": "167b88da",
   "metadata": {},
   "source": [
    "<a id = 'edu_cat'></a>\n",
    "**Edu_cat:**\n",
    "The `Education` column ranges from **12** years to **21** years. It can be categorized as,\n",
    "\n",
    "* 12 - Non_graduate,\n",
    "* 13 to 16 - Graduate,\n",
    "* 17 to 18 - Master,\n",
    "* 19 to 21 - Doctorate"
   ]
  },
  {
   "cell_type": "code",
   "execution_count": 7,
   "id": "58d2204f",
   "metadata": {},
   "outputs": [],
   "source": [
    "df['Edu_cat'] = pd.cut(df['Education'], bins = [0, 12, 16, 18, 21], labels = ['Non_graduate', 'Graduate', 'Master', 'Doctorate'])"
   ]
  },
  {
   "cell_type": "markdown",
   "id": "fb5146fc",
   "metadata": {},
   "source": [
    " "
   ]
  },
  {
   "cell_type": "markdown",
   "id": "54fec3ee",
   "metadata": {},
   "source": [
    "<a id = 'usage_cat'></a>\n",
    "**Usage_cat:**\n",
    "The `Usage` column ranges from **2** times to **7** times per week. It can be categorized as,\n",
    "\n",
    "* 2 to 3 - light_user,\n",
    "* 4 to 5 - moderate_user,\n",
    "* 6 to 7 - heavy_user"
   ]
  },
  {
   "cell_type": "code",
   "execution_count": 8,
   "id": "eef9a37b",
   "metadata": {},
   "outputs": [],
   "source": [
    "df['Usage_cat'] = pd.cut(df['Usage'], bins = [0, 3, 5, 7], labels = ['light_user', 'moderate_user', 'heavy_user'])"
   ]
  },
  {
   "cell_type": "markdown",
   "id": "5c79e330",
   "metadata": {},
   "source": [
    " "
   ]
  },
  {
   "cell_type": "markdown",
   "id": "e52c9684",
   "metadata": {},
   "source": [
    "<a id = 'fitness_cat'></a>\n",
    "**Fitness_cat:**\n",
    "The `Fitness` column has level ranges from **1** to **5**. It can be categorized as,\n",
    "\n",
    "* 1 to 2 - low,\n",
    "* 3 - medium,\n",
    "* 4 to 5 - high"
   ]
  },
  {
   "cell_type": "code",
   "execution_count": 9,
   "id": "e582973b",
   "metadata": {},
   "outputs": [],
   "source": [
    "df['Fitness_cat'] = pd.cut(df['Fitness'], bins = [0, 2, 3, 5], labels = ['low', 'medium', 'high'])"
   ]
  },
  {
   "cell_type": "markdown",
   "id": "5e7c0e10",
   "metadata": {},
   "source": [
    " "
   ]
  },
  {
   "cell_type": "markdown",
   "id": "51e29e07",
   "metadata": {},
   "source": [
    "<a id = 'income_cat'></a>\n",
    "**Income_cat:**\n",
    "The `Income` column ranges from **29562** to **104581** USD. It can be categorized as,\n",
    "\n",
    "* 29562 to 50000 - low,\n",
    "* 50000 to 70000 - medium,\n",
    "* 70000 to 104581 - high"
   ]
  },
  {
   "cell_type": "code",
   "execution_count": 10,
   "id": "14a9dcf0",
   "metadata": {},
   "outputs": [],
   "source": [
    "df['Income_cat'] = pd.cut(df['Income'], bins = [0, 50000, 70000, 104581], labels = ['low', 'medium', 'high'])"
   ]
  },
  {
   "cell_type": "markdown",
   "id": "55432b83",
   "metadata": {},
   "source": [
    " "
   ]
  },
  {
   "cell_type": "code",
   "execution_count": 11,
   "id": "9b9859ad",
   "metadata": {},
   "outputs": [
    {
     "data": {
      "text/html": [
       "<div>\n",
       "<style scoped>\n",
       "    .dataframe tbody tr th:only-of-type {\n",
       "        vertical-align: middle;\n",
       "    }\n",
       "\n",
       "    .dataframe tbody tr th {\n",
       "        vertical-align: top;\n",
       "    }\n",
       "\n",
       "    .dataframe thead th {\n",
       "        text-align: right;\n",
       "    }\n",
       "</style>\n",
       "<table border=\"1\" class=\"dataframe\">\n",
       "  <thead>\n",
       "    <tr style=\"text-align: right;\">\n",
       "      <th></th>\n",
       "      <th>Product</th>\n",
       "      <th>Age</th>\n",
       "      <th>Gender</th>\n",
       "      <th>Education</th>\n",
       "      <th>MaritalStatus</th>\n",
       "      <th>Usage</th>\n",
       "      <th>Fitness</th>\n",
       "      <th>Income</th>\n",
       "      <th>Miles</th>\n",
       "      <th>Age_cat</th>\n",
       "      <th>Edu_cat</th>\n",
       "      <th>Usage_cat</th>\n",
       "      <th>Fitness_cat</th>\n",
       "      <th>Income_cat</th>\n",
       "    </tr>\n",
       "  </thead>\n",
       "  <tbody>\n",
       "    <tr>\n",
       "      <th>0</th>\n",
       "      <td>KP281</td>\n",
       "      <td>18</td>\n",
       "      <td>Male</td>\n",
       "      <td>14</td>\n",
       "      <td>Single</td>\n",
       "      <td>3</td>\n",
       "      <td>4</td>\n",
       "      <td>29562</td>\n",
       "      <td>112</td>\n",
       "      <td>young</td>\n",
       "      <td>Graduate</td>\n",
       "      <td>light_user</td>\n",
       "      <td>high</td>\n",
       "      <td>low</td>\n",
       "    </tr>\n",
       "    <tr>\n",
       "      <th>1</th>\n",
       "      <td>KP281</td>\n",
       "      <td>19</td>\n",
       "      <td>Male</td>\n",
       "      <td>15</td>\n",
       "      <td>Single</td>\n",
       "      <td>2</td>\n",
       "      <td>3</td>\n",
       "      <td>31836</td>\n",
       "      <td>75</td>\n",
       "      <td>young</td>\n",
       "      <td>Graduate</td>\n",
       "      <td>light_user</td>\n",
       "      <td>medium</td>\n",
       "      <td>low</td>\n",
       "    </tr>\n",
       "    <tr>\n",
       "      <th>2</th>\n",
       "      <td>KP281</td>\n",
       "      <td>19</td>\n",
       "      <td>Female</td>\n",
       "      <td>14</td>\n",
       "      <td>Partnered</td>\n",
       "      <td>4</td>\n",
       "      <td>3</td>\n",
       "      <td>30699</td>\n",
       "      <td>66</td>\n",
       "      <td>young</td>\n",
       "      <td>Graduate</td>\n",
       "      <td>moderate_user</td>\n",
       "      <td>medium</td>\n",
       "      <td>low</td>\n",
       "    </tr>\n",
       "    <tr>\n",
       "      <th>3</th>\n",
       "      <td>KP281</td>\n",
       "      <td>19</td>\n",
       "      <td>Male</td>\n",
       "      <td>12</td>\n",
       "      <td>Single</td>\n",
       "      <td>3</td>\n",
       "      <td>3</td>\n",
       "      <td>32973</td>\n",
       "      <td>85</td>\n",
       "      <td>young</td>\n",
       "      <td>Non_graduate</td>\n",
       "      <td>light_user</td>\n",
       "      <td>medium</td>\n",
       "      <td>low</td>\n",
       "    </tr>\n",
       "    <tr>\n",
       "      <th>4</th>\n",
       "      <td>KP281</td>\n",
       "      <td>20</td>\n",
       "      <td>Male</td>\n",
       "      <td>13</td>\n",
       "      <td>Partnered</td>\n",
       "      <td>4</td>\n",
       "      <td>2</td>\n",
       "      <td>35247</td>\n",
       "      <td>47</td>\n",
       "      <td>young</td>\n",
       "      <td>Graduate</td>\n",
       "      <td>moderate_user</td>\n",
       "      <td>low</td>\n",
       "      <td>low</td>\n",
       "    </tr>\n",
       "  </tbody>\n",
       "</table>\n",
       "</div>"
      ],
      "text/plain": [
       "  Product  Age  Gender  Education MaritalStatus  Usage  Fitness  Income  \\\n",
       "0   KP281   18    Male         14        Single      3        4   29562   \n",
       "1   KP281   19    Male         15        Single      2        3   31836   \n",
       "2   KP281   19  Female         14     Partnered      4        3   30699   \n",
       "3   KP281   19    Male         12        Single      3        3   32973   \n",
       "4   KP281   20    Male         13     Partnered      4        2   35247   \n",
       "\n",
       "   Miles Age_cat       Edu_cat      Usage_cat Fitness_cat Income_cat  \n",
       "0    112   young      Graduate     light_user        high        low  \n",
       "1     75   young      Graduate     light_user      medium        low  \n",
       "2     66   young      Graduate  moderate_user      medium        low  \n",
       "3     85   young  Non_graduate     light_user      medium        low  \n",
       "4     47   young      Graduate  moderate_user         low        low  "
      ]
     },
     "execution_count": 11,
     "metadata": {},
     "output_type": "execute_result"
    }
   ],
   "source": [
    "df.head(5)"
   ]
  },
  {
   "cell_type": "markdown",
   "id": "e3a41302",
   "metadata": {},
   "source": [
    " "
   ]
  },
  {
   "cell_type": "markdown",
   "id": "196fab86",
   "metadata": {},
   "source": [
    "### VISUAL ANALYSIS"
   ]
  },
  {
   "cell_type": "code",
   "execution_count": 12,
   "id": "2362866f",
   "metadata": {},
   "outputs": [
    {
     "data": {
      "image/png": "[encoded data removed]",
      "text/plain": [
       "<Figure size 800x500 with 1 Axes>"
      ]
     },
     "metadata": {},
     "output_type": "display_data"
    }
   ],
   "source": [
    "plt.figure(figsize=(8,5))\n",
    "sns.countplot(data= df, x = 'Product', hue = 'Gender')\n",
    "plt.show()"
   ]
  },
  {
   "cell_type": "markdown",
   "id": "04856dc3",
   "metadata": {},
   "source": [
    "**Insights:**\n",
    "* The KP281 model was the most sold model and the KP781 model was the least sold model."
   ]
  },
  {
   "cell_type": "markdown",
   "id": "be2c7fb8",
   "metadata": {},
   "source": [
    "**Detect Outliers:**"
   ]
  },
  {
   "cell_type": "code",
   "execution_count": 13,
   "id": "c22ec507",
   "metadata": {
    "scrolled": false
   },
   "outputs": [
    {
     "data": {
      "image/png": "[encoded data removed]",
      "text/plain": [
       "<Figure size 800x500 with 1 Axes>"
      ]
     },
     "metadata": {},
     "output_type": "display_data"
    }
   ],
   "source": [
    "plt.figure(figsize=(8,5))\n",
    "sns.boxplot(data= df, x = 'Product', y='Age', hue = 'Gender')\n",
    "plt.show()"
   ]
  },
  {
   "cell_type": "markdown",
   "id": "6a192b23",
   "metadata": {},
   "source": [
    "**Insights:**\n",
    "\n",
    "+ We have 2 outliers in the age column of the female customers who brought KP281 Model,\n",
    "+ There are 4 outliers in the age of the male customers who brought KP781 Model,\n",
    "+ Most of the users who bought KP281 and KP781 model has age less than 27 years."
   ]
  },
  {
   "cell_type": "code",
   "execution_count": 14,
   "id": "fc8a495f",
   "metadata": {},
   "outputs": [
    {
     "data": {
      "image/png": "[encoded data removed]",
      "text/plain": [
       "<Figure size 800x500 with 1 Axes>"
      ]
     },
     "metadata": {},
     "output_type": "display_data"
    }
   ],
   "source": [
    "plt.figure(figsize=(8,5))\n",
    "sns.boxplot(data= df, x = 'Product', y='Education', hue = 'Gender')\n",
    "plt.show()"
   ]
  },
  {
   "cell_type": "markdown",
   "id": "20b16c4a",
   "metadata": {},
   "source": [
    "**Insights:**\n",
    "\n",
    "+ We have only 1 outlier in the education column of the female customers who brought KP781 Model,\n",
    "+ The 50% of both male and female customers who brought the models KP281 and KP481 are having their education between 14 and 16 years,\n",
    "+ The 50% of male customers and 75% of female customers who brought KP781 model are having their education between 16 and 18 years"
   ]
  },
  {
   "cell_type": "code",
   "execution_count": 15,
   "id": "0ee277d9",
   "metadata": {},
   "outputs": [
    {
     "data": {
      "image/png": "[encoded data removed]",
      "text/plain": [
       "<Figure size 800x500 with 1 Axes>"
      ]
     },
     "metadata": {},
     "output_type": "display_data"
    }
   ],
   "source": [
    "plt.figure(figsize=(8,5))\n",
    "sns.boxplot(data= df, x = 'Product', y='Usage', hue = 'Gender')\n",
    "plt.show()"
   ]
  },
  {
   "cell_type": "markdown",
   "id": "a300f42a",
   "metadata": {},
   "source": [
    "**Insights:**\n",
    "\n",
    "+ We have 1 outlier in the usage column of the female customers who brought KP281 Model,\n",
    "+ There are 2 outliers in the usage column of the male customers who brought KP481 Model,\n",
    "+ There is 1 outlier in the usage column of the male customer who brought KP781 model"
   ]
  },
  {
   "cell_type": "code",
   "execution_count": 16,
   "id": "d54b8eed",
   "metadata": {},
   "outputs": [
    {
     "data": {
      "image/png": "[encoded data removed]",
      "text/plain": [
       "<Figure size 800x500 with 1 Axes>"
      ]
     },
     "metadata": {},
     "output_type": "display_data"
    }
   ],
   "source": [
    "plt.figure(figsize=(8,5))\n",
    "sns.boxplot(data= df, x = 'Product', y='Fitness', hue = 'Gender')\n",
    "plt.show()"
   ]
  },
  {
   "cell_type": "markdown",
   "id": "99fdda3d",
   "metadata": {},
   "source": [
    "**Insights:**\n",
    "\n",
    "+ Most of the users who bought KP281 and KP481 model are in the fitness level 3,\n",
    "+ Most of the users who bought KP781 model have fitness level between 4 and 5."
   ]
  },
  {
   "cell_type": "code",
   "execution_count": 17,
   "id": "87dfc475",
   "metadata": {},
   "outputs": [
    {
     "data": {
      "image/png": "[encoded data removed]",
      "text/plain": [
       "<Figure size 800x500 with 1 Axes>"
      ]
     },
     "metadata": {},
     "output_type": "display_data"
    }
   ],
   "source": [
    "plt.figure(figsize=(8,5))\n",
    "sns.boxplot(data= df, x = 'Product', y='Income', hue = 'Gender')\n",
    "plt.show()"
   ]
  },
  {
   "cell_type": "markdown",
   "id": "f1ed48fd",
   "metadata": {},
   "source": [
    "**Insights:**\n",
    "\n",
    "+ We have 2 outliers in the income column of the female customers who brought KP481 Model,\n",
    "+ We can clearly see that more than 50% of the customers who bought the KP781 model has salary greater than the maximum salary of the customers who bought the other two models"
   ]
  },
  {
   "cell_type": "markdown",
   "id": "95df3462",
   "metadata": {},
   "source": [
    "**Check if features like marital status, age have any effect on the product purchased:**"
   ]
  },
  {
   "cell_type": "code",
   "execution_count": 18,
   "id": "634c69dc",
   "metadata": {},
   "outputs": [
    {
     "data": {
      "image/png": "[encoded data removed]",
      "text/plain": [
       "<Figure size 800x500 with 1 Axes>"
      ]
     },
     "metadata": {},
     "output_type": "display_data"
    }
   ],
   "source": [
    "plt.figure(figsize=(8,5))\n",
    "sns.countplot(data= df, x = 'Product', hue = 'MaritalStatus')\n",
    "plt.show()"
   ]
  },
  {
   "cell_type": "markdown",
   "id": "f4aa41f1",
   "metadata": {},
   "source": [
    "**Insights:**\n",
    "* For all the models, Partnered customers buys more than the single customers"
   ]
  },
  {
   "cell_type": "code",
   "execution_count": 19,
   "id": "19c45e93",
   "metadata": {},
   "outputs": [
    {
     "data": {
      "image/png": "[encoded data removed]",
      "text/plain": [
       "<Figure size 1000x800 with 1 Axes>"
      ]
     },
     "metadata": {},
     "output_type": "display_data"
    }
   ],
   "source": [
    "plt.figure(figsize=(10,8))\n",
    "sns.scatterplot(data= df, x = 'Age', y='Income', hue = 'Product', size = 'Fitness')\n",
    "plt.show()"
   ]
  },
  {
   "cell_type": "markdown",
   "id": "e6bad00f",
   "metadata": {},
   "source": [
    "**Insights:**\n",
    "\n",
    "+ We can see that customers with **age** greater than **25** and **income** greater than **70000** and with **high fitness** level bought **KP781** model,\n",
    "+ Customers with **age greater than 35** and **income lesser than 60000** has mostly bought **KP281** model"
   ]
  },
  {
   "cell_type": "markdown",
   "id": "cc4f62cb",
   "metadata": {},
   "source": [
    "**Check correlation among different factors:**"
   ]
  },
  {
   "cell_type": "code",
   "execution_count": 20,
   "id": "dbaeef2b",
   "metadata": {},
   "outputs": [
    {
     "data": {
      "image/png": "[encoded data removed]",
      "text/plain": [
       "<Figure size 640x480 with 2 Axes>"
      ]
     },
     "metadata": {},
     "output_type": "display_data"
    }
   ],
   "source": [
    "sns.heatmap(data = df.corr(), annot = True)\n",
    "plt.show()"
   ]
  },
  {
   "cell_type": "markdown",
   "id": "26af2b62",
   "metadata": {},
   "source": [
    "**Insights:**\n",
    "* The usage & Income has high correlation, which means higher income customers uses the treadmill more,\n",
    "* The usage & fitness also has high correlation,  which means customers with higher fitness level also uses the treadmill more"
   ]
  },
  {
   "cell_type": "markdown",
   "id": "9659c7ec",
   "metadata": {},
   "source": [
    " "
   ]
  },
  {
   "cell_type": "markdown",
   "id": "04fd4c65",
   "metadata": {},
   "source": [
    "**Recommendations:**\n",
    "\n",
    "Based on the visual analysis,\n",
    "* We can recommend the KP781 model for the users with income greater than 70000 and high fitness level,\n",
    "* We can recommend the KP481 model for the users with income between 50000 and 60000,\n",
    "* We can recommend the KP281 model for the users with income lesser than 50000 and age greater than 35"
   ]
  },
  {
   "cell_type": "markdown",
   "id": "b0eff59b",
   "metadata": {},
   "source": [
    "### PROBABILITIES"
   ]
  },
  {
   "cell_type": "markdown",
   "id": "0f1033b5",
   "metadata": {},
   "source": [
    "**Marginal & Joint Probability:**"
   ]
  },
  {
   "cell_type": "code",
   "execution_count": 21,
   "id": "134e0087",
   "metadata": {},
   "outputs": [
    {
     "data": {
      "text/html": [
       "<div>\n",
       "<style scoped>\n",
       "    .dataframe tbody tr th:only-of-type {\n",
       "        vertical-align: middle;\n",
       "    }\n",
       "\n",
       "    .dataframe tbody tr th {\n",
       "        vertical-align: top;\n",
       "    }\n",
       "\n",
       "    .dataframe thead th {\n",
       "        text-align: right;\n",
       "    }\n",
       "</style>\n",
       "<table border=\"1\" class=\"dataframe\">\n",
       "  <thead>\n",
       "    <tr style=\"text-align: right;\">\n",
       "      <th>Gender</th>\n",
       "      <th>Female</th>\n",
       "      <th>Male</th>\n",
       "      <th>All</th>\n",
       "    </tr>\n",
       "    <tr>\n",
       "      <th>Product</th>\n",
       "      <th></th>\n",
       "      <th></th>\n",
       "      <th></th>\n",
       "    </tr>\n",
       "  </thead>\n",
       "  <tbody>\n",
       "    <tr>\n",
       "      <th>KP281</th>\n",
       "      <td>0.222222</td>\n",
       "      <td>0.222222</td>\n",
       "      <td>0.444444</td>\n",
       "    </tr>\n",
       "    <tr>\n",
       "      <th>KP481</th>\n",
       "      <td>0.161111</td>\n",
       "      <td>0.172222</td>\n",
       "      <td>0.333333</td>\n",
       "    </tr>\n",
       "    <tr>\n",
       "      <th>KP781</th>\n",
       "      <td>0.038889</td>\n",
       "      <td>0.183333</td>\n",
       "      <td>0.222222</td>\n",
       "    </tr>\n",
       "    <tr>\n",
       "      <th>All</th>\n",
       "      <td>0.422222</td>\n",
       "      <td>0.577778</td>\n",
       "      <td>1.000000</td>\n",
       "    </tr>\n",
       "  </tbody>\n",
       "</table>\n",
       "</div>"
      ],
      "text/plain": [
       "Gender     Female      Male       All\n",
       "Product                              \n",
       "KP281    0.222222  0.222222  0.444444\n",
       "KP481    0.161111  0.172222  0.333333\n",
       "KP781    0.038889  0.183333  0.222222\n",
       "All      0.422222  0.577778  1.000000"
      ]
     },
     "execution_count": 21,
     "metadata": {},
     "output_type": "execute_result"
    }
   ],
   "source": [
    "pd.crosstab(df['Product'], df['Gender'], normalize = 'all', margins = True)"
   ]
  },
  {
   "cell_type": "markdown",
   "id": "ea16bb8b",
   "metadata": {},
   "source": [
    "**Insight:**\n",
    "+ The probability of male purchasing a product is 0.57\n",
    "+ The probability of purchasing KP281 is 0.44\n",
    "+ The probability of a female purchasing KP281 is 0.22 and a male purchasing KP281 is also 0.22\n",
    "+ The probability of a male purchasing KP481 is 0.17\n",
    "+ The probability of a male purchasing KP781 is 0.18"
   ]
  },
  {
   "cell_type": "code",
   "execution_count": 22,
   "id": "dad6f236",
   "metadata": {},
   "outputs": [
    {
     "data": {
      "text/html": [
       "<div>\n",
       "<style scoped>\n",
       "    .dataframe tbody tr th:only-of-type {\n",
       "        vertical-align: middle;\n",
       "    }\n",
       "\n",
       "    .dataframe tbody tr th {\n",
       "        vertical-align: top;\n",
       "    }\n",
       "\n",
       "    .dataframe thead th {\n",
       "        text-align: right;\n",
       "    }\n",
       "</style>\n",
       "<table border=\"1\" class=\"dataframe\">\n",
       "  <thead>\n",
       "    <tr style=\"text-align: right;\">\n",
       "      <th>MaritalStatus</th>\n",
       "      <th>Partnered</th>\n",
       "      <th>Single</th>\n",
       "      <th>All</th>\n",
       "    </tr>\n",
       "    <tr>\n",
       "      <th>Product</th>\n",
       "      <th></th>\n",
       "      <th></th>\n",
       "      <th></th>\n",
       "    </tr>\n",
       "  </thead>\n",
       "  <tbody>\n",
       "    <tr>\n",
       "      <th>KP281</th>\n",
       "      <td>0.266667</td>\n",
       "      <td>0.177778</td>\n",
       "      <td>0.444444</td>\n",
       "    </tr>\n",
       "    <tr>\n",
       "      <th>KP481</th>\n",
       "      <td>0.200000</td>\n",
       "      <td>0.133333</td>\n",
       "      <td>0.333333</td>\n",
       "    </tr>\n",
       "    <tr>\n",
       "      <th>KP781</th>\n",
       "      <td>0.127778</td>\n",
       "      <td>0.094444</td>\n",
       "      <td>0.222222</td>\n",
       "    </tr>\n",
       "    <tr>\n",
       "      <th>All</th>\n",
       "      <td>0.594444</td>\n",
       "      <td>0.405556</td>\n",
       "      <td>1.000000</td>\n",
       "    </tr>\n",
       "  </tbody>\n",
       "</table>\n",
       "</div>"
      ],
      "text/plain": [
       "MaritalStatus  Partnered    Single       All\n",
       "Product                                     \n",
       "KP281           0.266667  0.177778  0.444444\n",
       "KP481           0.200000  0.133333  0.333333\n",
       "KP781           0.127778  0.094444  0.222222\n",
       "All             0.594444  0.405556  1.000000"
      ]
     },
     "execution_count": 22,
     "metadata": {},
     "output_type": "execute_result"
    }
   ],
   "source": [
    "pd.crosstab(df['Product'], df['MaritalStatus'], normalize = 'all', margins = True)"
   ]
  },
  {
   "cell_type": "markdown",
   "id": "560d9485",
   "metadata": {},
   "source": [
    "**Insights:**\n",
    "* The probability of a partnered customer purchasing any product is 0.59,\n",
    "* The partnered customer has high probability of purchasing each product than the single customer"
   ]
  },
  {
   "cell_type": "code",
   "execution_count": 23,
   "id": "3e6fd3f4",
   "metadata": {},
   "outputs": [
    {
     "data": {
      "text/html": [
       "<div>\n",
       "<style scoped>\n",
       "    .dataframe tbody tr th:only-of-type {\n",
       "        vertical-align: middle;\n",
       "    }\n",
       "\n",
       "    .dataframe tbody tr th {\n",
       "        vertical-align: top;\n",
       "    }\n",
       "\n",
       "    .dataframe thead th {\n",
       "        text-align: right;\n",
       "    }\n",
       "</style>\n",
       "<table border=\"1\" class=\"dataframe\">\n",
       "  <thead>\n",
       "    <tr style=\"text-align: right;\">\n",
       "      <th>Income_cat</th>\n",
       "      <th>low</th>\n",
       "      <th>medium</th>\n",
       "      <th>high</th>\n",
       "      <th>All</th>\n",
       "    </tr>\n",
       "    <tr>\n",
       "      <th>Product</th>\n",
       "      <th></th>\n",
       "      <th></th>\n",
       "      <th></th>\n",
       "      <th></th>\n",
       "    </tr>\n",
       "  </thead>\n",
       "  <tbody>\n",
       "    <tr>\n",
       "      <th>KP281</th>\n",
       "      <td>0.266667</td>\n",
       "      <td>0.177778</td>\n",
       "      <td>0.000000</td>\n",
       "      <td>0.444444</td>\n",
       "    </tr>\n",
       "    <tr>\n",
       "      <th>KP481</th>\n",
       "      <td>0.166667</td>\n",
       "      <td>0.166667</td>\n",
       "      <td>0.000000</td>\n",
       "      <td>0.333333</td>\n",
       "    </tr>\n",
       "    <tr>\n",
       "      <th>KP781</th>\n",
       "      <td>0.027778</td>\n",
       "      <td>0.066667</td>\n",
       "      <td>0.127778</td>\n",
       "      <td>0.222222</td>\n",
       "    </tr>\n",
       "    <tr>\n",
       "      <th>All</th>\n",
       "      <td>0.461111</td>\n",
       "      <td>0.411111</td>\n",
       "      <td>0.127778</td>\n",
       "      <td>1.000000</td>\n",
       "    </tr>\n",
       "  </tbody>\n",
       "</table>\n",
       "</div>"
      ],
      "text/plain": [
       "Income_cat       low    medium      high       All\n",
       "Product                                           \n",
       "KP281       0.266667  0.177778  0.000000  0.444444\n",
       "KP481       0.166667  0.166667  0.000000  0.333333\n",
       "KP781       0.027778  0.066667  0.127778  0.222222\n",
       "All         0.461111  0.411111  0.127778  1.000000"
      ]
     },
     "execution_count": 23,
     "metadata": {},
     "output_type": "execute_result"
    }
   ],
   "source": [
    "pd.crosstab(df['Product'], df['Income_cat'], normalize = 'all', margins = True)"
   ]
  },
  {
   "cell_type": "markdown",
   "id": "7093fd47",
   "metadata": {},
   "source": [
    "**Insights:**\n",
    "+ The probability of a customer in low income category to buy a product is high (P = 0.46)\n",
    "+ The probability of a customer in high income category to buy KP281 or KP481 is 0 and KP781 is 0.12\n",
    "+ The probability of a low income customer to buy KP281 is 0.26\n",
    "\n",
    "Refer [Income_cat](#income_cat) for category."
   ]
  },
  {
   "cell_type": "code",
   "execution_count": 24,
   "id": "d4927c13",
   "metadata": {},
   "outputs": [
    {
     "data": {
      "text/html": [
       "<div>\n",
       "<style scoped>\n",
       "    .dataframe tbody tr th:only-of-type {\n",
       "        vertical-align: middle;\n",
       "    }\n",
       "\n",
       "    .dataframe tbody tr th {\n",
       "        vertical-align: top;\n",
       "    }\n",
       "\n",
       "    .dataframe thead th {\n",
       "        text-align: right;\n",
       "    }\n",
       "</style>\n",
       "<table border=\"1\" class=\"dataframe\">\n",
       "  <thead>\n",
       "    <tr style=\"text-align: right;\">\n",
       "      <th>Fitness_cat</th>\n",
       "      <th>low</th>\n",
       "      <th>medium</th>\n",
       "      <th>high</th>\n",
       "      <th>All</th>\n",
       "    </tr>\n",
       "    <tr>\n",
       "      <th>Product</th>\n",
       "      <th></th>\n",
       "      <th></th>\n",
       "      <th></th>\n",
       "      <th></th>\n",
       "    </tr>\n",
       "  </thead>\n",
       "  <tbody>\n",
       "    <tr>\n",
       "      <th>KP281</th>\n",
       "      <td>0.083333</td>\n",
       "      <td>0.300000</td>\n",
       "      <td>0.061111</td>\n",
       "      <td>0.444444</td>\n",
       "    </tr>\n",
       "    <tr>\n",
       "      <th>KP481</th>\n",
       "      <td>0.072222</td>\n",
       "      <td>0.216667</td>\n",
       "      <td>0.044444</td>\n",
       "      <td>0.333333</td>\n",
       "    </tr>\n",
       "    <tr>\n",
       "      <th>KP781</th>\n",
       "      <td>0.000000</td>\n",
       "      <td>0.022222</td>\n",
       "      <td>0.200000</td>\n",
       "      <td>0.222222</td>\n",
       "    </tr>\n",
       "    <tr>\n",
       "      <th>All</th>\n",
       "      <td>0.155556</td>\n",
       "      <td>0.538889</td>\n",
       "      <td>0.305556</td>\n",
       "      <td>1.000000</td>\n",
       "    </tr>\n",
       "  </tbody>\n",
       "</table>\n",
       "</div>"
      ],
      "text/plain": [
       "Fitness_cat       low    medium      high       All\n",
       "Product                                            \n",
       "KP281        0.083333  0.300000  0.061111  0.444444\n",
       "KP481        0.072222  0.216667  0.044444  0.333333\n",
       "KP781        0.000000  0.022222  0.200000  0.222222\n",
       "All          0.155556  0.538889  0.305556  1.000000"
      ]
     },
     "execution_count": 24,
     "metadata": {},
     "output_type": "execute_result"
    }
   ],
   "source": [
    "pd.crosstab(df['Product'], df['Fitness_cat'], normalize = 'all', margins = True)"
   ]
  },
  {
   "cell_type": "markdown",
   "id": "46a534b0",
   "metadata": {},
   "source": [
    "**Insights:**\n",
    "+ The probability of a customer with medium level of fitness to buy any product is 0.53 and with low level of fitness to buy any product is 0.15,\n",
    "+ The probability of a customer with medium level of fitness to buy KP281 is 0.30\n",
    "+ The probability of a customer with medium level of fitness to buy KP481 is 0.21\n",
    "+ The probability of a customer with high level of fitness to buy KP781 is 0.20\n",
    "\n",
    "Refer [Fitness_cat](#fitness_cat) for category."
   ]
  },
  {
   "cell_type": "markdown",
   "id": "63ad42fb",
   "metadata": {},
   "source": [
    " "
   ]
  },
  {
   "cell_type": "markdown",
   "id": "15b1df61",
   "metadata": {},
   "source": [
    "**Conditional Probability:**"
   ]
  },
  {
   "cell_type": "code",
   "execution_count": 25,
   "id": "a7e8e658",
   "metadata": {},
   "outputs": [
    {
     "data": {
      "text/html": [
       "<div>\n",
       "<style scoped>\n",
       "    .dataframe tbody tr th:only-of-type {\n",
       "        vertical-align: middle;\n",
       "    }\n",
       "\n",
       "    .dataframe tbody tr th {\n",
       "        vertical-align: top;\n",
       "    }\n",
       "\n",
       "    .dataframe thead th {\n",
       "        text-align: right;\n",
       "    }\n",
       "</style>\n",
       "<table border=\"1\" class=\"dataframe\">\n",
       "  <thead>\n",
       "    <tr style=\"text-align: right;\">\n",
       "      <th>Gender</th>\n",
       "      <th>Female</th>\n",
       "      <th>Male</th>\n",
       "      <th>All</th>\n",
       "    </tr>\n",
       "    <tr>\n",
       "      <th>Product</th>\n",
       "      <th></th>\n",
       "      <th></th>\n",
       "      <th></th>\n",
       "    </tr>\n",
       "  </thead>\n",
       "  <tbody>\n",
       "    <tr>\n",
       "      <th>KP281</th>\n",
       "      <td>0.526316</td>\n",
       "      <td>0.384615</td>\n",
       "      <td>0.444444</td>\n",
       "    </tr>\n",
       "    <tr>\n",
       "      <th>KP481</th>\n",
       "      <td>0.381579</td>\n",
       "      <td>0.298077</td>\n",
       "      <td>0.333333</td>\n",
       "    </tr>\n",
       "    <tr>\n",
       "      <th>KP781</th>\n",
       "      <td>0.092105</td>\n",
       "      <td>0.317308</td>\n",
       "      <td>0.222222</td>\n",
       "    </tr>\n",
       "  </tbody>\n",
       "</table>\n",
       "</div>"
      ],
      "text/plain": [
       "Gender     Female      Male       All\n",
       "Product                              \n",
       "KP281    0.526316  0.384615  0.444444\n",
       "KP481    0.381579  0.298077  0.333333\n",
       "KP781    0.092105  0.317308  0.222222"
      ]
     },
     "execution_count": 25,
     "metadata": {},
     "output_type": "execute_result"
    }
   ],
   "source": [
    "pd.crosstab(df['Product'], df['Gender'], normalize = 'columns', margins = True)"
   ]
  },
  {
   "cell_type": "markdown",
   "id": "1c4e2968",
   "metadata": {},
   "source": [
    "**Insight:**\n",
    "+ The probability of a customer to buy KP281 given the customer is female is 0.52\n",
    "+ The probability of a customer to buy KP481 given the customer is female is 0.38\n",
    "+ The probability of a customer to buy KP781 given the customer is male is 0.31"
   ]
  },
  {
   "cell_type": "code",
   "execution_count": 26,
   "id": "f0bffa4d",
   "metadata": {},
   "outputs": [
    {
     "data": {
      "text/html": [
       "<div>\n",
       "<style scoped>\n",
       "    .dataframe tbody tr th:only-of-type {\n",
       "        vertical-align: middle;\n",
       "    }\n",
       "\n",
       "    .dataframe tbody tr th {\n",
       "        vertical-align: top;\n",
       "    }\n",
       "\n",
       "    .dataframe thead th {\n",
       "        text-align: right;\n",
       "    }\n",
       "</style>\n",
       "<table border=\"1\" class=\"dataframe\">\n",
       "  <thead>\n",
       "    <tr style=\"text-align: right;\">\n",
       "      <th>MaritalStatus</th>\n",
       "      <th>Partnered</th>\n",
       "      <th>Single</th>\n",
       "      <th>All</th>\n",
       "    </tr>\n",
       "    <tr>\n",
       "      <th>Product</th>\n",
       "      <th></th>\n",
       "      <th></th>\n",
       "      <th></th>\n",
       "    </tr>\n",
       "  </thead>\n",
       "  <tbody>\n",
       "    <tr>\n",
       "      <th>KP281</th>\n",
       "      <td>0.448598</td>\n",
       "      <td>0.438356</td>\n",
       "      <td>0.444444</td>\n",
       "    </tr>\n",
       "    <tr>\n",
       "      <th>KP481</th>\n",
       "      <td>0.336449</td>\n",
       "      <td>0.328767</td>\n",
       "      <td>0.333333</td>\n",
       "    </tr>\n",
       "    <tr>\n",
       "      <th>KP781</th>\n",
       "      <td>0.214953</td>\n",
       "      <td>0.232877</td>\n",
       "      <td>0.222222</td>\n",
       "    </tr>\n",
       "  </tbody>\n",
       "</table>\n",
       "</div>"
      ],
      "text/plain": [
       "MaritalStatus  Partnered    Single       All\n",
       "Product                                     \n",
       "KP281           0.448598  0.438356  0.444444\n",
       "KP481           0.336449  0.328767  0.333333\n",
       "KP781           0.214953  0.232877  0.222222"
      ]
     },
     "execution_count": 26,
     "metadata": {},
     "output_type": "execute_result"
    }
   ],
   "source": [
    "pd.crosstab(df['Product'], df['MaritalStatus'], normalize = 'columns', margins = True)"
   ]
  },
  {
   "cell_type": "markdown",
   "id": "1ba2b448",
   "metadata": {},
   "source": [
    "**Insights:**\n",
    "* For each model, the probability of a partnered customer to buy that product has almost equal probability as Single customer "
   ]
  },
  {
   "cell_type": "code",
   "execution_count": 27,
   "id": "1d7f821d",
   "metadata": {},
   "outputs": [
    {
     "data": {
      "text/html": [
       "<div>\n",
       "<style scoped>\n",
       "    .dataframe tbody tr th:only-of-type {\n",
       "        vertical-align: middle;\n",
       "    }\n",
       "\n",
       "    .dataframe tbody tr th {\n",
       "        vertical-align: top;\n",
       "    }\n",
       "\n",
       "    .dataframe thead th {\n",
       "        text-align: right;\n",
       "    }\n",
       "</style>\n",
       "<table border=\"1\" class=\"dataframe\">\n",
       "  <thead>\n",
       "    <tr style=\"text-align: right;\">\n",
       "      <th>Income_cat</th>\n",
       "      <th>low</th>\n",
       "      <th>medium</th>\n",
       "      <th>high</th>\n",
       "      <th>All</th>\n",
       "    </tr>\n",
       "    <tr>\n",
       "      <th>Product</th>\n",
       "      <th></th>\n",
       "      <th></th>\n",
       "      <th></th>\n",
       "      <th></th>\n",
       "    </tr>\n",
       "  </thead>\n",
       "  <tbody>\n",
       "    <tr>\n",
       "      <th>KP281</th>\n",
       "      <td>0.578313</td>\n",
       "      <td>0.432432</td>\n",
       "      <td>0.0</td>\n",
       "      <td>0.444444</td>\n",
       "    </tr>\n",
       "    <tr>\n",
       "      <th>KP481</th>\n",
       "      <td>0.361446</td>\n",
       "      <td>0.405405</td>\n",
       "      <td>0.0</td>\n",
       "      <td>0.333333</td>\n",
       "    </tr>\n",
       "    <tr>\n",
       "      <th>KP781</th>\n",
       "      <td>0.060241</td>\n",
       "      <td>0.162162</td>\n",
       "      <td>1.0</td>\n",
       "      <td>0.222222</td>\n",
       "    </tr>\n",
       "  </tbody>\n",
       "</table>\n",
       "</div>"
      ],
      "text/plain": [
       "Income_cat       low    medium  high       All\n",
       "Product                                       \n",
       "KP281       0.578313  0.432432   0.0  0.444444\n",
       "KP481       0.361446  0.405405   0.0  0.333333\n",
       "KP781       0.060241  0.162162   1.0  0.222222"
      ]
     },
     "execution_count": 27,
     "metadata": {},
     "output_type": "execute_result"
    }
   ],
   "source": [
    "pd.crosstab(df['Product'], df['Income_cat'], normalize = 'columns', margins = True)"
   ]
  },
  {
   "cell_type": "markdown",
   "id": "0502c3fb",
   "metadata": {},
   "source": [
    "**Insights:**\n",
    "+ The probability of a customer to buy KP281 given the customer is in low income category is 0.57\n",
    "+ The probability of a customer to buy KP481 given the customer is in medium income category is 0.40\n",
    "+ The probability of a customer to buy KP781 given the customer is in high income category is 1, which means all the customers with high income has bought only the KP781 model.\n",
    "\n",
    "Refer [Income_cat](#income_cat) for category."
   ]
  },
  {
   "cell_type": "code",
   "execution_count": 28,
   "id": "385823d5",
   "metadata": {},
   "outputs": [
    {
     "data": {
      "text/html": [
       "<div>\n",
       "<style scoped>\n",
       "    .dataframe tbody tr th:only-of-type {\n",
       "        vertical-align: middle;\n",
       "    }\n",
       "\n",
       "    .dataframe tbody tr th {\n",
       "        vertical-align: top;\n",
       "    }\n",
       "\n",
       "    .dataframe thead th {\n",
       "        text-align: right;\n",
       "    }\n",
       "</style>\n",
       "<table border=\"1\" class=\"dataframe\">\n",
       "  <thead>\n",
       "    <tr style=\"text-align: right;\">\n",
       "      <th>Fitness_cat</th>\n",
       "      <th>low</th>\n",
       "      <th>medium</th>\n",
       "      <th>high</th>\n",
       "      <th>All</th>\n",
       "    </tr>\n",
       "    <tr>\n",
       "      <th>Product</th>\n",
       "      <th></th>\n",
       "      <th></th>\n",
       "      <th></th>\n",
       "      <th></th>\n",
       "    </tr>\n",
       "  </thead>\n",
       "  <tbody>\n",
       "    <tr>\n",
       "      <th>KP281</th>\n",
       "      <td>0.535714</td>\n",
       "      <td>0.556701</td>\n",
       "      <td>0.200000</td>\n",
       "      <td>0.444444</td>\n",
       "    </tr>\n",
       "    <tr>\n",
       "      <th>KP481</th>\n",
       "      <td>0.464286</td>\n",
       "      <td>0.402062</td>\n",
       "      <td>0.145455</td>\n",
       "      <td>0.333333</td>\n",
       "    </tr>\n",
       "    <tr>\n",
       "      <th>KP781</th>\n",
       "      <td>0.000000</td>\n",
       "      <td>0.041237</td>\n",
       "      <td>0.654545</td>\n",
       "      <td>0.222222</td>\n",
       "    </tr>\n",
       "  </tbody>\n",
       "</table>\n",
       "</div>"
      ],
      "text/plain": [
       "Fitness_cat       low    medium      high       All\n",
       "Product                                            \n",
       "KP281        0.535714  0.556701  0.200000  0.444444\n",
       "KP481        0.464286  0.402062  0.145455  0.333333\n",
       "KP781        0.000000  0.041237  0.654545  0.222222"
      ]
     },
     "execution_count": 28,
     "metadata": {},
     "output_type": "execute_result"
    }
   ],
   "source": [
    "pd.crosstab(df['Product'], df['Fitness_cat'], normalize = 'columns', margins = True)"
   ]
  },
  {
   "cell_type": "markdown",
   "id": "5b7863a5",
   "metadata": {},
   "source": [
    "**Insights:**\n",
    "+ The probability of a customer to buy KP281 given the customer has medium fitness level is 0.55\n",
    "+ The probability of a customer to buy KP481 given the customer has low fitness level is 0.46\n",
    "+ The probability of a customer to buy KP781 given the customer has high fitness level is 0.65\n",
    "\n",
    "Refer [Fitness_cat](#fitness_cat) for category."
   ]
  },
  {
   "cell_type": "markdown",
   "id": "65dcfc27",
   "metadata": {},
   "source": [
    "### SUMMARY:"
   ]
  },
  {
   "cell_type": "markdown",
   "id": "18d24831",
   "metadata": {},
   "source": [
    "### Insights:"
   ]
  },
  {
   "cell_type": "markdown",
   "id": "429e26fa",
   "metadata": {},
   "source": [
    "+ The KP281 model was sold approximately 40% in the overall sales,\n",
    "+ The median age of the buyers is 26 years,\n",
    "+ Male customers bought more than 50% in the overall purchase,\n",
    "+ More than 50% of the products were bought by married customers,\n",
    "+ The median salary of the customers is 50596.50,\n",
    "+ The KP281 model was the most sold model and the KP781 model was the least sold model,\n",
    "+ Most of the users who bought KP281 and KP781 model was of age less than 27 years,\n",
    "+ The 50% of both male and female customers who bought the models KP281 and KP481 are having their education between 14 and 16 years,\n",
    "+ The 50% of male customers and 75% of female customers who bought KP781 model are having their education between 16 and 18 years,\n",
    "+ Most of the users who bought KP281 and KP481 model are in the fitness level 3,\n",
    "+ Most of the users who bought KP781 model have fitness level between 4 and 5,\n",
    "+ More than 50% of the customers who bought the KP781 model has salary greater than the maximum salary of the customers who bought the other two models,\n",
    "+ For all the models, Partnered customers buys more than the single customers,\n",
    "+ We can see that customers with age greater than 25 and income greater than 70000 and with high fitness level bought KP781 model,\n",
    "+ Customers with age greater than 35 and income lesser than 60000 has mostly bought KP281 model,\n",
    "+ The usage & Income has high correlation, which means higher income customers uses the treadmill more,\n",
    "+ The usage & fitness also has high correlation, which means customers with higher fitness level also uses the treadmill more,\n",
    "\n",
    "All the above statements can be supported by the following probabilities,\n",
    "- The probability of male purchasing a product is 0.57\n",
    "- The probability of purchasing KP281 is 0.44\n",
    "- The probability of a female purchasing KP281 is 0.22 and a male purchasing KP281 is also 0.22\n",
    "- The probability of a male purchasing KP481 is 0.17\n",
    "- The probability of a male purchasing KP781 is 0.18\n",
    "- The probability of a partnered customer purchasing any product is 0.59,\n",
    "- The partnered customer has high probability of purchasing each product than the single customer\n",
    "- The probability of a customer in low income category to buy a product is high (P = 0.46)\n",
    "- The probability of a customer in high income category to buy KP281 or KP481 is 0 and KP781 is 0.12\n",
    "- The probability of a low income customer to buy KP281 is 0.26\n",
    "- The probability of a customer with medium level of fitness to buy any product is 0.53 and with low level of fitness to buy any product is 0.15,\n",
    "- The probability of a customer with medium level of fitness to buy KP281 is 0.30\n",
    "- The probability of a customer with medium level of fitness to buy KP481 is 0.21\n",
    "- The probability of a customer with high level of fitness to buy KP781 is 0.20\n",
    "- The probability of a customer to buy KP281 given the customer is female is 0.52\n",
    "- The probability of a customer to buy KP481 given the customer is female is 0.38\n",
    "- The probability of a customer to buy KP781 given the customer is male is 0.31\n",
    "- For each model, the probability of a partnered customer to buy that product has almost equal probability as Single customer\n",
    "- The probability of a customer to buy KP281 given the customer is in low income category is 0.57\n",
    "- The probability of a customer to buy KP481 given the customer is in medium income category is 0.40\n",
    "- The probability of a customer to buy KP781 given the customer is in high income category is 1, which means all the customers with high income has bought only the KP781 model.\n",
    "- The probability of a customer to buy KP281 given the customer has medium fitness level is 0.55\n",
    "- The probability of a customer to buy KP481 given the customer has low fitness level is 0.46\n",
    "- The probability of a customer to buy KP781 given the customer has high fitness level is 0.65\n"
   ]
  },
  {
   "cell_type": "markdown",
   "id": "25d31d89",
   "metadata": {},
   "source": [
    "### Recommendation:\n",
    "\n",
    "Based on the insights, we can profile our customers into 3 categories for 3 products.\n",
    "\n",
    "***Category-1 (Basic)***\n",
    "\n",
    "**Product**             : KP281 <br>\n",
    "**Age**                 : Less than 30 <br>\n",
    "**Gender**              : Female <br>\n",
    "**Education**           : 12 to 16 years <br>\n",
    "**Marital Status**      : Partnered <br>\n",
    "**Fitness**             : 3 on a scale of 5 <br>\n",
    "**Income**              : Less than 50,000 USD <br>\n",
    "\n",
    "\n",
    "***Category-2 (Budget)***\n",
    "\n",
    "**Product**             : KP481 <br>\n",
    "**Age**                 : Less than 35 <br>\n",
    "**Gender**              : Female <br>\n",
    "**Education**           : 14 to 16 years <br>\n",
    "**Marital Status**      : Partnered <br>\n",
    "**Fitness**             : less than 3 on a scale 5 <br>\n",
    "**Income**              : 50,000 USD to 70,000 USD <br>\n",
    "\n",
    "\n",
    "***Category-3 (Premium)***\n",
    "\n",
    "**Product**             : KP781 <br>\n",
    "**Age**                 : Less than 30 <br>\n",
    "**Gender**              : Male <br>\n",
    "**Education**           : Greater than 16 years <br>\n",
    "**Marital Status**      : Partnered <br>\n",
    "**Fitness**             : Greater than 3 on a scale of 5 <br>\n",
    "**Income**              : Greater than 70,000 USD <br>\n",
    "\n",
    "It is recommended that the marketing team would give preferences based on these categories for the target customers."
   ]
  },
  {
   "cell_type": "markdown",
   "id": "ec1f21a6",
   "metadata": {},
   "source": [
    "________________________________________________________________________________________________________________________________"
   ]
  },
  {
   "cell_type": "markdown",
   "id": "5848ee90",
   "metadata": {},
   "source": [
    "<H1 style=\"font-size:30px\">\n",
    "<p style=\"text-align: center;\">\n",
    "        <b>\n",
    "        THANK YOU !\n",
    "            </P>\n",
    "    <H1>\n",
    "    "
   ]
  }
 ],
 "metadata": {
  "kernelspec": {
   "display_name": "Python 3 (ipykernel)",
   "language": "python",
   "name": "python3"
  },
  "language_info": {
   "codemirror_mode": {
    "name": "ipython",
    "version": 3
   },
   "file_extension": ".py",
   "mimetype": "text/x-python",
   "name": "python",
   "nbconvert_exporter": "python",
   "pygments_lexer": "ipython3",
   "version": "3.9.13"
  }
 },
 "nbformat": 4,
 "nbformat_minor": 5
}
