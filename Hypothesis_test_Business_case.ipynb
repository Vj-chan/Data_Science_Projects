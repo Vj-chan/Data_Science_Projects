{
 "cells": [
  {
   "cell_type": "markdown",
   "id": "83e3918e",
   "metadata": {},
   "source": [
    "# Business case study of a technology-driven mobility platform"
   ]
  },
  {
   "cell_type": "markdown",
   "id": "30e85fa7",
   "metadata": {},
   "source": [
    "### Goal\n",
    "1. Which variables are significant in predicting the demand for shared electric cycles in the Indian market ?\n",
    "    - To understand which are the various factors affecting the demand for shared electric cycles in the Indian market.\n",
    "2. How well those variables describe the electric cycle demands ?\n",
    "    - To compare the impact of those factors affecting the demand compared with other factors."
   ]
  },
  {
   "cell_type": "markdown",
   "id": "6a28a938",
   "metadata": {},
   "source": [
    "### Importing necessary libraries"
   ]
  },
  {
   "cell_type": "code",
   "execution_count": 1,
   "id": "98c42fc2",
   "metadata": {},
   "outputs": [],
   "source": [
    "import math\n",
    "import numpy as np\n",
    "import pandas as pd\n",
    "from datetime import datetime as dt\n",
    "import matplotlib.pyplot as plt\n",
    "import seaborn as sns\n",
    "from scipy.stats import norm, ttest_ind, ttest_rel, f_oneway, kruskal, chisquare, chi2_contingency, levene, shapiro, normaltest"
   ]
  },
  {
   "cell_type": "markdown",
   "id": "63573be4",
   "metadata": {},
   "source": [
    "### Reading the CSV file and creating a dataframe"
   ]
  },
  {
   "cell_type": "code",
   "execution_count": 2,
   "id": "6a393ed5",
   "metadata": {},
   "outputs": [
    {
     "data": {
      "text/html": [
       "<div>\n",
       "<style scoped>\n",
       "    .dataframe tbody tr th:only-of-type {\n",
       "        vertical-align: middle;\n",
       "    }\n",
       "\n",
       "    .dataframe tbody tr th {\n",
       "        vertical-align: top;\n",
       "    }\n",
       "\n",
       "    .dataframe thead th {\n",
       "        text-align: right;\n",
       "    }\n",
       "</style>\n",
       "<table border=\"1\" class=\"dataframe\">\n",
       "  <thead>\n",
       "    <tr style=\"text-align: right;\">\n",
       "      <th></th>\n",
       "      <th>datetime</th>\n",
       "      <th>season</th>\n",
       "      <th>holiday</th>\n",
       "      <th>workingday</th>\n",
       "      <th>weather</th>\n",
       "      <th>temp</th>\n",
       "      <th>atemp</th>\n",
       "      <th>humidity</th>\n",
       "      <th>windspeed</th>\n",
       "      <th>casual</th>\n",
       "      <th>registered</th>\n",
       "      <th>count</th>\n",
       "    </tr>\n",
       "  </thead>\n",
       "  <tbody>\n",
       "    <tr>\n",
       "      <th>0</th>\n",
       "      <td>2011-01-01 00:00:00</td>\n",
       "      <td>1</td>\n",
       "      <td>0</td>\n",
       "      <td>0</td>\n",
       "      <td>1</td>\n",
       "      <td>9.84</td>\n",
       "      <td>14.395</td>\n",
       "      <td>81</td>\n",
       "      <td>0.0000</td>\n",
       "      <td>3</td>\n",
       "      <td>13</td>\n",
       "      <td>16</td>\n",
       "    </tr>\n",
       "    <tr>\n",
       "      <th>1</th>\n",
       "      <td>2011-01-01 01:00:00</td>\n",
       "      <td>1</td>\n",
       "      <td>0</td>\n",
       "      <td>0</td>\n",
       "      <td>1</td>\n",
       "      <td>9.02</td>\n",
       "      <td>13.635</td>\n",
       "      <td>80</td>\n",
       "      <td>0.0000</td>\n",
       "      <td>8</td>\n",
       "      <td>32</td>\n",
       "      <td>40</td>\n",
       "    </tr>\n",
       "    <tr>\n",
       "      <th>2</th>\n",
       "      <td>2011-01-01 02:00:00</td>\n",
       "      <td>1</td>\n",
       "      <td>0</td>\n",
       "      <td>0</td>\n",
       "      <td>1</td>\n",
       "      <td>9.02</td>\n",
       "      <td>13.635</td>\n",
       "      <td>80</td>\n",
       "      <td>0.0000</td>\n",
       "      <td>5</td>\n",
       "      <td>27</td>\n",
       "      <td>32</td>\n",
       "    </tr>\n",
       "    <tr>\n",
       "      <th>3</th>\n",
       "      <td>2011-01-01 03:00:00</td>\n",
       "      <td>1</td>\n",
       "      <td>0</td>\n",
       "      <td>0</td>\n",
       "      <td>1</td>\n",
       "      <td>9.84</td>\n",
       "      <td>14.395</td>\n",
       "      <td>75</td>\n",
       "      <td>0.0000</td>\n",
       "      <td>3</td>\n",
       "      <td>10</td>\n",
       "      <td>13</td>\n",
       "    </tr>\n",
       "    <tr>\n",
       "      <th>4</th>\n",
       "      <td>2011-01-01 04:00:00</td>\n",
       "      <td>1</td>\n",
       "      <td>0</td>\n",
       "      <td>0</td>\n",
       "      <td>1</td>\n",
       "      <td>9.84</td>\n",
       "      <td>14.395</td>\n",
       "      <td>75</td>\n",
       "      <td>0.0000</td>\n",
       "      <td>0</td>\n",
       "      <td>1</td>\n",
       "      <td>1</td>\n",
       "    </tr>\n",
       "    <tr>\n",
       "      <th>...</th>\n",
       "      <td>...</td>\n",
       "      <td>...</td>\n",
       "      <td>...</td>\n",
       "      <td>...</td>\n",
       "      <td>...</td>\n",
       "      <td>...</td>\n",
       "      <td>...</td>\n",
       "      <td>...</td>\n",
       "      <td>...</td>\n",
       "      <td>...</td>\n",
       "      <td>...</td>\n",
       "      <td>...</td>\n",
       "    </tr>\n",
       "    <tr>\n",
       "      <th>10881</th>\n",
       "      <td>2012-12-19 19:00:00</td>\n",
       "      <td>4</td>\n",
       "      <td>0</td>\n",
       "      <td>1</td>\n",
       "      <td>1</td>\n",
       "      <td>15.58</td>\n",
       "      <td>19.695</td>\n",
       "      <td>50</td>\n",
       "      <td>26.0027</td>\n",
       "      <td>7</td>\n",
       "      <td>329</td>\n",
       "      <td>336</td>\n",
       "    </tr>\n",
       "    <tr>\n",
       "      <th>10882</th>\n",
       "      <td>2012-12-19 20:00:00</td>\n",
       "      <td>4</td>\n",
       "      <td>0</td>\n",
       "      <td>1</td>\n",
       "      <td>1</td>\n",
       "      <td>14.76</td>\n",
       "      <td>17.425</td>\n",
       "      <td>57</td>\n",
       "      <td>15.0013</td>\n",
       "      <td>10</td>\n",
       "      <td>231</td>\n",
       "      <td>241</td>\n",
       "    </tr>\n",
       "    <tr>\n",
       "      <th>10883</th>\n",
       "      <td>2012-12-19 21:00:00</td>\n",
       "      <td>4</td>\n",
       "      <td>0</td>\n",
       "      <td>1</td>\n",
       "      <td>1</td>\n",
       "      <td>13.94</td>\n",
       "      <td>15.910</td>\n",
       "      <td>61</td>\n",
       "      <td>15.0013</td>\n",
       "      <td>4</td>\n",
       "      <td>164</td>\n",
       "      <td>168</td>\n",
       "    </tr>\n",
       "    <tr>\n",
       "      <th>10884</th>\n",
       "      <td>2012-12-19 22:00:00</td>\n",
       "      <td>4</td>\n",
       "      <td>0</td>\n",
       "      <td>1</td>\n",
       "      <td>1</td>\n",
       "      <td>13.94</td>\n",
       "      <td>17.425</td>\n",
       "      <td>61</td>\n",
       "      <td>6.0032</td>\n",
       "      <td>12</td>\n",
       "      <td>117</td>\n",
       "      <td>129</td>\n",
       "    </tr>\n",
       "    <tr>\n",
       "      <th>10885</th>\n",
       "      <td>2012-12-19 23:00:00</td>\n",
       "      <td>4</td>\n",
       "      <td>0</td>\n",
       "      <td>1</td>\n",
       "      <td>1</td>\n",
       "      <td>13.12</td>\n",
       "      <td>16.665</td>\n",
       "      <td>66</td>\n",
       "      <td>8.9981</td>\n",
       "      <td>4</td>\n",
       "      <td>84</td>\n",
       "      <td>88</td>\n",
       "    </tr>\n",
       "  </tbody>\n",
       "</table>\n",
       "<p>10886 rows × 12 columns</p>\n",
       "</div>"
      ],
      "text/plain": [
       "                  datetime  season  holiday  workingday  weather   temp  \\\n",
       "0      2011-01-01 00:00:00       1        0           0        1   9.84   \n",
       "1      2011-01-01 01:00:00       1        0           0        1   9.02   \n",
       "2      2011-01-01 02:00:00       1        0           0        1   9.02   \n",
       "3      2011-01-01 03:00:00       1        0           0        1   9.84   \n",
       "4      2011-01-01 04:00:00       1        0           0        1   9.84   \n",
       "...                    ...     ...      ...         ...      ...    ...   \n",
       "10881  2012-12-19 19:00:00       4        0           1        1  15.58   \n",
       "10882  2012-12-19 20:00:00       4        0           1        1  14.76   \n",
       "10883  2012-12-19 21:00:00       4        0           1        1  13.94   \n",
       "10884  2012-12-19 22:00:00       4        0           1        1  13.94   \n",
       "10885  2012-12-19 23:00:00       4        0           1        1  13.12   \n",
       "\n",
       "        atemp  humidity  windspeed  casual  registered  count  \n",
       "0      14.395        81     0.0000       3          13     16  \n",
       "1      13.635        80     0.0000       8          32     40  \n",
       "2      13.635        80     0.0000       5          27     32  \n",
       "3      14.395        75     0.0000       3          10     13  \n",
       "4      14.395        75     0.0000       0           1      1  \n",
       "...       ...       ...        ...     ...         ...    ...  \n",
       "10881  19.695        50    26.0027       7         329    336  \n",
       "10882  17.425        57    15.0013      10         231    241  \n",
       "10883  15.910        61    15.0013       4         164    168  \n",
       "10884  17.425        61     6.0032      12         117    129  \n",
       "10885  16.665        66     8.9981       4          84     88  \n",
       "\n",
       "[10886 rows x 12 columns]"
      ]
     },
     "execution_count": 2,
     "metadata": {},
     "output_type": "execute_result"
    }
   ],
   "source": [
    "df = pd.read_csv(r\"D:\\01 STUDY MATERIALS\\SCALER\\Core Module\\Yulu - Biz case\\Yulu-dataset.csv\")\n",
    "df"
   ]
  },
  {
   "cell_type": "markdown",
   "id": "557982cc",
   "metadata": {},
   "source": [
    "## Exploratory Analysis"
   ]
  },
  {
   "cell_type": "markdown",
   "id": "db8dd2c2",
   "metadata": {},
   "source": [
    "### Non-graphical Analysis"
   ]
  },
  {
   "cell_type": "code",
   "execution_count": 3,
   "id": "bfe19d97",
   "metadata": {},
   "outputs": [
    {
     "name": "stdout",
     "output_type": "stream",
     "text": [
      "<class 'pandas.core.frame.DataFrame'>\n",
      "RangeIndex: 10886 entries, 0 to 10885\n",
      "Data columns (total 12 columns):\n",
      " #   Column      Non-Null Count  Dtype  \n",
      "---  ------      --------------  -----  \n",
      " 0   datetime    10886 non-null  object \n",
      " 1   season      10886 non-null  int64  \n",
      " 2   holiday     10886 non-null  int64  \n",
      " 3   workingday  10886 non-null  int64  \n",
      " 4   weather     10886 non-null  int64  \n",
      " 5   temp        10886 non-null  float64\n",
      " 6   atemp       10886 non-null  float64\n",
      " 7   humidity    10886 non-null  int64  \n",
      " 8   windspeed   10886 non-null  float64\n",
      " 9   casual      10886 non-null  int64  \n",
      " 10  registered  10886 non-null  int64  \n",
      " 11  count       10886 non-null  int64  \n",
      "dtypes: float64(3), int64(8), object(1)\n",
      "memory usage: 1020.7+ KB\n"
     ]
    }
   ],
   "source": [
    "df.info()"
   ]
  },
  {
   "cell_type": "markdown",
   "id": "1cd7b62c",
   "metadata": {},
   "source": [
    "**Observations:**\n",
    "- The dataframe has **10886 rows and 11 columns**,\n",
    "- The data looks clean and has **no null values**,\n",
    "- The **datetime** column only is in **object** data type and the rest of all the columns are in **float** and **int** data types\n",
    "- The **season, holiday, workingday and weather** columns are categorical variables, but they are in **int** format and all others are numerical variables."
   ]
  },
  {
   "cell_type": "markdown",
   "id": "bdfa5b6b",
   "metadata": {},
   "source": [
    "Let's convert the datetime column to **datetime dtype**"
   ]
  },
  {
   "cell_type": "code",
   "execution_count": 4,
   "id": "b3ca78c9",
   "metadata": {},
   "outputs": [],
   "source": [
    "df['datetime'] = pd.to_datetime(df['datetime'])"
   ]
  },
  {
   "cell_type": "code",
   "execution_count": 5,
   "id": "f919aebe",
   "metadata": {},
   "outputs": [
    {
     "data": {
      "text/html": [
       "<div>\n",
       "<style scoped>\n",
       "    .dataframe tbody tr th:only-of-type {\n",
       "        vertical-align: middle;\n",
       "    }\n",
       "\n",
       "    .dataframe tbody tr th {\n",
       "        vertical-align: top;\n",
       "    }\n",
       "\n",
       "    .dataframe thead th {\n",
       "        text-align: right;\n",
       "    }\n",
       "</style>\n",
       "<table border=\"1\" class=\"dataframe\">\n",
       "  <thead>\n",
       "    <tr style=\"text-align: right;\">\n",
       "      <th></th>\n",
       "      <th>datetime</th>\n",
       "      <th>season</th>\n",
       "      <th>holiday</th>\n",
       "      <th>workingday</th>\n",
       "      <th>weather</th>\n",
       "      <th>temp</th>\n",
       "      <th>atemp</th>\n",
       "      <th>humidity</th>\n",
       "      <th>windspeed</th>\n",
       "      <th>casual</th>\n",
       "      <th>registered</th>\n",
       "      <th>count</th>\n",
       "    </tr>\n",
       "  </thead>\n",
       "  <tbody>\n",
       "    <tr>\n",
       "      <th>0</th>\n",
       "      <td>2011-01-01 00:00:00</td>\n",
       "      <td>1</td>\n",
       "      <td>0</td>\n",
       "      <td>0</td>\n",
       "      <td>1</td>\n",
       "      <td>9.84</td>\n",
       "      <td>14.395</td>\n",
       "      <td>81</td>\n",
       "      <td>0.0</td>\n",
       "      <td>3</td>\n",
       "      <td>13</td>\n",
       "      <td>16</td>\n",
       "    </tr>\n",
       "    <tr>\n",
       "      <th>1</th>\n",
       "      <td>2011-01-01 01:00:00</td>\n",
       "      <td>1</td>\n",
       "      <td>0</td>\n",
       "      <td>0</td>\n",
       "      <td>1</td>\n",
       "      <td>9.02</td>\n",
       "      <td>13.635</td>\n",
       "      <td>80</td>\n",
       "      <td>0.0</td>\n",
       "      <td>8</td>\n",
       "      <td>32</td>\n",
       "      <td>40</td>\n",
       "    </tr>\n",
       "    <tr>\n",
       "      <th>2</th>\n",
       "      <td>2011-01-01 02:00:00</td>\n",
       "      <td>1</td>\n",
       "      <td>0</td>\n",
       "      <td>0</td>\n",
       "      <td>1</td>\n",
       "      <td>9.02</td>\n",
       "      <td>13.635</td>\n",
       "      <td>80</td>\n",
       "      <td>0.0</td>\n",
       "      <td>5</td>\n",
       "      <td>27</td>\n",
       "      <td>32</td>\n",
       "    </tr>\n",
       "    <tr>\n",
       "      <th>3</th>\n",
       "      <td>2011-01-01 03:00:00</td>\n",
       "      <td>1</td>\n",
       "      <td>0</td>\n",
       "      <td>0</td>\n",
       "      <td>1</td>\n",
       "      <td>9.84</td>\n",
       "      <td>14.395</td>\n",
       "      <td>75</td>\n",
       "      <td>0.0</td>\n",
       "      <td>3</td>\n",
       "      <td>10</td>\n",
       "      <td>13</td>\n",
       "    </tr>\n",
       "    <tr>\n",
       "      <th>4</th>\n",
       "      <td>2011-01-01 04:00:00</td>\n",
       "      <td>1</td>\n",
       "      <td>0</td>\n",
       "      <td>0</td>\n",
       "      <td>1</td>\n",
       "      <td>9.84</td>\n",
       "      <td>14.395</td>\n",
       "      <td>75</td>\n",
       "      <td>0.0</td>\n",
       "      <td>0</td>\n",
       "      <td>1</td>\n",
       "      <td>1</td>\n",
       "    </tr>\n",
       "  </tbody>\n",
       "</table>\n",
       "</div>"
      ],
      "text/plain": [
       "             datetime  season  holiday  workingday  weather  temp   atemp  \\\n",
       "0 2011-01-01 00:00:00       1        0           0        1  9.84  14.395   \n",
       "1 2011-01-01 01:00:00       1        0           0        1  9.02  13.635   \n",
       "2 2011-01-01 02:00:00       1        0           0        1  9.02  13.635   \n",
       "3 2011-01-01 03:00:00       1        0           0        1  9.84  14.395   \n",
       "4 2011-01-01 04:00:00       1        0           0        1  9.84  14.395   \n",
       "\n",
       "   humidity  windspeed  casual  registered  count  \n",
       "0        81        0.0       3          13     16  \n",
       "1        80        0.0       8          32     40  \n",
       "2        80        0.0       5          27     32  \n",
       "3        75        0.0       3          10     13  \n",
       "4        75        0.0       0           1      1  "
      ]
     },
     "execution_count": 5,
     "metadata": {},
     "output_type": "execute_result"
    }
   ],
   "source": [
    "df.head()"
   ]
  },
  {
   "cell_type": "markdown",
   "id": "f22b35cc",
   "metadata": {},
   "source": [
    "Lets check for the unique values and their counts in those categorical columns"
   ]
  },
  {
   "cell_type": "code",
   "execution_count": 6,
   "id": "0d4243e4",
   "metadata": {},
   "outputs": [
    {
     "name": "stdout",
     "output_type": "stream",
     "text": [
      "\u001b[1mSEASON\u001b[0m\n",
      "4    2734\n",
      "2    2733\n",
      "3    2733\n",
      "1    2686\n",
      "Name: season, dtype: int64\n",
      "==============================\n",
      "\u001b[1mHOLIDAY\u001b[0m\n",
      "0    10575\n",
      "1      311\n",
      "Name: holiday, dtype: int64\n",
      "==============================\n",
      "\u001b[1mWORKINGDAY\u001b[0m\n",
      "1    7412\n",
      "0    3474\n",
      "Name: workingday, dtype: int64\n",
      "==============================\n",
      "\u001b[1mWEATHER\u001b[0m\n",
      "1    7192\n",
      "2    2834\n",
      "3     859\n",
      "4       1\n",
      "Name: weather, dtype: int64\n",
      "==============================\n"
     ]
    }
   ],
   "source": [
    "cat_columns = ['season', 'holiday', 'workingday', 'weather']\n",
    "for i in cat_columns:\n",
    "    print(\"\\033[1m\"+i.upper()+\"\\033[0m\")\n",
    "    print(df[i].value_counts())\n",
    "    print('='*30)"
   ]
  },
  {
   "cell_type": "markdown",
   "id": "882f79a4",
   "metadata": {},
   "source": [
    "#### Categorization"
   ]
  },
  {
   "cell_type": "markdown",
   "id": "ca4f2c7b",
   "metadata": {},
   "source": [
    "Let's create the categories of those categorical columns for easy understanding during analysis."
   ]
  },
  {
   "cell_type": "markdown",
   "id": "76fec537",
   "metadata": {},
   "source": [
    "**Season_cat**"
   ]
  },
  {
   "cell_type": "code",
   "execution_count": 7,
   "id": "5b5c046a",
   "metadata": {},
   "outputs": [
    {
     "data": {
      "text/plain": [
       "winter    2734\n",
       "summer    2733\n",
       "fall      2733\n",
       "spring    2686\n",
       "Name: season_cat, dtype: int64"
      ]
     },
     "execution_count": 7,
     "metadata": {},
     "output_type": "execute_result"
    }
   ],
   "source": [
    "df['season_cat'] = pd.cut(df['season'], bins = [0,1,2,3,4], labels = ['spring', 'summer', 'fall', 'winter'])\n",
    "df['season_cat'].value_counts()"
   ]
  },
  {
   "cell_type": "markdown",
   "id": "0ecaf506",
   "metadata": {},
   "source": [
    "**Holiday_cat**"
   ]
  },
  {
   "cell_type": "code",
   "execution_count": 8,
   "id": "0e0f5562",
   "metadata": {},
   "outputs": [
    {
     "data": {
      "text/plain": [
       "no     10575\n",
       "yes      311\n",
       "Name: holiday_cat, dtype: int64"
      ]
     },
     "execution_count": 8,
     "metadata": {},
     "output_type": "execute_result"
    }
   ],
   "source": [
    "df['holiday_cat'] = pd.cut(df['holiday'], bins = [0,1,2], right = False, labels = ['no', 'yes'])\n",
    "df['holiday_cat'].value_counts()"
   ]
  },
  {
   "cell_type": "markdown",
   "id": "31b0c84e",
   "metadata": {},
   "source": [
    "**Workingday_cat**"
   ]
  },
  {
   "cell_type": "code",
   "execution_count": 9,
   "id": "7eccbca5",
   "metadata": {},
   "outputs": [
    {
     "data": {
      "text/plain": [
       "yes    7412\n",
       "no     3474\n",
       "Name: workingday_cat, dtype: int64"
      ]
     },
     "execution_count": 9,
     "metadata": {},
     "output_type": "execute_result"
    }
   ],
   "source": [
    "df['workingday_cat'] = pd.cut(df['workingday'], bins = [0,1,2], right = False, labels = ['no', 'yes'])\n",
    "df['workingday_cat'].value_counts()"
   ]
  },
  {
   "cell_type": "markdown",
   "id": "9f15ea30",
   "metadata": {},
   "source": [
    "**Weather_cat**"
   ]
  },
  {
   "cell_type": "code",
   "execution_count": 10,
   "id": "14a49875",
   "metadata": {},
   "outputs": [
    {
     "data": {
      "text/plain": [
       "clear              7192\n",
       "mist               2834\n",
       "light snow/rain     859\n",
       "heavy snow/rain       1\n",
       "Name: weather_cat, dtype: int64"
      ]
     },
     "execution_count": 10,
     "metadata": {},
     "output_type": "execute_result"
    }
   ],
   "source": [
    "df['weather_cat'] = pd.cut(df['weather'], bins = [0,1,2,3,4], labels = ['clear', 'mist', 'light snow/rain', 'heavy snow/rain'])\n",
    "df['weather_cat'].value_counts()"
   ]
  },
  {
   "cell_type": "markdown",
   "id": "24ab0284",
   "metadata": {},
   "source": [
    "The **heavy snow/rain** weather category has only one entry. It will not be sufficient for analysis, so we can remove that entry."
   ]
  },
  {
   "cell_type": "code",
   "execution_count": 11,
   "id": "129bc47b",
   "metadata": {},
   "outputs": [],
   "source": [
    "df.drop(df[df['weather_cat']=='heavy snow/rain'].index, inplace = True)"
   ]
  },
  {
   "cell_type": "code",
   "execution_count": 12,
   "id": "f16773bd",
   "metadata": {},
   "outputs": [
    {
     "data": {
      "text/plain": [
       "clear              7192\n",
       "mist               2834\n",
       "light snow/rain     859\n",
       "heavy snow/rain       0\n",
       "Name: weather_cat, dtype: int64"
      ]
     },
     "execution_count": 12,
     "metadata": {},
     "output_type": "execute_result"
    }
   ],
   "source": [
    "df['weather_cat'].value_counts()"
   ]
  },
  {
   "cell_type": "markdown",
   "id": "e04c3683",
   "metadata": {},
   "source": [
    "Let's create a final dataframe with only important columns that we are interested in for analysis"
   ]
  },
  {
   "cell_type": "code",
   "execution_count": 13,
   "id": "49bcccdf",
   "metadata": {},
   "outputs": [
    {
     "data": {
      "text/plain": [
       "Index(['datetime', 'season', 'holiday', 'workingday', 'weather', 'temp',\n",
       "       'atemp', 'humidity', 'windspeed', 'casual', 'registered', 'count',\n",
       "       'season_cat', 'holiday_cat', 'workingday_cat', 'weather_cat'],\n",
       "      dtype='object')"
      ]
     },
     "execution_count": 13,
     "metadata": {},
     "output_type": "execute_result"
    }
   ],
   "source": [
    "df.columns"
   ]
  },
  {
   "cell_type": "code",
   "execution_count": 14,
   "id": "d11221bd",
   "metadata": {},
   "outputs": [
    {
     "data": {
      "text/html": [
       "<div>\n",
       "<style scoped>\n",
       "    .dataframe tbody tr th:only-of-type {\n",
       "        vertical-align: middle;\n",
       "    }\n",
       "\n",
       "    .dataframe tbody tr th {\n",
       "        vertical-align: top;\n",
       "    }\n",
       "\n",
       "    .dataframe thead th {\n",
       "        text-align: right;\n",
       "    }\n",
       "</style>\n",
       "<table border=\"1\" class=\"dataframe\">\n",
       "  <thead>\n",
       "    <tr style=\"text-align: right;\">\n",
       "      <th></th>\n",
       "      <th>datetime</th>\n",
       "      <th>atemp</th>\n",
       "      <th>humidity</th>\n",
       "      <th>windspeed</th>\n",
       "      <th>season_cat</th>\n",
       "      <th>holiday_cat</th>\n",
       "      <th>workingday_cat</th>\n",
       "      <th>weather_cat</th>\n",
       "      <th>count</th>\n",
       "    </tr>\n",
       "  </thead>\n",
       "  <tbody>\n",
       "    <tr>\n",
       "      <th>0</th>\n",
       "      <td>2011-01-01 00:00:00</td>\n",
       "      <td>14.395</td>\n",
       "      <td>81</td>\n",
       "      <td>0.0000</td>\n",
       "      <td>spring</td>\n",
       "      <td>no</td>\n",
       "      <td>no</td>\n",
       "      <td>clear</td>\n",
       "      <td>16</td>\n",
       "    </tr>\n",
       "    <tr>\n",
       "      <th>1</th>\n",
       "      <td>2011-01-01 01:00:00</td>\n",
       "      <td>13.635</td>\n",
       "      <td>80</td>\n",
       "      <td>0.0000</td>\n",
       "      <td>spring</td>\n",
       "      <td>no</td>\n",
       "      <td>no</td>\n",
       "      <td>clear</td>\n",
       "      <td>40</td>\n",
       "    </tr>\n",
       "    <tr>\n",
       "      <th>2</th>\n",
       "      <td>2011-01-01 02:00:00</td>\n",
       "      <td>13.635</td>\n",
       "      <td>80</td>\n",
       "      <td>0.0000</td>\n",
       "      <td>spring</td>\n",
       "      <td>no</td>\n",
       "      <td>no</td>\n",
       "      <td>clear</td>\n",
       "      <td>32</td>\n",
       "    </tr>\n",
       "    <tr>\n",
       "      <th>3</th>\n",
       "      <td>2011-01-01 03:00:00</td>\n",
       "      <td>14.395</td>\n",
       "      <td>75</td>\n",
       "      <td>0.0000</td>\n",
       "      <td>spring</td>\n",
       "      <td>no</td>\n",
       "      <td>no</td>\n",
       "      <td>clear</td>\n",
       "      <td>13</td>\n",
       "    </tr>\n",
       "    <tr>\n",
       "      <th>4</th>\n",
       "      <td>2011-01-01 04:00:00</td>\n",
       "      <td>14.395</td>\n",
       "      <td>75</td>\n",
       "      <td>0.0000</td>\n",
       "      <td>spring</td>\n",
       "      <td>no</td>\n",
       "      <td>no</td>\n",
       "      <td>clear</td>\n",
       "      <td>1</td>\n",
       "    </tr>\n",
       "    <tr>\n",
       "      <th>...</th>\n",
       "      <td>...</td>\n",
       "      <td>...</td>\n",
       "      <td>...</td>\n",
       "      <td>...</td>\n",
       "      <td>...</td>\n",
       "      <td>...</td>\n",
       "      <td>...</td>\n",
       "      <td>...</td>\n",
       "      <td>...</td>\n",
       "    </tr>\n",
       "    <tr>\n",
       "      <th>10881</th>\n",
       "      <td>2012-12-19 19:00:00</td>\n",
       "      <td>19.695</td>\n",
       "      <td>50</td>\n",
       "      <td>26.0027</td>\n",
       "      <td>winter</td>\n",
       "      <td>no</td>\n",
       "      <td>yes</td>\n",
       "      <td>clear</td>\n",
       "      <td>336</td>\n",
       "    </tr>\n",
       "    <tr>\n",
       "      <th>10882</th>\n",
       "      <td>2012-12-19 20:00:00</td>\n",
       "      <td>17.425</td>\n",
       "      <td>57</td>\n",
       "      <td>15.0013</td>\n",
       "      <td>winter</td>\n",
       "      <td>no</td>\n",
       "      <td>yes</td>\n",
       "      <td>clear</td>\n",
       "      <td>241</td>\n",
       "    </tr>\n",
       "    <tr>\n",
       "      <th>10883</th>\n",
       "      <td>2012-12-19 21:00:00</td>\n",
       "      <td>15.910</td>\n",
       "      <td>61</td>\n",
       "      <td>15.0013</td>\n",
       "      <td>winter</td>\n",
       "      <td>no</td>\n",
       "      <td>yes</td>\n",
       "      <td>clear</td>\n",
       "      <td>168</td>\n",
       "    </tr>\n",
       "    <tr>\n",
       "      <th>10884</th>\n",
       "      <td>2012-12-19 22:00:00</td>\n",
       "      <td>17.425</td>\n",
       "      <td>61</td>\n",
       "      <td>6.0032</td>\n",
       "      <td>winter</td>\n",
       "      <td>no</td>\n",
       "      <td>yes</td>\n",
       "      <td>clear</td>\n",
       "      <td>129</td>\n",
       "    </tr>\n",
       "    <tr>\n",
       "      <th>10885</th>\n",
       "      <td>2012-12-19 23:00:00</td>\n",
       "      <td>16.665</td>\n",
       "      <td>66</td>\n",
       "      <td>8.9981</td>\n",
       "      <td>winter</td>\n",
       "      <td>no</td>\n",
       "      <td>yes</td>\n",
       "      <td>clear</td>\n",
       "      <td>88</td>\n",
       "    </tr>\n",
       "  </tbody>\n",
       "</table>\n",
       "<p>10885 rows × 9 columns</p>\n",
       "</div>"
      ],
      "text/plain": [
       "                 datetime   atemp  humidity  windspeed season_cat holiday_cat  \\\n",
       "0     2011-01-01 00:00:00  14.395        81     0.0000     spring          no   \n",
       "1     2011-01-01 01:00:00  13.635        80     0.0000     spring          no   \n",
       "2     2011-01-01 02:00:00  13.635        80     0.0000     spring          no   \n",
       "3     2011-01-01 03:00:00  14.395        75     0.0000     spring          no   \n",
       "4     2011-01-01 04:00:00  14.395        75     0.0000     spring          no   \n",
       "...                   ...     ...       ...        ...        ...         ...   \n",
       "10881 2012-12-19 19:00:00  19.695        50    26.0027     winter          no   \n",
       "10882 2012-12-19 20:00:00  17.425        57    15.0013     winter          no   \n",
       "10883 2012-12-19 21:00:00  15.910        61    15.0013     winter          no   \n",
       "10884 2012-12-19 22:00:00  17.425        61     6.0032     winter          no   \n",
       "10885 2012-12-19 23:00:00  16.665        66     8.9981     winter          no   \n",
       "\n",
       "      workingday_cat weather_cat  count  \n",
       "0                 no       clear     16  \n",
       "1                 no       clear     40  \n",
       "2                 no       clear     32  \n",
       "3                 no       clear     13  \n",
       "4                 no       clear      1  \n",
       "...              ...         ...    ...  \n",
       "10881            yes       clear    336  \n",
       "10882            yes       clear    241  \n",
       "10883            yes       clear    168  \n",
       "10884            yes       clear    129  \n",
       "10885            yes       clear     88  \n",
       "\n",
       "[10885 rows x 9 columns]"
      ]
     },
     "execution_count": 14,
     "metadata": {},
     "output_type": "execute_result"
    }
   ],
   "source": [
    "df = df[['datetime', 'atemp', 'humidity', 'windspeed', 'season_cat', 'holiday_cat', 'workingday_cat', 'weather_cat', 'count']]\n",
    "df"
   ]
  },
  {
   "cell_type": "markdown",
   "id": "34d176a9",
   "metadata": {},
   "source": [
    "Let's check the statistical summary of the dataframe using describe function."
   ]
  },
  {
   "cell_type": "code",
   "execution_count": 15,
   "id": "2cce89d3",
   "metadata": {
    "scrolled": false
   },
   "outputs": [
    {
     "data": {
      "text/html": [
       "<div>\n",
       "<style scoped>\n",
       "    .dataframe tbody tr th:only-of-type {\n",
       "        vertical-align: middle;\n",
       "    }\n",
       "\n",
       "    .dataframe tbody tr th {\n",
       "        vertical-align: top;\n",
       "    }\n",
       "\n",
       "    .dataframe thead th {\n",
       "        text-align: right;\n",
       "    }\n",
       "</style>\n",
       "<table border=\"1\" class=\"dataframe\">\n",
       "  <thead>\n",
       "    <tr style=\"text-align: right;\">\n",
       "      <th></th>\n",
       "      <th>datetime</th>\n",
       "      <th>atemp</th>\n",
       "      <th>humidity</th>\n",
       "      <th>windspeed</th>\n",
       "      <th>season_cat</th>\n",
       "      <th>holiday_cat</th>\n",
       "      <th>workingday_cat</th>\n",
       "      <th>weather_cat</th>\n",
       "      <th>count</th>\n",
       "    </tr>\n",
       "  </thead>\n",
       "  <tbody>\n",
       "    <tr>\n",
       "      <th>count</th>\n",
       "      <td>10885</td>\n",
       "      <td>10885.000000</td>\n",
       "      <td>10885.000000</td>\n",
       "      <td>10885.000000</td>\n",
       "      <td>10885</td>\n",
       "      <td>10885</td>\n",
       "      <td>10885</td>\n",
       "      <td>10885</td>\n",
       "      <td>10885.000000</td>\n",
       "    </tr>\n",
       "    <tr>\n",
       "      <th>unique</th>\n",
       "      <td>NaN</td>\n",
       "      <td>NaN</td>\n",
       "      <td>NaN</td>\n",
       "      <td>NaN</td>\n",
       "      <td>4</td>\n",
       "      <td>2</td>\n",
       "      <td>2</td>\n",
       "      <td>3</td>\n",
       "      <td>NaN</td>\n",
       "    </tr>\n",
       "    <tr>\n",
       "      <th>top</th>\n",
       "      <td>NaN</td>\n",
       "      <td>NaN</td>\n",
       "      <td>NaN</td>\n",
       "      <td>NaN</td>\n",
       "      <td>winter</td>\n",
       "      <td>no</td>\n",
       "      <td>yes</td>\n",
       "      <td>clear</td>\n",
       "      <td>NaN</td>\n",
       "    </tr>\n",
       "    <tr>\n",
       "      <th>freq</th>\n",
       "      <td>NaN</td>\n",
       "      <td>NaN</td>\n",
       "      <td>NaN</td>\n",
       "      <td>NaN</td>\n",
       "      <td>2734</td>\n",
       "      <td>10574</td>\n",
       "      <td>7411</td>\n",
       "      <td>7192</td>\n",
       "      <td>NaN</td>\n",
       "    </tr>\n",
       "    <tr>\n",
       "      <th>mean</th>\n",
       "      <td>2011-12-27 05:54:35.222783744</td>\n",
       "      <td>23.656213</td>\n",
       "      <td>61.884244</td>\n",
       "      <td>12.800020</td>\n",
       "      <td>NaN</td>\n",
       "      <td>NaN</td>\n",
       "      <td>NaN</td>\n",
       "      <td>NaN</td>\n",
       "      <td>191.576665</td>\n",
       "    </tr>\n",
       "    <tr>\n",
       "      <th>min</th>\n",
       "      <td>2011-01-01 00:00:00</td>\n",
       "      <td>0.760000</td>\n",
       "      <td>0.000000</td>\n",
       "      <td>0.000000</td>\n",
       "      <td>NaN</td>\n",
       "      <td>NaN</td>\n",
       "      <td>NaN</td>\n",
       "      <td>NaN</td>\n",
       "      <td>1.000000</td>\n",
       "    </tr>\n",
       "    <tr>\n",
       "      <th>25%</th>\n",
       "      <td>2011-07-02 07:00:00</td>\n",
       "      <td>16.665000</td>\n",
       "      <td>47.000000</td>\n",
       "      <td>7.001500</td>\n",
       "      <td>NaN</td>\n",
       "      <td>NaN</td>\n",
       "      <td>NaN</td>\n",
       "      <td>NaN</td>\n",
       "      <td>42.000000</td>\n",
       "    </tr>\n",
       "    <tr>\n",
       "      <th>50%</th>\n",
       "      <td>2012-01-01 20:00:00</td>\n",
       "      <td>24.240000</td>\n",
       "      <td>62.000000</td>\n",
       "      <td>12.998000</td>\n",
       "      <td>NaN</td>\n",
       "      <td>NaN</td>\n",
       "      <td>NaN</td>\n",
       "      <td>NaN</td>\n",
       "      <td>145.000000</td>\n",
       "    </tr>\n",
       "    <tr>\n",
       "      <th>75%</th>\n",
       "      <td>2012-07-01 13:00:00</td>\n",
       "      <td>31.060000</td>\n",
       "      <td>77.000000</td>\n",
       "      <td>16.997900</td>\n",
       "      <td>NaN</td>\n",
       "      <td>NaN</td>\n",
       "      <td>NaN</td>\n",
       "      <td>NaN</td>\n",
       "      <td>284.000000</td>\n",
       "    </tr>\n",
       "    <tr>\n",
       "      <th>max</th>\n",
       "      <td>2012-12-19 23:00:00</td>\n",
       "      <td>45.455000</td>\n",
       "      <td>100.000000</td>\n",
       "      <td>56.996900</td>\n",
       "      <td>NaN</td>\n",
       "      <td>NaN</td>\n",
       "      <td>NaN</td>\n",
       "      <td>NaN</td>\n",
       "      <td>977.000000</td>\n",
       "    </tr>\n",
       "    <tr>\n",
       "      <th>std</th>\n",
       "      <td>NaN</td>\n",
       "      <td>8.474171</td>\n",
       "      <td>19.244529</td>\n",
       "      <td>8.164652</td>\n",
       "      <td>NaN</td>\n",
       "      <td>NaN</td>\n",
       "      <td>NaN</td>\n",
       "      <td>NaN</td>\n",
       "      <td>181.152582</td>\n",
       "    </tr>\n",
       "  </tbody>\n",
       "</table>\n",
       "</div>"
      ],
      "text/plain": [
       "                             datetime         atemp      humidity  \\\n",
       "count                           10885  10885.000000  10885.000000   \n",
       "unique                            NaN           NaN           NaN   \n",
       "top                               NaN           NaN           NaN   \n",
       "freq                              NaN           NaN           NaN   \n",
       "mean    2011-12-27 05:54:35.222783744     23.656213     61.884244   \n",
       "min               2011-01-01 00:00:00      0.760000      0.000000   \n",
       "25%               2011-07-02 07:00:00     16.665000     47.000000   \n",
       "50%               2012-01-01 20:00:00     24.240000     62.000000   \n",
       "75%               2012-07-01 13:00:00     31.060000     77.000000   \n",
       "max               2012-12-19 23:00:00     45.455000    100.000000   \n",
       "std                               NaN      8.474171     19.244529   \n",
       "\n",
       "           windspeed season_cat holiday_cat workingday_cat weather_cat  \\\n",
       "count   10885.000000      10885       10885          10885       10885   \n",
       "unique           NaN          4           2              2           3   \n",
       "top              NaN     winter          no            yes       clear   \n",
       "freq             NaN       2734       10574           7411        7192   \n",
       "mean       12.800020        NaN         NaN            NaN         NaN   \n",
       "min         0.000000        NaN         NaN            NaN         NaN   \n",
       "25%         7.001500        NaN         NaN            NaN         NaN   \n",
       "50%        12.998000        NaN         NaN            NaN         NaN   \n",
       "75%        16.997900        NaN         NaN            NaN         NaN   \n",
       "max        56.996900        NaN         NaN            NaN         NaN   \n",
       "std         8.164652        NaN         NaN            NaN         NaN   \n",
       "\n",
       "               count  \n",
       "count   10885.000000  \n",
       "unique           NaN  \n",
       "top              NaN  \n",
       "freq             NaN  \n",
       "mean      191.576665  \n",
       "min         1.000000  \n",
       "25%        42.000000  \n",
       "50%       145.000000  \n",
       "75%       284.000000  \n",
       "max       977.000000  \n",
       "std       181.152582  "
      ]
     },
     "execution_count": 15,
     "metadata": {},
     "output_type": "execute_result"
    }
   ],
   "source": [
    "df.describe(include = 'all', datetime_is_numeric = True)"
   ]
  },
  {
   "cell_type": "markdown",
   "id": "de4ebb8e",
   "metadata": {},
   "source": [
    "**Observations:**\n",
    "- The data given ranges from the date - 1<sup>st</sup> of Jan, 2011 to 19<sup>th</sup> of Dec, 2012\n",
    "- There are two temperature columns in the data, but **atemp**(feeling temperature) column will be good for analysis and it ranges from 0.76 degree celsius to 45.45 degree celsius. The mean and the meadian of the temperatures are almost close, so there might be no or few outliers only.\n",
    "- The humidity ranges from 0 to 100 and there is no big gap between mean and median. So there might be no or only few outliers in this column too.\n",
    "- The total count per hour ranges from 1 to 977 with an average of 191.5 and there is a gap between mean and median of the total count, so there might be some outliers in the data.\n",
    "- It seems that 68% of the given data are from working days and only 2% from holidays.\n"
   ]
  },
  {
   "cell_type": "markdown",
   "id": "c478bc7a",
   "metadata": {},
   "source": [
    "## Visual Analysis"
   ]
  },
  {
   "cell_type": "markdown",
   "id": "ddcc5d89",
   "metadata": {},
   "source": [
    "### Univariate analysis"
   ]
  },
  {
   "cell_type": "code",
   "execution_count": 16,
   "id": "6ea16a81",
   "metadata": {},
   "outputs": [
    {
     "data": {
      "image/png": "[encoded data removed]",
      "text/plain": [
       "<Figure size 800x500 with 1 Axes>"
      ]
     },
     "metadata": {},
     "output_type": "display_data"
    }
   ],
   "source": [
    "# Plotting the histogram of atemp column\n",
    "plt.figure(figsize = (8,5))\n",
    "sns.histplot(df['atemp'], kde = True)\n",
    "plt.show()"
   ]
  },
  {
   "cell_type": "markdown",
   "id": "af54813b",
   "metadata": {},
   "source": [
    "**Observation:**\n",
    "- The distribution has 4 different peaks, this is due to the varying temperatures in 4 different seasons"
   ]
  },
  {
   "cell_type": "code",
   "execution_count": 17,
   "id": "b9148914",
   "metadata": {},
   "outputs": [
    {
     "data": {
      "image/png": "[encoded data removed]",
      "text/plain": [
       "<Figure size 800x500 with 1 Axes>"
      ]
     },
     "metadata": {},
     "output_type": "display_data"
    }
   ],
   "source": [
    "# Plotting the histogram of humidity column\n",
    "plt.figure(figsize = (8,5))\n",
    "sns.histplot(df['humidity'], kde = True)\n",
    "plt.show()"
   ]
  },
  {
   "cell_type": "markdown",
   "id": "d12c7299",
   "metadata": {},
   "source": [
    "**Observation:**\n",
    "- The distribution of humidity looks left skewed, which means there is some outliers in the low humidity values"
   ]
  },
  {
   "cell_type": "code",
   "execution_count": 18,
   "id": "cf63e7fe",
   "metadata": {},
   "outputs": [
    {
     "data": {
      "image/png": "[encoded data removed]",
      "text/plain": [
       "<Figure size 800x500 with 1 Axes>"
      ]
     },
     "metadata": {},
     "output_type": "display_data"
    }
   ],
   "source": [
    "# Plotting the histogram of windspeed column\n",
    "plt.figure(figsize = (8,5))\n",
    "sns.histplot(df['windspeed'], kde = True)\n",
    "plt.show()"
   ]
  },
  {
   "cell_type": "markdown",
   "id": "75aed92e",
   "metadata": {},
   "source": [
    "**Observation:**\n",
    "- The distribution of windspeed also has 3 different peaks which might be due to the varying windspeeds in different weather conditions"
   ]
  },
  {
   "cell_type": "code",
   "execution_count": 19,
   "id": "e6d44e36",
   "metadata": {},
   "outputs": [
    {
     "data": {
      "image/png": "[encoded data removed]",
      "text/plain": [
       "<Figure size 800x500 with 1 Axes>"
      ]
     },
     "metadata": {},
     "output_type": "display_data"
    }
   ],
   "source": [
    "# Plotting the histogram of total count column\n",
    "plt.figure(figsize = (8,5))\n",
    "sns.histplot(df['count'], kde = True)\n",
    "plt.show()"
   ]
  },
  {
   "cell_type": "markdown",
   "id": "720940c3",
   "metadata": {},
   "source": [
    "**Observation:**\n",
    "- The distribution of the count column looks right skewed and look like log normal distribution"
   ]
  },
  {
   "cell_type": "code",
   "execution_count": 20,
   "id": "f7139dd2",
   "metadata": {},
   "outputs": [
    {
     "data": {
      "image/png": "[encoded data removed]",
      "text/plain": [
       "<Figure size 800x500 with 1 Axes>"
      ]
     },
     "metadata": {},
     "output_type": "display_data"
    }
   ],
   "source": [
    "# Plotting the countplot of season_cat column\n",
    "plt.figure(figsize = (8,5))\n",
    "sns.countplot(data = df, x = 'season_cat')\n",
    "plt.show()"
   ]
  },
  {
   "cell_type": "markdown",
   "id": "b2e53511",
   "metadata": {},
   "source": [
    "**Observation:**\n",
    "- The dataframe has almost equal number of rows from all 4 seasoon categories"
   ]
  },
  {
   "cell_type": "code",
   "execution_count": 21,
   "id": "e05eaedb",
   "metadata": {},
   "outputs": [
    {
     "data": {
      "image/png": "[encoded data removed]",
      "text/plain": [
       "<Figure size 800x500 with 1 Axes>"
      ]
     },
     "metadata": {},
     "output_type": "display_data"
    }
   ],
   "source": [
    "# Plotting the countplot of holiday_cat column\n",
    "plt.figure(figsize = (8,5))\n",
    "sns.countplot(data = df, x = 'holiday_cat')\n",
    "plt.show()"
   ]
  },
  {
   "cell_type": "markdown",
   "id": "65877277",
   "metadata": {},
   "source": [
    "**Observation**\n",
    "- Almost 98% of the data is from non holidays"
   ]
  },
  {
   "cell_type": "code",
   "execution_count": 22,
   "id": "2de1727c",
   "metadata": {},
   "outputs": [
    {
     "data": {
      "image/png": "[encoded data removed]",
      "text/plain": [
       "<Figure size 800x500 with 1 Axes>"
      ]
     },
     "metadata": {},
     "output_type": "display_data"
    }
   ],
   "source": [
    "# Plotting the countplot of workingday_cat column\n",
    "plt.figure(figsize = (8,5))\n",
    "sns.countplot(data = df, x = 'workingday_cat')\n",
    "plt.show()"
   ]
  },
  {
   "cell_type": "markdown",
   "id": "a4002db9",
   "metadata": {},
   "source": [
    "**Observation**\n",
    "- Almost 70% of the data is from working days"
   ]
  },
  {
   "cell_type": "code",
   "execution_count": 23,
   "id": "7d037be8",
   "metadata": {},
   "outputs": [
    {
     "data": {
      "image/png": "[encoded data removed]",
      "text/plain": [
       "<Figure size 800x500 with 1 Axes>"
      ]
     },
     "metadata": {},
     "output_type": "display_data"
    }
   ],
   "source": [
    "# Plotting the countplot of weather_cat column\n",
    "plt.figure(figsize = (8,5))\n",
    "sns.countplot(data = df, x = 'weather_cat')\n",
    "plt.show()"
   ]
  },
  {
   "cell_type": "markdown",
   "id": "e4778aa6",
   "metadata": {},
   "source": [
    "**Observation**\n",
    "- The weather is clear in almost 65% of the data"
   ]
  },
  {
   "cell_type": "markdown",
   "id": "f75b9256",
   "metadata": {},
   "source": [
    "### Bivariate analysis"
   ]
  },
  {
   "cell_type": "markdown",
   "id": "1e26c16d",
   "metadata": {},
   "source": [
    "#### Workingday Vs Count"
   ]
  },
  {
   "cell_type": "code",
   "execution_count": 24,
   "id": "44ab627e",
   "metadata": {},
   "outputs": [
    {
     "data": {
      "image/png": "[encoded data removed]",
      "text/plain": [
       "<Figure size 800x500 with 1 Axes>"
      ]
     },
     "metadata": {},
     "output_type": "display_data"
    }
   ],
   "source": [
    "# Boxplot for workingday vs count\n",
    "plt.figure(figsize = (8,5))\n",
    "sns.boxplot(data = df, x = 'workingday_cat', y = 'count')\n",
    "plt.title('Working day    vs    Count \\n Boxplot')\n",
    "plt.show()"
   ]
  },
  {
   "cell_type": "markdown",
   "id": "2ca44567",
   "metadata": {},
   "source": [
    "**Observation**\n",
    "- The working day and non working day both has almost same range of distribution and the median of them are also almost same. So the working day has no significant effect on the number of cycles rented"
   ]
  },
  {
   "cell_type": "code",
   "execution_count": 25,
   "id": "6fc3989f",
   "metadata": {},
   "outputs": [
    {
     "data": {
      "image/png": "[encoded data removed]",
      "text/plain": [
       "<Figure size 800x500 with 1 Axes>"
      ]
     },
     "metadata": {},
     "output_type": "display_data"
    }
   ],
   "source": [
    "# Barplot for workingday vs count\n",
    "plt.figure(figsize = (8,5))\n",
    "sns.barplot(data = df, x = 'workingday_cat', y = 'count')\n",
    "plt.title('Working day    vs    Count \\n Barplot')\n",
    "plt.show()"
   ]
  },
  {
   "cell_type": "markdown",
   "id": "392fe96e",
   "metadata": {},
   "source": [
    "**Observation**\n",
    "- The barplot also shows the same that the average number of cycles rented on working day and the non working day are almost same. So it again confirms that working day has no significant effect on count in our given sample"
   ]
  },
  {
   "cell_type": "markdown",
   "id": "c70b8741",
   "metadata": {},
   "source": [
    "#### Season Vs Count"
   ]
  },
  {
   "cell_type": "code",
   "execution_count": 26,
   "id": "3b251dbc",
   "metadata": {},
   "outputs": [
    {
     "data": {
      "image/png": "[encoded data removed]",
      "text/plain": [
       "<Figure size 800x500 with 1 Axes>"
      ]
     },
     "metadata": {},
     "output_type": "display_data"
    }
   ],
   "source": [
    "# Boxplot for season vs count\n",
    "plt.figure(figsize = (8,5))\n",
    "sns.boxplot(data = df, x = 'season_cat', y = 'count')\n",
    "plt.title('Season    vs    Count \\n Boxplot')\n",
    "plt.show()"
   ]
  },
  {
   "cell_type": "markdown",
   "id": "2f935b58",
   "metadata": {},
   "source": [
    "**Observation**\n",
    "- The median count of the cycles rented is low in the spring season compared with all other seasons\n",
    "- The median count of the cycles rented is more in the fall season compared with all other seasons"
   ]
  },
  {
   "cell_type": "code",
   "execution_count": 27,
   "id": "630094dc",
   "metadata": {},
   "outputs": [
    {
     "data": {
      "image/png": "[encoded data removed]",
      "text/plain": [
       "<Figure size 800x500 with 1 Axes>"
      ]
     },
     "metadata": {},
     "output_type": "display_data"
    }
   ],
   "source": [
    "# Barplot for season vs count\n",
    "plt.figure(figsize = (8,5))\n",
    "sns.barplot(data = df, x = 'season_cat', y = 'count')\n",
    "plt.title('Season    vs    Count \\n Barplot')\n",
    "plt.show()"
   ]
  },
  {
   "cell_type": "markdown",
   "id": "e409f1d0",
   "metadata": {},
   "source": [
    "**Observation**\n",
    "- The barplot also confirms the same that the average cycles rented is more in the fall season and less in the spring season in our given sample"
   ]
  },
  {
   "cell_type": "markdown",
   "id": "cdb90959",
   "metadata": {},
   "source": [
    "#### Weather vs Count"
   ]
  },
  {
   "cell_type": "code",
   "execution_count": 28,
   "id": "331f8f37",
   "metadata": {},
   "outputs": [
    {
     "data": {
      "image/png": "[encoded data removed]",
      "text/plain": [
       "<Figure size 800x500 with 1 Axes>"
      ]
     },
     "metadata": {},
     "output_type": "display_data"
    }
   ],
   "source": [
    "# Boxplot for weather vs count\n",
    "plt.figure(figsize = (8,5))\n",
    "sns.boxplot(data = df, x = 'weather_cat', y = 'count')\n",
    "plt.title('Weather    vs    Count \\n Boxplot')\n",
    "plt.show()"
   ]
  },
  {
   "cell_type": "markdown",
   "id": "535cb9d8",
   "metadata": {},
   "source": [
    "**Observations**\n",
    "- The median of count in clear weather condition is high when compared with other two weather conditions\n",
    "- The median of count in light snow/rain weather condition is low when compared with other weather conditions"
   ]
  },
  {
   "cell_type": "code",
   "execution_count": 29,
   "id": "6d2aab2d",
   "metadata": {},
   "outputs": [
    {
     "data": {
      "image/png": "[encoded data removed]",
      "text/plain": [
       "<Figure size 800x500 with 1 Axes>"
      ]
     },
     "metadata": {},
     "output_type": "display_data"
    }
   ],
   "source": [
    "# Barplot for weather vs count\n",
    "plt.figure(figsize = (8,5))\n",
    "sns.barplot(data = df, x = 'weather_cat', y = 'count')\n",
    "plt.title('Weather    vs    count \\n Barplot')\n",
    "plt.show()"
   ]
  },
  {
   "cell_type": "markdown",
   "id": "2896a748",
   "metadata": {},
   "source": [
    "**Observation**\n",
    "- The barplot also confirms the same that the average number of cycles rented in clear weather condition is high and in light snow/rain is low in our given sample."
   ]
  },
  {
   "cell_type": "markdown",
   "id": "4a6f1014",
   "metadata": {},
   "source": [
    "## Hypothesis Testing"
   ]
  },
  {
   "cell_type": "markdown",
   "id": "63939c44",
   "metadata": {},
   "source": [
    "Let's statistically confirm the observations obtained from the visual analysis of sample data by using hypothesis testing for the population with a significance level $\\alpha = 0.05$."
   ]
  },
  {
   "cell_type": "code",
   "execution_count": 30,
   "id": "b327590c",
   "metadata": {},
   "outputs": [],
   "source": [
    "alpha = 0.05"
   ]
  },
  {
   "cell_type": "markdown",
   "id": "e30edf5e",
   "metadata": {},
   "source": [
    "### 1. Does the Working day has an effect on the number of electric cycles rented ?"
   ]
  },
  {
   "cell_type": "markdown",
   "id": "03126b27",
   "metadata": {},
   "source": [
    "Let's first define the null and alternate hypothesis for this problem statement.\n",
    "\n",
    ">$H_0$ : Average count of cycles rented in working day is less than or equal to the average count in non working day $( \\mu_1 \\leq \\mu_2 )$\n",
    "\n",
    ">$H_a$ : Average count of cycles rented in working day is greater than the average count in non working day $( \\mu_1 > \\mu_2 )$\n",
    "\n",
    "where $\\mu_1$ is the mean count of cycles rented in working day, $\\mu_2$ is the mean count of cycles rented in non working day\n",
    "\n",
    "The average number of cycles rented in working and non working days are independant from each other. Also we have to prove that mean of one is greater than the other and the standard deviation of the population is not known, the student's t test for 2 independant samples would be appropriate for this case.\n",
    " "
   ]
  },
  {
   "cell_type": "code",
   "execution_count": 31,
   "id": "1068afce",
   "metadata": {},
   "outputs": [],
   "source": [
    "# Lets take samples from both the categories\n",
    "work = df[df['workingday_cat'] == 'yes']['count']\n",
    "nwork = df[df['workingday_cat'] == 'no']['count']"
   ]
  },
  {
   "cell_type": "code",
   "execution_count": 32,
   "id": "0738a103",
   "metadata": {},
   "outputs": [
    {
     "name": "stdout",
     "output_type": "stream",
     "text": [
      "184.52580111109822 173.72401532500032\n"
     ]
    }
   ],
   "source": [
    "# Lets check the standard deviation of our samples\n",
    "print(work.std(), nwork.std())"
   ]
  },
  {
   "cell_type": "markdown",
   "id": "b3371206",
   "metadata": {},
   "source": [
    "The samples have different variances, so the t test ind for inequal variance would be appropriate"
   ]
  },
  {
   "cell_type": "code",
   "execution_count": 33,
   "id": "afffa76c",
   "metadata": {},
   "outputs": [
    {
     "name": "stdout",
     "output_type": "stream",
     "text": [
      "Test statistic : 1.2372752169779413\n",
      "P-value : 0.10801270219426112\n",
      "alpha : 0.05\n",
      "Fail to reject H0\n"
     ]
    }
   ],
   "source": [
    "# Lets find the p_value from ttest and compare it with significance level alpha\n",
    "test_stats, p_value = ttest_ind(work, nwork, equal_var = False, alternative = 'greater')\n",
    "print('Test statistic :', test_stats)\n",
    "print('P-value :', p_value)\n",
    "print('alpha :', alpha)\n",
    "if p_value < alpha:\n",
    "    print('Reject H0')\n",
    "else:\n",
    "    print('Fail to reject H0')"
   ]
  },
  {
   "cell_type": "markdown",
   "id": "8d6d4ea4",
   "metadata": {},
   "source": [
    "**Observation**\n",
    "- The p value is 0.108 and it is greater than significance level of 0.05, so we will fail to reject the null hypothesis $H_0$, which means the average number of cycles rented in the working day is not greater than the non working day. Hence the observation that the working day has no significant effect in number of cycles rented is statistically verified with a confidence 95%"
   ]
  },
  {
   "cell_type": "markdown",
   "id": "b5fedbf2",
   "metadata": {},
   "source": [
    "## 2. Is number of cycles rented is similar or different in different weather conditions ?"
   ]
  },
  {
   "cell_type": "markdown",
   "id": "b8644568",
   "metadata": {},
   "source": [
    "Let's first define the null and alternate hypothesis for this problem statement.\n",
    "\n",
    ">$H_0$ : Average number of cycles rented is similar in different weather conditions\n",
    "\n",
    ">$H_a$ : Average number of cycles rented is different in atleast one weather condition\n",
    "\n",
    "The number of cycles rented in different weather conditions are independant from each other, we have more than two weather conditions. Therefore, oneway annova or kruskal wallis test would be appropriate for this case.\n",
    "\n",
    "Test Assumptions: For the oneway annova test to be used, the sample should follow these assumptions,\n",
    "- Normality: The sample should follow normal distribution,\n",
    "- Equal variance: The different variables should have equal variance,\n",
    "- Dependancy: The variables should be independant"
   ]
  },
  {
   "cell_type": "markdown",
   "id": "a0415329",
   "metadata": {},
   "source": [
    "**Test assumption check:**"
   ]
  },
  {
   "cell_type": "markdown",
   "id": "834c1352",
   "metadata": {},
   "source": [
    "**1. Normality:**\n",
    "Let's check whether the distribution is normal by using visual analysis."
   ]
  },
  {
   "cell_type": "code",
   "execution_count": 34,
   "id": "1e7dcd0f",
   "metadata": {},
   "outputs": [
    {
     "data": {
      "image/png": "[encoded data removed]",
      "text/plain": [
       "<Figure size 640x480 with 1 Axes>"
      ]
     },
     "metadata": {},
     "output_type": "display_data"
    }
   ],
   "source": [
    "# Lets check the Distribution of count\n",
    "sns.histplot(df['count'], kde = True)\n",
    "plt.show()"
   ]
  },
  {
   "cell_type": "markdown",
   "id": "ed88acdb",
   "metadata": {},
   "source": [
    "The distribution looks log normal. Lets check the distribution after taking log"
   ]
  },
  {
   "cell_type": "code",
   "execution_count": 35,
   "id": "82732af0",
   "metadata": {},
   "outputs": [
    {
     "data": {
      "image/png": "[encoded data removed]",
      "text/plain": [
       "<Figure size 640x480 with 1 Axes>"
      ]
     },
     "metadata": {},
     "output_type": "display_data"
    }
   ],
   "source": [
    "# Distribution of log of count\n",
    "sns.histplot(np.log(df['count']), kde = True)\n",
    "plt.show()"
   ]
  },
  {
   "cell_type": "markdown",
   "id": "139f0ac7",
   "metadata": {},
   "source": [
    "Even after taking log, the distribution looks left skewed and not normal. Lets verify the normality of log(count) with qq plot and shapiro wilk's test"
   ]
  },
  {
   "cell_type": "code",
   "execution_count": 36,
   "id": "99846a23",
   "metadata": {},
   "outputs": [
    {
     "data": {
      "image/png": "[encoded data removed]",
      "text/plain": [
       "<Figure size 640x480 with 1 Axes>"
      ]
     },
     "metadata": {},
     "output_type": "display_data"
    }
   ],
   "source": [
    "from statsmodels.graphics.gofplots import qqplot\n",
    "qqplot(data = np.log(df['count']),dist = norm,fit = True, line = '45')\n",
    "plt.show()"
   ]
  },
  {
   "cell_type": "markdown",
   "id": "40ac7f9e",
   "metadata": {},
   "source": [
    "The qq plot confirms that the distribution is not normal, also after taking the log of count. Let's reconfirm this with shapiro wilk's test."
   ]
  },
  {
   "cell_type": "markdown",
   "id": "a2c4f16e",
   "metadata": {},
   "source": [
    "**Shapiro wilk Test:**\n",
    "\n",
    "The Shapiro-Wilk test tests the null hypothesis that the data was drawn from a normal distribution.\n",
    "> $H_0$ : Distribution is normal\n",
    "\n",
    "> $H_a$ : Distribution is not normal"
   ]
  },
  {
   "cell_type": "code",
   "execution_count": 37,
   "id": "dbe5e21a",
   "metadata": {},
   "outputs": [
    {
     "name": "stdout",
     "output_type": "stream",
     "text": [
      "Test statistic : 1.2372752169779413\n",
      "P-value : 0.0\n",
      "alpha : 0.05\n",
      "Reject H0\n"
     ]
    },
    {
     "name": "stderr",
     "output_type": "stream",
     "text": [
      "C:\\Users\\v9746\\anaconda3\\lib\\site-packages\\scipy\\stats\\_morestats.py:1800: UserWarning: p-value may not be accurate for N > 5000.\n",
      "  warnings.warn(\"p-value may not be accurate for N > 5000.\")\n"
     ]
    }
   ],
   "source": [
    "# Lets find the p_value from ttest and compare it with significance level alpha\n",
    "test_stat, p_value = shapiro(np.log(df['count']))\n",
    "print('Test statistic :', test_stats)\n",
    "print('P-value :', p_value)\n",
    "print('alpha :', alpha)\n",
    "if p_value < alpha:\n",
    "    print('Reject H0')\n",
    "else:\n",
    "    print('Fail to reject H0')"
   ]
  },
  {
   "cell_type": "markdown",
   "id": "f5967a7f",
   "metadata": {},
   "source": [
    "The p value is 0, so we will reject the null hypothesis. Therefore, it is statistically proved that the distribution is not normal."
   ]
  },
  {
   "cell_type": "markdown",
   "id": "88be5b92",
   "metadata": {},
   "source": [
    "Eventhough the test for normality is failed, we can still go on with oneway anova test, because of the central limit theorem."
   ]
  },
  {
   "cell_type": "markdown",
   "id": "fc9d0e92",
   "metadata": {},
   "source": [
    "**2. Equal variance:** Lets check the assumption of equal variance by using levene test.\n",
    "\n",
    "The Levene test tests the null hypothesis that all input samples are from populations with equal variances\n",
    "> $H_0$ : Samples have equal variance\n",
    "\n",
    "> $H_a$ : Samples have different variances"
   ]
  },
  {
   "cell_type": "code",
   "execution_count": 38,
   "id": "b1970d74",
   "metadata": {},
   "outputs": [],
   "source": [
    "# Extracting the data for different weather condition\n",
    "clear = df[df['weather_cat']=='clear']['count']\n",
    "mist = df[df['weather_cat']=='mist']['count']\n",
    "lsr = df[df['weather_cat']=='light snow/rain']['count']"
   ]
  },
  {
   "cell_type": "code",
   "execution_count": 39,
   "id": "8b6b96d1",
   "metadata": {},
   "outputs": [
    {
     "name": "stdout",
     "output_type": "stream",
     "text": [
      "Test statistic : 1.2372752169779413\n",
      "P-value : 6.198278710731511e-36\n",
      "alpha : 0.05\n",
      "Reject H0\n"
     ]
    }
   ],
   "source": [
    "# Running levene test\n",
    "test_stat, p_value = levene(clear, mist, lsr)\n",
    "print('Test statistic :', test_stats)\n",
    "print('P-value :', p_value)\n",
    "print('alpha :', alpha)\n",
    "if p_value < alpha:\n",
    "    print('Reject H0')\n",
    "else:\n",
    "    print('Fail to reject H0')"
   ]
  },
  {
   "cell_type": "markdown",
   "id": "cb7229c8",
   "metadata": {},
   "source": [
    "The test for assumption of equal variance also failed. But still annova can be used or we can either use kruskal wallis test also. Let's try both test and compare the difference. "
   ]
  },
  {
   "cell_type": "markdown",
   "id": "3fb436cf",
   "metadata": {},
   "source": [
    "### ANNOVA\n",
    "\n",
    ">Null hypothesis, $(H_0)$ : Average number of cycles rented is similar in different weather conditions\n",
    "\n",
    ">Alternate hypothesis, $(H_a)$ : Average number of cycles rented is different in atleast one weather condition"
   ]
  },
  {
   "cell_type": "code",
   "execution_count": 40,
   "id": "d73ccc17",
   "metadata": {},
   "outputs": [
    {
     "name": "stdout",
     "output_type": "stream",
     "text": [
      "Test statistic : 1.2372752169779413\n",
      "P-value : 4.976448509904196e-43\n",
      "alpha : 0.05\n",
      "Reject H0\n"
     ]
    }
   ],
   "source": [
    "# Running one way annova test\n",
    "test_stat, p_value = f_oneway(clear, mist, lsr)\n",
    "print('Test statistic :', test_stats)\n",
    "print('P-value :', p_value)\n",
    "print('alpha :', alpha)\n",
    "if p_value < alpha:\n",
    "    print('Reject H0')\n",
    "else:\n",
    "    print('Fail to reject H0')"
   ]
  },
  {
   "cell_type": "markdown",
   "id": "7432e941",
   "metadata": {},
   "source": [
    "The p_value is very small and less than alpha, we will reject our null hypothesis. But lets reconfirm this result with kruskal test"
   ]
  },
  {
   "cell_type": "code",
   "execution_count": 41,
   "id": "a2f0ffad",
   "metadata": {},
   "outputs": [
    {
     "name": "stdout",
     "output_type": "stream",
     "text": [
      "Test statistic : 1.2372752169779413\n",
      "P-value : 3.122066178659941e-45\n",
      "alpha : 0.05\n",
      "Reject H0\n"
     ]
    }
   ],
   "source": [
    "# Running kruskal wallis test\n",
    "test_stat, p_value = kruskal(clear, mist, lsr)\n",
    "print('Test statistic :', test_stats)\n",
    "print('P-value :', p_value)\n",
    "print('alpha :', alpha)\n",
    "if p_value < alpha:\n",
    "    print('Reject H0')\n",
    "else:\n",
    "    print('Fail to reject H0')"
   ]
  },
  {
   "cell_type": "markdown",
   "id": "386656f6",
   "metadata": {},
   "source": [
    "The kruskal wallis test also gave the same result"
   ]
  },
  {
   "cell_type": "markdown",
   "id": "86c7c25d",
   "metadata": {},
   "source": [
    "**Observation**\n",
    "- The p value is very low and it is lesser than significance level of 0.05, so we will reject the null hypothesis $H_0$ which means the average number of cycles rented in different weather conditions are not same and the weather has impact on count. Hence the observation that the weather has significant effect in number of cycles rented is statistically verified with a confidence 95%"
   ]
  },
  {
   "cell_type": "markdown",
   "id": "c1555e02",
   "metadata": {},
   "source": [
    "## 3. Is number of cycles rented is similar or different in different seasons ?"
   ]
  },
  {
   "cell_type": "markdown",
   "id": "9a6cfccc",
   "metadata": {},
   "source": [
    "Let's first define the null and alternate hypothesis for this problem statement.\n",
    "\n",
    ">$H_0$ : Average number of cycles rented is similar in different seasons\n",
    "\n",
    ">$H_a$ : Average number of cycles rented is different in atleast one seasons\n",
    "\n",
    "The number of cycles rented in different seasons are independant from each other, we have more than two seasons. Therefore, oneway annova or kruskal wallis test would be appropriate for this case.\n",
    "\n",
    "Test Assumptions: For the oneway annova test to be used, the sample should follow these assumptions,\n",
    "- Normality: The sample should follow normal distribution,\n",
    "- Equal variance: The different variables should have equal variance,\n",
    "- Dependancy: The variables should be independant"
   ]
  },
  {
   "cell_type": "markdown",
   "id": "52ab9dee",
   "metadata": {},
   "source": [
    "**1. Normality** \n",
    "\n",
    "The test for normality was already done and it failed for previous case. Since here also the count is same, we don't need to do it once again."
   ]
  },
  {
   "cell_type": "markdown",
   "id": "7ac7c32e",
   "metadata": {},
   "source": [
    "**2. Equal variance:** Lets check the assumption of equal variance by using levene test.\n",
    "\n",
    "The Levene test tests the null hypothesis that all input samples are from populations with equal variances\n",
    "> $H_0$ : Samples have equal variance\n",
    "\n",
    "> $H_a$ : Samples have different variances"
   ]
  },
  {
   "cell_type": "code",
   "execution_count": 42,
   "id": "81441eaa",
   "metadata": {},
   "outputs": [],
   "source": [
    "# Extracting the data for different seasons\n",
    "summer = df[df['season_cat']=='summer']['count']\n",
    "winter = df[df['season_cat']=='winter']['count']\n",
    "spring = df[df['season_cat']=='spring']['count']\n",
    "fall = df[df['season_cat']=='fall']['count']"
   ]
  },
  {
   "cell_type": "code",
   "execution_count": 43,
   "id": "fe52e52d",
   "metadata": {},
   "outputs": [
    {
     "name": "stdout",
     "output_type": "stream",
     "text": [
      "Test statistic : 1.2372752169779413\n",
      "P-value : 1.1170990373788981e-118\n",
      "alpha : 0.05\n",
      "Reject H0\n"
     ]
    }
   ],
   "source": [
    "# Running levene test\n",
    "test_stat, p_value = levene(summer, winter, spring, fall)\n",
    "print('Test statistic :', test_stats)\n",
    "print('P-value :', p_value)\n",
    "print('alpha :', alpha)\n",
    "if p_value < alpha:\n",
    "    print('Reject H0')\n",
    "else:\n",
    "    print('Fail to reject H0')"
   ]
  },
  {
   "cell_type": "markdown",
   "id": "f3f7924a",
   "metadata": {},
   "source": [
    "The test for assumption of equal variance also failed. But still annova can be used or we can either use kruskal wallis test also. Let's try both test and compare the difference. "
   ]
  },
  {
   "cell_type": "markdown",
   "id": "e4b5d988",
   "metadata": {},
   "source": [
    "### ANNOVA\n",
    "\n",
    ">Null hypothesis, $(H_0)$ : Average number of cycles rented is similar in different seasons\n",
    "\n",
    ">Alternate hypothesis, $(H_a)$ : Average number of cycles rented is different in atleast one season"
   ]
  },
  {
   "cell_type": "code",
   "execution_count": 44,
   "id": "ee6e09a6",
   "metadata": {},
   "outputs": [
    {
     "name": "stdout",
     "output_type": "stream",
     "text": [
      "Test statistic : 1.2372752169779413\n",
      "P-value : 6.204069471997093e-149\n",
      "alpha : 0.05\n",
      "Reject H0\n"
     ]
    }
   ],
   "source": [
    "# Running one way annova test\n",
    "test_stat, p_value = f_oneway(summer, winter, spring, fall)\n",
    "print('Test statistic :', test_stats)\n",
    "print('P-value :', p_value)\n",
    "print('alpha :', alpha)\n",
    "if p_value < alpha:\n",
    "    print('Reject H0')\n",
    "else:\n",
    "    print('Fail to reject H0')"
   ]
  },
  {
   "cell_type": "markdown",
   "id": "4f255770",
   "metadata": {},
   "source": [
    "The p_value is very small and less than alpha, we will reject our null hypothesis. But lets reconfirm this result with kruskal test"
   ]
  },
  {
   "cell_type": "code",
   "execution_count": 45,
   "id": "08efbe98",
   "metadata": {},
   "outputs": [
    {
     "name": "stdout",
     "output_type": "stream",
     "text": [
      "Test statistic : 1.2372752169779413\n",
      "P-value : 2.2263612957303657e-151\n",
      "alpha : 0.05\n",
      "Reject H0\n"
     ]
    }
   ],
   "source": [
    "# Running kruskal wallis test\n",
    "test_stat, p_value = kruskal(summer, winter, spring, fall)\n",
    "print('Test statistic :', test_stats)\n",
    "print('P-value :', p_value)\n",
    "print('alpha :', alpha)\n",
    "if p_value < alpha:\n",
    "    print('Reject H0')\n",
    "else:\n",
    "    print('Fail to reject H0')"
   ]
  },
  {
   "cell_type": "markdown",
   "id": "67619a61",
   "metadata": {},
   "source": [
    "The kruskal wallis test also gave the same result"
   ]
  },
  {
   "cell_type": "markdown",
   "id": "680b2f30",
   "metadata": {},
   "source": [
    "**Observation**\n",
    "- The p value is very low and it is lesser than significance level of 0.05, so we will reject the null hypothesis $H_0$ which means the average number of cycles rented in different seasons are not same and the season has impact on count. Hence the observation that the season has significant effect in number of cycles rented is statistically verified with a confidence 95%"
   ]
  },
  {
   "cell_type": "markdown",
   "id": "555de158",
   "metadata": {},
   "source": [
    "## 4. Does the weather is dependent on the season ?"
   ]
  },
  {
   "cell_type": "markdown",
   "id": "d5ff618c",
   "metadata": {},
   "source": [
    "Let's first define the null and alternate hypothesis for this problem statement.\n",
    "\n",
    ">$H_0$ : Weather is independent of season\n",
    "\n",
    ">$H_a$ : Weather is dependent on season\n",
    "\n",
    "we have two categorical columns to check for dependancy. Therefore, chi square test would be appropriate for this case."
   ]
  },
  {
   "cell_type": "code",
   "execution_count": 47,
   "id": "729a84f9",
   "metadata": {},
   "outputs": [
    {
     "data": {
      "text/html": [
       "<div>\n",
       "<style scoped>\n",
       "    .dataframe tbody tr th:only-of-type {\n",
       "        vertical-align: middle;\n",
       "    }\n",
       "\n",
       "    .dataframe tbody tr th {\n",
       "        vertical-align: top;\n",
       "    }\n",
       "\n",
       "    .dataframe thead th {\n",
       "        text-align: right;\n",
       "    }\n",
       "</style>\n",
       "<table border=\"1\" class=\"dataframe\">\n",
       "  <thead>\n",
       "    <tr style=\"text-align: right;\">\n",
       "      <th>season_cat</th>\n",
       "      <th>spring</th>\n",
       "      <th>summer</th>\n",
       "      <th>fall</th>\n",
       "      <th>winter</th>\n",
       "    </tr>\n",
       "    <tr>\n",
       "      <th>weather_cat</th>\n",
       "      <th></th>\n",
       "      <th></th>\n",
       "      <th></th>\n",
       "      <th></th>\n",
       "    </tr>\n",
       "  </thead>\n",
       "  <tbody>\n",
       "    <tr>\n",
       "      <th>clear</th>\n",
       "      <td>1759</td>\n",
       "      <td>1801</td>\n",
       "      <td>1930</td>\n",
       "      <td>1702</td>\n",
       "    </tr>\n",
       "    <tr>\n",
       "      <th>mist</th>\n",
       "      <td>715</td>\n",
       "      <td>708</td>\n",
       "      <td>604</td>\n",
       "      <td>807</td>\n",
       "    </tr>\n",
       "    <tr>\n",
       "      <th>light snow/rain</th>\n",
       "      <td>211</td>\n",
       "      <td>224</td>\n",
       "      <td>199</td>\n",
       "      <td>225</td>\n",
       "    </tr>\n",
       "  </tbody>\n",
       "</table>\n",
       "</div>"
      ],
      "text/plain": [
       "season_cat       spring  summer  fall  winter\n",
       "weather_cat                                  \n",
       "clear              1759    1801  1930    1702\n",
       "mist                715     708   604     807\n",
       "light snow/rain     211     224   199     225"
      ]
     },
     "execution_count": 47,
     "metadata": {},
     "output_type": "execute_result"
    }
   ],
   "source": [
    "pd.crosstab(df['weather_cat'], df['season_cat'])"
   ]
  },
  {
   "cell_type": "code",
   "execution_count": 46,
   "id": "2952b015",
   "metadata": {},
   "outputs": [
    {
     "name": "stdout",
     "output_type": "stream",
     "text": [
      "Test statistic : 46.101457310732485\n",
      "P-value : 2.8260014509929403e-08\n",
      "alpha : 0.05\n",
      "Reject H0\n"
     ]
    }
   ],
   "source": [
    "# Running chi square test\n",
    "test_stats, p_value, dof, exp = chi2_contingency(pd.crosstab(df['weather_cat'], df['season_cat']))\n",
    "print('Test statistic :', test_stats)\n",
    "print('P-value :', p_value)\n",
    "print('alpha :', alpha)\n",
    "if p_value < alpha:\n",
    "    print('Reject H0')\n",
    "else:\n",
    "    print('Fail to reject H0')"
   ]
  },
  {
   "cell_type": "markdown",
   "id": "bbbfb106",
   "metadata": {},
   "source": [
    "The p_value is very small and less than alpha, we will reject our null hypothesis."
   ]
  },
  {
   "cell_type": "markdown",
   "id": "8a15a7af",
   "metadata": {},
   "source": [
    "**Observation**\n",
    "- The p value is very low and it is lesser than significance level of 0.05, so we will reject the null hypothesis $H_0$ which means the season has impact on weather. Hence the observation that the season has significant effect on weather is statistically verified with a confidence 95%"
   ]
  },
  {
   "cell_type": "markdown",
   "id": "cf31173c",
   "metadata": {},
   "source": [
    "## Insights"
   ]
  },
  {
   "cell_type": "markdown",
   "id": "f967de23",
   "metadata": {},
   "source": [
    "- The data given ranges from the date - 1st of Jan, 2011 to 19th of Dec, 2012\n",
    "- The total count per hour ranges from 1 to 977 with an average of 191.5 and there is a gap between mean and median of the total count, so there might be some outliers in the data.\n",
    "- It seems that 68% of the given data are from working days and only 2% from holidays.\n",
    "- The distribution of the count column looks right skewed and look like log normal distribution\n",
    "- Almost 98% of the data is from non holidays\n",
    "- Almost 70% of the data is from working days\n",
    "- The weather is clear in almost 65% of the data\n",
    "- The working day and non working day both has almost same range of distribution and the median of them are also almost same. So the working day has no significant effect on the number of cycles rented\n",
    "- The barplot also shows the same that the average number of cycles rented on working day and the non working day are almost same. So it again confirms that working day has no significant effect on count in our given sample\n",
    "- The median count of the cycles rented is low in the spring season compared with all other seasons\n",
    "- The median count of the cycles rented is more in the fall season compared with all other seasons\n",
    "- The barplot also confirms the same that the average cycles rented is more in the fall season and less in the spring season in our given sample\n",
    "- The median of count in clear weather condition is high when compared with other two weather conditions\n",
    "- The median of count in light snow/rain weather condition is low when compared with other weather conditions\n",
    "- The barplot also confirms the same that the average number of cycles rented in clear weather condition is high and in light snow/rain is low in our given sample.\n",
    "- While checking if Working Day has an effect on the number of electric cycles rented, the p value is 0.108 and it is greater than significance level of 0.05, so we will fail to reject the null hypothesis $H_0$, which means the average number of cycles rented in the working day is not greater than the non working day. Hence the observation that the working day has no significant effect in number of cycles rented is statistically verified with a confidence 95%\n",
    "- While checking if No. of cycles rented is similar or different in different weather, the p value is very low and it is lesser than significance level of 0.05, so we will reject the null hypothesis $H_0$ which means the average number of cycles rented in different weather conditions are not same and the weather has impact on count. Hence the observation that the weather has significant effect in number of cycles rented is statistically verified with a confidence 95%\n",
    "- While checking if No. of cycles rented is similar or different in different seasons, the p value is very low and it is lesser than significance level of 0.05, so we will reject the null hypothesis $H_0$ which means the average number of cycles rented in different seasons are not same and the season has impact on count. Hence the observation that the season has significant effect in number of cycles rented is statistically verified with a confidence 95%\n",
    "- while checking if Weather is dependent on the season, the p value is very low and it is lesser than significance level of 0.05, so we will reject the null hypothesis $H_0$ which means the season has impact on weather. Hence the observation that the season has significant effect on weather is statistically verified with a confidence 95%"
   ]
  },
  {
   "cell_type": "markdown",
   "id": "78b68c1a",
   "metadata": {},
   "source": [
    "## Recommendations"
   ]
  },
  {
   "cell_type": "markdown",
   "id": "8c5a9892",
   "metadata": {},
   "source": [
    "- The weather and seasons are the variables which are significant in predicting the demand for shared electric cycles in the Indian market\n",
    "- The company would expect a high demand on fall season and clear weather. So it is recommended to make sure the availability of the cycles at that time to face the demand \n",
    "- The company would expect a low demand on spring season and light snow/rain weather condition. So it is recommended to plan maintenance activities of cycles at that time.\n",
    "- Also the company can provide more offers for riders on low demand seasons to attract more riders"
   ]
  }
 ],
 "metadata": {
  "kernelspec": {
   "display_name": "Python 3 (ipykernel)",
   "language": "python",
   "name": "python3"
  },
  "language_info": {
   "codemirror_mode": {
    "name": "ipython",
    "version": 3
   },
   "file_extension": ".py",
   "mimetype": "text/x-python",
   "name": "python",
   "nbconvert_exporter": "python",
   "pygments_lexer": "ipython3",
   "version": "3.9.13"
  }
 },
 "nbformat": 4,
 "nbformat_minor": 5
}
