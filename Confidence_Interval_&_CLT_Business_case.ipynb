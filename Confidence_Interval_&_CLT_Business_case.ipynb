{
 "cells": [
  {
   "cell_type": "markdown",
   "id": "83e3918e",
   "metadata": {},
   "source": [
    "# Business case of an American multinational retail corporation"
   ]
  },
  {
   "cell_type": "markdown",
   "id": "30e85fa7",
   "metadata": {},
   "source": [
    "### Goal:\n",
    "    To understand if the spending habits differ between male and female customers."
   ]
  },
  {
   "cell_type": "markdown",
   "id": "6a28a938",
   "metadata": {},
   "source": [
    "### Importing necessary libraries"
   ]
  },
  {
   "cell_type": "code",
   "execution_count": 10,
   "id": "98c42fc2",
   "metadata": {},
   "outputs": [],
   "source": [
    "import math\n",
    "import numpy as np\n",
    "import pandas as pd\n",
    "import matplotlib.pyplot as plt\n",
    "import seaborn as sns\n",
    "from scipy.stats import norm"
   ]
  },
  {
   "cell_type": "markdown",
   "id": "63573be4",
   "metadata": {},
   "source": [
    "### Reading the CSV file and creating a dataframe"
   ]
  },
  {
   "cell_type": "code",
   "execution_count": 11,
   "id": "6a393ed5",
   "metadata": {},
   "outputs": [
    {
     "data": {
      "text/html": [
       "<div>\n",
       "<style scoped>\n",
       "    .dataframe tbody tr th:only-of-type {\n",
       "        vertical-align: middle;\n",
       "    }\n",
       "\n",
       "    .dataframe tbody tr th {\n",
       "        vertical-align: top;\n",
       "    }\n",
       "\n",
       "    .dataframe thead th {\n",
       "        text-align: right;\n",
       "    }\n",
       "</style>\n",
       "<table border=\"1\" class=\"dataframe\">\n",
       "  <thead>\n",
       "    <tr style=\"text-align: right;\">\n",
       "      <th></th>\n",
       "      <th>User_ID</th>\n",
       "      <th>Product_ID</th>\n",
       "      <th>Gender</th>\n",
       "      <th>Age</th>\n",
       "      <th>Occupation</th>\n",
       "      <th>City_Category</th>\n",
       "      <th>Stay_In_Current_City_Years</th>\n",
       "      <th>Marital_Status</th>\n",
       "      <th>Product_Category</th>\n",
       "      <th>Purchase</th>\n",
       "    </tr>\n",
       "  </thead>\n",
       "  <tbody>\n",
       "    <tr>\n",
       "      <th>0</th>\n",
       "      <td>1000001</td>\n",
       "      <td>P00069042</td>\n",
       "      <td>F</td>\n",
       "      <td>0-17</td>\n",
       "      <td>10</td>\n",
       "      <td>A</td>\n",
       "      <td>2</td>\n",
       "      <td>0</td>\n",
       "      <td>3</td>\n",
       "      <td>8370</td>\n",
       "    </tr>\n",
       "    <tr>\n",
       "      <th>1</th>\n",
       "      <td>1000001</td>\n",
       "      <td>P00248942</td>\n",
       "      <td>F</td>\n",
       "      <td>0-17</td>\n",
       "      <td>10</td>\n",
       "      <td>A</td>\n",
       "      <td>2</td>\n",
       "      <td>0</td>\n",
       "      <td>1</td>\n",
       "      <td>15200</td>\n",
       "    </tr>\n",
       "    <tr>\n",
       "      <th>2</th>\n",
       "      <td>1000001</td>\n",
       "      <td>P00087842</td>\n",
       "      <td>F</td>\n",
       "      <td>0-17</td>\n",
       "      <td>10</td>\n",
       "      <td>A</td>\n",
       "      <td>2</td>\n",
       "      <td>0</td>\n",
       "      <td>12</td>\n",
       "      <td>1422</td>\n",
       "    </tr>\n",
       "    <tr>\n",
       "      <th>3</th>\n",
       "      <td>1000001</td>\n",
       "      <td>P00085442</td>\n",
       "      <td>F</td>\n",
       "      <td>0-17</td>\n",
       "      <td>10</td>\n",
       "      <td>A</td>\n",
       "      <td>2</td>\n",
       "      <td>0</td>\n",
       "      <td>12</td>\n",
       "      <td>1057</td>\n",
       "    </tr>\n",
       "    <tr>\n",
       "      <th>4</th>\n",
       "      <td>1000002</td>\n",
       "      <td>P00285442</td>\n",
       "      <td>M</td>\n",
       "      <td>55+</td>\n",
       "      <td>16</td>\n",
       "      <td>C</td>\n",
       "      <td>4+</td>\n",
       "      <td>0</td>\n",
       "      <td>8</td>\n",
       "      <td>7969</td>\n",
       "    </tr>\n",
       "    <tr>\n",
       "      <th>...</th>\n",
       "      <td>...</td>\n",
       "      <td>...</td>\n",
       "      <td>...</td>\n",
       "      <td>...</td>\n",
       "      <td>...</td>\n",
       "      <td>...</td>\n",
       "      <td>...</td>\n",
       "      <td>...</td>\n",
       "      <td>...</td>\n",
       "      <td>...</td>\n",
       "    </tr>\n",
       "    <tr>\n",
       "      <th>550063</th>\n",
       "      <td>1006033</td>\n",
       "      <td>P00372445</td>\n",
       "      <td>M</td>\n",
       "      <td>51-55</td>\n",
       "      <td>13</td>\n",
       "      <td>B</td>\n",
       "      <td>1</td>\n",
       "      <td>1</td>\n",
       "      <td>20</td>\n",
       "      <td>368</td>\n",
       "    </tr>\n",
       "    <tr>\n",
       "      <th>550064</th>\n",
       "      <td>1006035</td>\n",
       "      <td>P00375436</td>\n",
       "      <td>F</td>\n",
       "      <td>26-35</td>\n",
       "      <td>1</td>\n",
       "      <td>C</td>\n",
       "      <td>3</td>\n",
       "      <td>0</td>\n",
       "      <td>20</td>\n",
       "      <td>371</td>\n",
       "    </tr>\n",
       "    <tr>\n",
       "      <th>550065</th>\n",
       "      <td>1006036</td>\n",
       "      <td>P00375436</td>\n",
       "      <td>F</td>\n",
       "      <td>26-35</td>\n",
       "      <td>15</td>\n",
       "      <td>B</td>\n",
       "      <td>4+</td>\n",
       "      <td>1</td>\n",
       "      <td>20</td>\n",
       "      <td>137</td>\n",
       "    </tr>\n",
       "    <tr>\n",
       "      <th>550066</th>\n",
       "      <td>1006038</td>\n",
       "      <td>P00375436</td>\n",
       "      <td>F</td>\n",
       "      <td>55+</td>\n",
       "      <td>1</td>\n",
       "      <td>C</td>\n",
       "      <td>2</td>\n",
       "      <td>0</td>\n",
       "      <td>20</td>\n",
       "      <td>365</td>\n",
       "    </tr>\n",
       "    <tr>\n",
       "      <th>550067</th>\n",
       "      <td>1006039</td>\n",
       "      <td>P00371644</td>\n",
       "      <td>F</td>\n",
       "      <td>46-50</td>\n",
       "      <td>0</td>\n",
       "      <td>B</td>\n",
       "      <td>4+</td>\n",
       "      <td>1</td>\n",
       "      <td>20</td>\n",
       "      <td>490</td>\n",
       "    </tr>\n",
       "  </tbody>\n",
       "</table>\n",
       "<p>550068 rows × 10 columns</p>\n",
       "</div>"
      ],
      "text/plain": [
       "        User_ID Product_ID Gender    Age  Occupation City_Category  \\\n",
       "0       1000001  P00069042      F   0-17          10             A   \n",
       "1       1000001  P00248942      F   0-17          10             A   \n",
       "2       1000001  P00087842      F   0-17          10             A   \n",
       "3       1000001  P00085442      F   0-17          10             A   \n",
       "4       1000002  P00285442      M    55+          16             C   \n",
       "...         ...        ...    ...    ...         ...           ...   \n",
       "550063  1006033  P00372445      M  51-55          13             B   \n",
       "550064  1006035  P00375436      F  26-35           1             C   \n",
       "550065  1006036  P00375436      F  26-35          15             B   \n",
       "550066  1006038  P00375436      F    55+           1             C   \n",
       "550067  1006039  P00371644      F  46-50           0             B   \n",
       "\n",
       "       Stay_In_Current_City_Years  Marital_Status  Product_Category  Purchase  \n",
       "0                               2               0                 3      8370  \n",
       "1                               2               0                 1     15200  \n",
       "2                               2               0                12      1422  \n",
       "3                               2               0                12      1057  \n",
       "4                              4+               0                 8      7969  \n",
       "...                           ...             ...               ...       ...  \n",
       "550063                          1               1                20       368  \n",
       "550064                          3               0                20       371  \n",
       "550065                         4+               1                20       137  \n",
       "550066                          2               0                20       365  \n",
       "550067                         4+               1                20       490  \n",
       "\n",
       "[550068 rows x 10 columns]"
      ]
     },
     "execution_count": 11,
     "metadata": {},
     "output_type": "execute_result"
    }
   ],
   "source": [
    "df = pd.read_csv(r\"D:\\01 STUDY MATERIALS\\SCALER\\Core Module\\Walmart - Biz Case\\walmart_data.csv\")\n",
    "df"
   ]
  },
  {
   "cell_type": "markdown",
   "id": "eeb53f81",
   "metadata": {},
   "source": [
    "### EXPLORATORY ANALYSIS"
   ]
  },
  {
   "cell_type": "markdown",
   "id": "8503c1f7",
   "metadata": {},
   "source": [
    "### Non - Graphical Analysis:"
   ]
  },
  {
   "cell_type": "code",
   "execution_count": 12,
   "id": "62a40051",
   "metadata": {},
   "outputs": [
    {
     "data": {
      "text/plain": [
       "(550068, 10)"
      ]
     },
     "execution_count": 12,
     "metadata": {},
     "output_type": "execute_result"
    }
   ],
   "source": [
    "df.shape"
   ]
  },
  {
   "cell_type": "markdown",
   "id": "2a91ad45",
   "metadata": {},
   "source": [
    "**Observation**:\n",
    "More than 5.5 lakhs rows of data is available."
   ]
  },
  {
   "cell_type": "code",
   "execution_count": 13,
   "id": "1cc476f4",
   "metadata": {},
   "outputs": [
    {
     "name": "stdout",
     "output_type": "stream",
     "text": [
      "<class 'pandas.core.frame.DataFrame'>\n",
      "RangeIndex: 550068 entries, 0 to 550067\n",
      "Data columns (total 10 columns):\n",
      " #   Column                      Non-Null Count   Dtype \n",
      "---  ------                      --------------   ----- \n",
      " 0   User_ID                     550068 non-null  int64 \n",
      " 1   Product_ID                  550068 non-null  object\n",
      " 2   Gender                      550068 non-null  object\n",
      " 3   Age                         550068 non-null  object\n",
      " 4   Occupation                  550068 non-null  int64 \n",
      " 5   City_Category               550068 non-null  object\n",
      " 6   Stay_In_Current_City_Years  550068 non-null  object\n",
      " 7   Marital_Status              550068 non-null  int64 \n",
      " 8   Product_Category            550068 non-null  int64 \n",
      " 9   Purchase                    550068 non-null  int64 \n",
      "dtypes: int64(5), object(5)\n",
      "memory usage: 42.0+ MB\n"
     ]
    }
   ],
   "source": [
    "df.info()"
   ]
  },
  {
   "cell_type": "markdown",
   "id": "36ac0a1c",
   "metadata": {},
   "source": [
    "**Observation:**\n",
    "There is no null values in the data."
   ]
  },
  {
   "cell_type": "code",
   "execution_count": 14,
   "id": "d71f926b",
   "metadata": {},
   "outputs": [
    {
     "data": {
      "text/html": [
       "<div>\n",
       "<style scoped>\n",
       "    .dataframe tbody tr th:only-of-type {\n",
       "        vertical-align: middle;\n",
       "    }\n",
       "\n",
       "    .dataframe tbody tr th {\n",
       "        vertical-align: top;\n",
       "    }\n",
       "\n",
       "    .dataframe thead th {\n",
       "        text-align: right;\n",
       "    }\n",
       "</style>\n",
       "<table border=\"1\" class=\"dataframe\">\n",
       "  <thead>\n",
       "    <tr style=\"text-align: right;\">\n",
       "      <th></th>\n",
       "      <th>User_ID</th>\n",
       "      <th>Product_ID</th>\n",
       "      <th>Gender</th>\n",
       "      <th>Age</th>\n",
       "      <th>Occupation</th>\n",
       "      <th>City_Category</th>\n",
       "      <th>Stay_In_Current_City_Years</th>\n",
       "      <th>Marital_Status</th>\n",
       "      <th>Product_Category</th>\n",
       "      <th>Purchase</th>\n",
       "    </tr>\n",
       "  </thead>\n",
       "  <tbody>\n",
       "    <tr>\n",
       "      <th>count</th>\n",
       "      <td>5.500680e+05</td>\n",
       "      <td>550068</td>\n",
       "      <td>550068</td>\n",
       "      <td>550068</td>\n",
       "      <td>550068.000000</td>\n",
       "      <td>550068</td>\n",
       "      <td>550068</td>\n",
       "      <td>550068.000000</td>\n",
       "      <td>550068.000000</td>\n",
       "      <td>550068.000000</td>\n",
       "    </tr>\n",
       "    <tr>\n",
       "      <th>unique</th>\n",
       "      <td>NaN</td>\n",
       "      <td>3631</td>\n",
       "      <td>2</td>\n",
       "      <td>7</td>\n",
       "      <td>NaN</td>\n",
       "      <td>3</td>\n",
       "      <td>5</td>\n",
       "      <td>NaN</td>\n",
       "      <td>NaN</td>\n",
       "      <td>NaN</td>\n",
       "    </tr>\n",
       "    <tr>\n",
       "      <th>top</th>\n",
       "      <td>NaN</td>\n",
       "      <td>P00265242</td>\n",
       "      <td>M</td>\n",
       "      <td>26-35</td>\n",
       "      <td>NaN</td>\n",
       "      <td>B</td>\n",
       "      <td>1</td>\n",
       "      <td>NaN</td>\n",
       "      <td>NaN</td>\n",
       "      <td>NaN</td>\n",
       "    </tr>\n",
       "    <tr>\n",
       "      <th>freq</th>\n",
       "      <td>NaN</td>\n",
       "      <td>1880</td>\n",
       "      <td>414259</td>\n",
       "      <td>219587</td>\n",
       "      <td>NaN</td>\n",
       "      <td>231173</td>\n",
       "      <td>193821</td>\n",
       "      <td>NaN</td>\n",
       "      <td>NaN</td>\n",
       "      <td>NaN</td>\n",
       "    </tr>\n",
       "    <tr>\n",
       "      <th>mean</th>\n",
       "      <td>1.003029e+06</td>\n",
       "      <td>NaN</td>\n",
       "      <td>NaN</td>\n",
       "      <td>NaN</td>\n",
       "      <td>8.076707</td>\n",
       "      <td>NaN</td>\n",
       "      <td>NaN</td>\n",
       "      <td>0.409653</td>\n",
       "      <td>5.404270</td>\n",
       "      <td>9263.968713</td>\n",
       "    </tr>\n",
       "    <tr>\n",
       "      <th>std</th>\n",
       "      <td>1.727592e+03</td>\n",
       "      <td>NaN</td>\n",
       "      <td>NaN</td>\n",
       "      <td>NaN</td>\n",
       "      <td>6.522660</td>\n",
       "      <td>NaN</td>\n",
       "      <td>NaN</td>\n",
       "      <td>0.491770</td>\n",
       "      <td>3.936211</td>\n",
       "      <td>5023.065394</td>\n",
       "    </tr>\n",
       "    <tr>\n",
       "      <th>min</th>\n",
       "      <td>1.000001e+06</td>\n",
       "      <td>NaN</td>\n",
       "      <td>NaN</td>\n",
       "      <td>NaN</td>\n",
       "      <td>0.000000</td>\n",
       "      <td>NaN</td>\n",
       "      <td>NaN</td>\n",
       "      <td>0.000000</td>\n",
       "      <td>1.000000</td>\n",
       "      <td>12.000000</td>\n",
       "    </tr>\n",
       "    <tr>\n",
       "      <th>25%</th>\n",
       "      <td>1.001516e+06</td>\n",
       "      <td>NaN</td>\n",
       "      <td>NaN</td>\n",
       "      <td>NaN</td>\n",
       "      <td>2.000000</td>\n",
       "      <td>NaN</td>\n",
       "      <td>NaN</td>\n",
       "      <td>0.000000</td>\n",
       "      <td>1.000000</td>\n",
       "      <td>5823.000000</td>\n",
       "    </tr>\n",
       "    <tr>\n",
       "      <th>50%</th>\n",
       "      <td>1.003077e+06</td>\n",
       "      <td>NaN</td>\n",
       "      <td>NaN</td>\n",
       "      <td>NaN</td>\n",
       "      <td>7.000000</td>\n",
       "      <td>NaN</td>\n",
       "      <td>NaN</td>\n",
       "      <td>0.000000</td>\n",
       "      <td>5.000000</td>\n",
       "      <td>8047.000000</td>\n",
       "    </tr>\n",
       "    <tr>\n",
       "      <th>75%</th>\n",
       "      <td>1.004478e+06</td>\n",
       "      <td>NaN</td>\n",
       "      <td>NaN</td>\n",
       "      <td>NaN</td>\n",
       "      <td>14.000000</td>\n",
       "      <td>NaN</td>\n",
       "      <td>NaN</td>\n",
       "      <td>1.000000</td>\n",
       "      <td>8.000000</td>\n",
       "      <td>12054.000000</td>\n",
       "    </tr>\n",
       "    <tr>\n",
       "      <th>max</th>\n",
       "      <td>1.006040e+06</td>\n",
       "      <td>NaN</td>\n",
       "      <td>NaN</td>\n",
       "      <td>NaN</td>\n",
       "      <td>20.000000</td>\n",
       "      <td>NaN</td>\n",
       "      <td>NaN</td>\n",
       "      <td>1.000000</td>\n",
       "      <td>20.000000</td>\n",
       "      <td>23961.000000</td>\n",
       "    </tr>\n",
       "  </tbody>\n",
       "</table>\n",
       "</div>"
      ],
      "text/plain": [
       "             User_ID Product_ID  Gender     Age     Occupation City_Category  \\\n",
       "count   5.500680e+05     550068  550068  550068  550068.000000        550068   \n",
       "unique           NaN       3631       2       7            NaN             3   \n",
       "top              NaN  P00265242       M   26-35            NaN             B   \n",
       "freq             NaN       1880  414259  219587            NaN        231173   \n",
       "mean    1.003029e+06        NaN     NaN     NaN       8.076707           NaN   \n",
       "std     1.727592e+03        NaN     NaN     NaN       6.522660           NaN   \n",
       "min     1.000001e+06        NaN     NaN     NaN       0.000000           NaN   \n",
       "25%     1.001516e+06        NaN     NaN     NaN       2.000000           NaN   \n",
       "50%     1.003077e+06        NaN     NaN     NaN       7.000000           NaN   \n",
       "75%     1.004478e+06        NaN     NaN     NaN      14.000000           NaN   \n",
       "max     1.006040e+06        NaN     NaN     NaN      20.000000           NaN   \n",
       "\n",
       "       Stay_In_Current_City_Years  Marital_Status  Product_Category  \\\n",
       "count                      550068   550068.000000     550068.000000   \n",
       "unique                          5             NaN               NaN   \n",
       "top                             1             NaN               NaN   \n",
       "freq                       193821             NaN               NaN   \n",
       "mean                          NaN        0.409653          5.404270   \n",
       "std                           NaN        0.491770          3.936211   \n",
       "min                           NaN        0.000000          1.000000   \n",
       "25%                           NaN        0.000000          1.000000   \n",
       "50%                           NaN        0.000000          5.000000   \n",
       "75%                           NaN        1.000000          8.000000   \n",
       "max                           NaN        1.000000         20.000000   \n",
       "\n",
       "             Purchase  \n",
       "count   550068.000000  \n",
       "unique            NaN  \n",
       "top               NaN  \n",
       "freq              NaN  \n",
       "mean      9263.968713  \n",
       "std       5023.065394  \n",
       "min         12.000000  \n",
       "25%       5823.000000  \n",
       "50%       8047.000000  \n",
       "75%      12054.000000  \n",
       "max      23961.000000  "
      ]
     },
     "execution_count": 14,
     "metadata": {},
     "output_type": "execute_result"
    }
   ],
   "source": [
    "df.describe(include = 'all')"
   ]
  },
  {
   "cell_type": "markdown",
   "id": "ff3e59de",
   "metadata": {},
   "source": [
    "**Observations:**\n",
    "* The average purchase amount of the given data is 9263.96,\n",
    "* The standard deviation is 5023.06,\n",
    "* The minimum and the maximum purchase amount was 12 and 23961 respectively."
   ]
  },
  {
   "cell_type": "code",
   "execution_count": 18,
   "id": "f99bc8e0",
   "metadata": {},
   "outputs": [
    {
     "data": {
      "text/plain": [
       "26-35    0.399200\n",
       "36-45    0.199999\n",
       "18-25    0.181178\n",
       "46-50    0.083082\n",
       "51-55    0.069993\n",
       "55+      0.039093\n",
       "0-17     0.027455\n",
       "Name: Age, dtype: float64"
      ]
     },
     "execution_count": 18,
     "metadata": {},
     "output_type": "execute_result"
    }
   ],
   "source": [
    "df[\"Age\"].value_counts(normalize = True)"
   ]
  },
  {
   "cell_type": "markdown",
   "id": "992533e3",
   "metadata": {},
   "source": [
    "**Insight:**\n",
    "* Almost 40 % of the purchase were made by the customers between the age of 26 - 35"
   ]
  },
  {
   "cell_type": "code",
   "execution_count": 22,
   "id": "5b3eedd4",
   "metadata": {},
   "outputs": [
    {
     "data": {
      "text/plain": [
       "M    414259\n",
       "F    135809\n",
       "Name: Gender, dtype: int64"
      ]
     },
     "execution_count": 22,
     "metadata": {},
     "output_type": "execute_result"
    }
   ],
   "source": [
    "df['Gender'].value_counts()"
   ]
  },
  {
   "cell_type": "markdown",
   "id": "82d02a47",
   "metadata": {},
   "source": [
    "**Observation:**\n",
    "* The data provided is for 414259 Males and 135809 Females"
   ]
  },
  {
   "cell_type": "code",
   "execution_count": 23,
   "id": "b62e0d96",
   "metadata": {},
   "outputs": [
    {
     "data": {
      "text/plain": [
       "B    231173\n",
       "C    171175\n",
       "A    147720\n",
       "Name: City_Category, dtype: int64"
      ]
     },
     "execution_count": 23,
     "metadata": {},
     "output_type": "execute_result"
    }
   ],
   "source": [
    "df['City_Category'].value_counts()"
   ]
  },
  {
   "cell_type": "markdown",
   "id": "38ec7f2b",
   "metadata": {},
   "source": [
    "**Observation:**\n",
    "* The customers from the city category B has most number of purchases in the given data."
   ]
  },
  {
   "cell_type": "code",
   "execution_count": 26,
   "id": "69dd608c",
   "metadata": {},
   "outputs": [
    {
     "data": {
      "text/html": [
       "<div>\n",
       "<style scoped>\n",
       "    .dataframe tbody tr th:only-of-type {\n",
       "        vertical-align: middle;\n",
       "    }\n",
       "\n",
       "    .dataframe tbody tr th {\n",
       "        vertical-align: top;\n",
       "    }\n",
       "\n",
       "    .dataframe thead th {\n",
       "        text-align: right;\n",
       "    }\n",
       "</style>\n",
       "<table border=\"1\" class=\"dataframe\">\n",
       "  <thead>\n",
       "    <tr style=\"text-align: right;\">\n",
       "      <th>Age</th>\n",
       "      <th>0-17</th>\n",
       "      <th>18-25</th>\n",
       "      <th>26-35</th>\n",
       "      <th>36-45</th>\n",
       "      <th>46-50</th>\n",
       "      <th>51-55</th>\n",
       "      <th>55+</th>\n",
       "    </tr>\n",
       "    <tr>\n",
       "      <th>Gender</th>\n",
       "      <th></th>\n",
       "      <th></th>\n",
       "      <th></th>\n",
       "      <th></th>\n",
       "      <th></th>\n",
       "      <th></th>\n",
       "      <th></th>\n",
       "    </tr>\n",
       "  </thead>\n",
       "  <tbody>\n",
       "    <tr>\n",
       "      <th>F</th>\n",
       "      <td>0.037428</td>\n",
       "      <td>0.181343</td>\n",
       "      <td>0.373701</td>\n",
       "      <td>0.200060</td>\n",
       "      <td>0.097188</td>\n",
       "      <td>0.072852</td>\n",
       "      <td>0.037428</td>\n",
       "    </tr>\n",
       "    <tr>\n",
       "      <th>M</th>\n",
       "      <td>0.024185</td>\n",
       "      <td>0.181123</td>\n",
       "      <td>0.407559</td>\n",
       "      <td>0.199979</td>\n",
       "      <td>0.078458</td>\n",
       "      <td>0.069056</td>\n",
       "      <td>0.039639</td>\n",
       "    </tr>\n",
       "  </tbody>\n",
       "</table>\n",
       "</div>"
      ],
      "text/plain": [
       "Age         0-17     18-25     26-35     36-45     46-50     51-55       55+\n",
       "Gender                                                                      \n",
       "F       0.037428  0.181343  0.373701  0.200060  0.097188  0.072852  0.037428\n",
       "M       0.024185  0.181123  0.407559  0.199979  0.078458  0.069056  0.039639"
      ]
     },
     "execution_count": 26,
     "metadata": {},
     "output_type": "execute_result"
    }
   ],
   "source": [
    "pd.crosstab(df['Gender'], df['Age'], normalize = 'index')"
   ]
  },
  {
   "cell_type": "markdown",
   "id": "3c4c41c1",
   "metadata": {},
   "source": [
    "**Insight:**\n",
    "* Almost 41% of male customers and 37% of female customers who made purchase belongs to the age category of 26 - 35."
   ]
  },
  {
   "cell_type": "code",
   "execution_count": 28,
   "id": "1f2e221b",
   "metadata": {},
   "outputs": [
    {
     "data": {
      "text/html": [
       "<div>\n",
       "<style scoped>\n",
       "    .dataframe tbody tr th:only-of-type {\n",
       "        vertical-align: middle;\n",
       "    }\n",
       "\n",
       "    .dataframe tbody tr th {\n",
       "        vertical-align: top;\n",
       "    }\n",
       "\n",
       "    .dataframe thead th {\n",
       "        text-align: right;\n",
       "    }\n",
       "</style>\n",
       "<table border=\"1\" class=\"dataframe\">\n",
       "  <thead>\n",
       "    <tr style=\"text-align: right;\">\n",
       "      <th>Marital_Status</th>\n",
       "      <th>0</th>\n",
       "      <th>1</th>\n",
       "    </tr>\n",
       "    <tr>\n",
       "      <th>Gender</th>\n",
       "      <th></th>\n",
       "      <th></th>\n",
       "    </tr>\n",
       "  </thead>\n",
       "  <tbody>\n",
       "    <tr>\n",
       "      <th>F</th>\n",
       "      <td>0.580381</td>\n",
       "      <td>0.419619</td>\n",
       "    </tr>\n",
       "    <tr>\n",
       "      <th>M</th>\n",
       "      <td>0.593614</td>\n",
       "      <td>0.406386</td>\n",
       "    </tr>\n",
       "  </tbody>\n",
       "</table>\n",
       "</div>"
      ],
      "text/plain": [
       "Marital_Status         0         1\n",
       "Gender                            \n",
       "F               0.580381  0.419619\n",
       "M               0.593614  0.406386"
      ]
     },
     "execution_count": 28,
     "metadata": {},
     "output_type": "execute_result"
    }
   ],
   "source": [
    "pd.crosstab(df['Gender'], df['Marital_Status'], normalize = 'index')"
   ]
  },
  {
   "cell_type": "markdown",
   "id": "c4c5aa17",
   "metadata": {},
   "source": [
    "**Insight:**\n",
    "* Almost 60% of the purchases were made by the unmarried male and female customers. In other words, the single male and female customers tends to buy more than the married customers"
   ]
  },
  {
   "cell_type": "markdown",
   "id": "757ceebb",
   "metadata": {},
   "source": [
    "### Visual analysis:"
   ]
  },
  {
   "cell_type": "code",
   "execution_count": 29,
   "id": "45a0349f",
   "metadata": {},
   "outputs": [
    {
     "data": {
      "text/html": [
       "<div>\n",
       "<style scoped>\n",
       "    .dataframe tbody tr th:only-of-type {\n",
       "        vertical-align: middle;\n",
       "    }\n",
       "\n",
       "    .dataframe tbody tr th {\n",
       "        vertical-align: top;\n",
       "    }\n",
       "\n",
       "    .dataframe thead th {\n",
       "        text-align: right;\n",
       "    }\n",
       "</style>\n",
       "<table border=\"1\" class=\"dataframe\">\n",
       "  <thead>\n",
       "    <tr style=\"text-align: right;\">\n",
       "      <th></th>\n",
       "      <th>User_ID</th>\n",
       "      <th>Product_ID</th>\n",
       "      <th>Gender</th>\n",
       "      <th>Age</th>\n",
       "      <th>Occupation</th>\n",
       "      <th>City_Category</th>\n",
       "      <th>Stay_In_Current_City_Years</th>\n",
       "      <th>Marital_Status</th>\n",
       "      <th>Product_Category</th>\n",
       "      <th>Purchase</th>\n",
       "    </tr>\n",
       "  </thead>\n",
       "  <tbody>\n",
       "    <tr>\n",
       "      <th>0</th>\n",
       "      <td>1000001</td>\n",
       "      <td>P00069042</td>\n",
       "      <td>F</td>\n",
       "      <td>0-17</td>\n",
       "      <td>10</td>\n",
       "      <td>A</td>\n",
       "      <td>2</td>\n",
       "      <td>0</td>\n",
       "      <td>3</td>\n",
       "      <td>8370</td>\n",
       "    </tr>\n",
       "    <tr>\n",
       "      <th>1</th>\n",
       "      <td>1000001</td>\n",
       "      <td>P00248942</td>\n",
       "      <td>F</td>\n",
       "      <td>0-17</td>\n",
       "      <td>10</td>\n",
       "      <td>A</td>\n",
       "      <td>2</td>\n",
       "      <td>0</td>\n",
       "      <td>1</td>\n",
       "      <td>15200</td>\n",
       "    </tr>\n",
       "    <tr>\n",
       "      <th>2</th>\n",
       "      <td>1000001</td>\n",
       "      <td>P00087842</td>\n",
       "      <td>F</td>\n",
       "      <td>0-17</td>\n",
       "      <td>10</td>\n",
       "      <td>A</td>\n",
       "      <td>2</td>\n",
       "      <td>0</td>\n",
       "      <td>12</td>\n",
       "      <td>1422</td>\n",
       "    </tr>\n",
       "    <tr>\n",
       "      <th>3</th>\n",
       "      <td>1000001</td>\n",
       "      <td>P00085442</td>\n",
       "      <td>F</td>\n",
       "      <td>0-17</td>\n",
       "      <td>10</td>\n",
       "      <td>A</td>\n",
       "      <td>2</td>\n",
       "      <td>0</td>\n",
       "      <td>12</td>\n",
       "      <td>1057</td>\n",
       "    </tr>\n",
       "    <tr>\n",
       "      <th>4</th>\n",
       "      <td>1000002</td>\n",
       "      <td>P00285442</td>\n",
       "      <td>M</td>\n",
       "      <td>55+</td>\n",
       "      <td>16</td>\n",
       "      <td>C</td>\n",
       "      <td>4+</td>\n",
       "      <td>0</td>\n",
       "      <td>8</td>\n",
       "      <td>7969</td>\n",
       "    </tr>\n",
       "  </tbody>\n",
       "</table>\n",
       "</div>"
      ],
      "text/plain": [
       "   User_ID Product_ID Gender   Age  Occupation City_Category  \\\n",
       "0  1000001  P00069042      F  0-17          10             A   \n",
       "1  1000001  P00248942      F  0-17          10             A   \n",
       "2  1000001  P00087842      F  0-17          10             A   \n",
       "3  1000001  P00085442      F  0-17          10             A   \n",
       "4  1000002  P00285442      M   55+          16             C   \n",
       "\n",
       "  Stay_In_Current_City_Years  Marital_Status  Product_Category  Purchase  \n",
       "0                          2               0                 3      8370  \n",
       "1                          2               0                 1     15200  \n",
       "2                          2               0                12      1422  \n",
       "3                          2               0                12      1057  \n",
       "4                         4+               0                 8      7969  "
      ]
     },
     "execution_count": 29,
     "metadata": {},
     "output_type": "execute_result"
    }
   ],
   "source": [
    "df.head()"
   ]
  },
  {
   "cell_type": "code",
   "execution_count": 31,
   "id": "4dee4468",
   "metadata": {},
   "outputs": [
    {
     "data": {
      "image/png": "[encoded data removed]",
      "text/plain": [
       "<Figure size 640x480 with 1 Axes>"
      ]
     },
     "metadata": {},
     "output_type": "display_data"
    }
   ],
   "source": [
    "sns.countplot(x = df['Gender'])\n",
    "plt.show()"
   ]
  },
  {
   "cell_type": "markdown",
   "id": "942aa803",
   "metadata": {},
   "source": [
    "**Observation:**\n",
    "* The purchase data of the male customers contributes more in the given data"
   ]
  },
  {
   "cell_type": "code",
   "execution_count": 41,
   "id": "cd3a739b",
   "metadata": {},
   "outputs": [
    {
     "data": {
      "image/png": "[encoded data removed]",
      "text/plain": [
       "<Figure size 640x480 with 1 Axes>"
      ]
     },
     "metadata": {},
     "output_type": "display_data"
    }
   ],
   "source": [
    "sns.countplot(x = df['Age'], order = df['Age'].value_counts().index)\n",
    "plt.show()"
   ]
  },
  {
   "cell_type": "markdown",
   "id": "cb03fd9f",
   "metadata": {},
   "source": [
    "**Insight:**\n",
    "* The top 3 age categories are 26-35(mid), 36-45(old), 18-25(young)"
   ]
  },
  {
   "cell_type": "code",
   "execution_count": 33,
   "id": "bc81cfa3",
   "metadata": {},
   "outputs": [
    {
     "data": {
      "image/png": "[encoded data removed]",
      "text/plain": [
       "<Figure size 640x480 with 1 Axes>"
      ]
     },
     "metadata": {},
     "output_type": "display_data"
    }
   ],
   "source": [
    "sns.countplot(x = df['Product_Category'])\n",
    "plt.show()"
   ]
  },
  {
   "cell_type": "markdown",
   "id": "fcc544f9",
   "metadata": {},
   "source": [
    "**Insight:**\n",
    "* The top 3 product categories on black friday are 5, 1, and 8."
   ]
  },
  {
   "cell_type": "code",
   "execution_count": 35,
   "id": "3f3b6c5a",
   "metadata": {},
   "outputs": [
    {
     "data": {
      "image/png": "[encoded data removed]",
      "text/plain": [
       "<Figure size 640x480 with 1 Axes>"
      ]
     },
     "metadata": {},
     "output_type": "display_data"
    }
   ],
   "source": [
    "sns.countplot(x = df['Product_ID'], order = df['Product_ID'].value_counts().index[:3])\n",
    "plt.show()"
   ]
  },
  {
   "cell_type": "markdown",
   "id": "27467c29",
   "metadata": {},
   "source": [
    "**Insight:**\n",
    "* The top 3 products sold in the black friday are **P00265242, P00025442, P00110742**"
   ]
  },
  {
   "cell_type": "code",
   "execution_count": 38,
   "id": "d4e9f3b8",
   "metadata": {},
   "outputs": [
    {
     "data": {
      "image/png": "[encoded data removed]",
      "text/plain": [
       "<Figure size 1000x500 with 1 Axes>"
      ]
     },
     "metadata": {},
     "output_type": "display_data"
    }
   ],
   "source": [
    "plt.figure(figsize = (10,5))\n",
    "sns.boxplot(x = df['Purchase'], y = df['Gender'])\n",
    "plt.show()"
   ]
  },
  {
   "cell_type": "markdown",
   "id": "fa7161e6",
   "metadata": {},
   "source": [
    "**Insight:**\n",
    "* The median purchase amount of the male customers are bit higher than the median purchase amount of the female cusrtomers.\n",
    "* The female customers have more outliers than the male customers"
   ]
  },
  {
   "cell_type": "markdown",
   "id": "0397ec8f",
   "metadata": {},
   "source": [
    "**Tracking the amount spent per transaction for different gender**"
   ]
  },
  {
   "cell_type": "code",
   "execution_count": 39,
   "id": "a29916ea",
   "metadata": {},
   "outputs": [
    {
     "data": {
      "text/plain": [
       "Gender\n",
       "F    8734.565765\n",
       "M    9437.526040\n",
       "Name: Purchase, dtype: float64"
      ]
     },
     "execution_count": 39,
     "metadata": {},
     "output_type": "execute_result"
    }
   ],
   "source": [
    "df.groupby('Gender')['Purchase'].mean()"
   ]
  },
  {
   "cell_type": "markdown",
   "id": "7ebf0f9e",
   "metadata": {},
   "source": [
    "**Insight:**\n",
    "* The average amount spent per transaction for the male is 9437.5 and for female, it is 8734.5\n",
    "* On average, the male customers spend more than the female customers per transaction on black friday."
   ]
  },
  {
   "cell_type": "markdown",
   "id": "ea39cc7f",
   "metadata": {},
   "source": [
    "Lets find the average amount spent per transaction for all the male and female customers using CLT"
   ]
  },
  {
   "cell_type": "code",
   "execution_count": 42,
   "id": "866bdd02",
   "metadata": {},
   "outputs": [],
   "source": [
    "# Separating the male and female purchase data\n",
    "\n",
    "male = df.loc[df['Gender']=='M']\n",
    "\n",
    "female = df.loc[df['Gender']=='F']"
   ]
  },
  {
   "cell_type": "markdown",
   "id": "457f04f3",
   "metadata": {},
   "source": [
    "***Bootstrapping:***"
   ]
  },
  {
   "cell_type": "code",
   "execution_count": 43,
   "id": "18f1f3d3",
   "metadata": {},
   "outputs": [],
   "source": [
    "# Lets create a function for bootstrapping so that it can be used later\n",
    "\n",
    "def bootstrap(series, samples, trials):\n",
    "    sample_means = []\n",
    "    for t in range(trials):\n",
    "        s = series.sample(samples)\n",
    "        mean = s.mean()\n",
    "        sample_means.append(mean)\n",
    "    return sample_means"
   ]
  },
  {
   "cell_type": "markdown",
   "id": "7f97d5b9",
   "metadata": {},
   "source": [
    "Lets do bootstrapping for male and female customers with 300 samples and 1000 repetitions and observe the distribution of them."
   ]
  },
  {
   "cell_type": "code",
   "execution_count": 51,
   "id": "e80138f5",
   "metadata": {},
   "outputs": [],
   "source": [
    "male_sample_means = bootstrap(male['Purchase'], 300, 1000)\n",
    "female_sample_means = bootstrap(female['Purchase'], 300, 1000)"
   ]
  },
  {
   "cell_type": "code",
   "execution_count": 54,
   "id": "e1edea70",
   "metadata": {},
   "outputs": [
    {
     "data": {
      "image/png": "[encoded data removed]",
      "text/plain": [
       "<Figure size 1000x500 with 2 Axes>"
      ]
     },
     "metadata": {},
     "output_type": "display_data"
    }
   ],
   "source": [
    "plt.figure(figsize = (10,5))\n",
    "plt.subplot(1,2,1)\n",
    "plt.title('Avg of Male purchase samples')\n",
    "sns.histplot(male_sample_means)\n",
    "\n",
    "plt.subplot(1,2,2)\n",
    "sns.histplot(female_sample_means)\n",
    "plt.title('Avg of female purchase samples')\n",
    "plt.show()"
   ]
  },
  {
   "cell_type": "markdown",
   "id": "4d500b0f",
   "metadata": {},
   "source": [
    "The distribution looks like gaussian, but not very smooth. So lets increase the sample size and repetitions to make it even smoothier."
   ]
  },
  {
   "cell_type": "code",
   "execution_count": 57,
   "id": "7881e58f",
   "metadata": {},
   "outputs": [],
   "source": [
    "male_sample_means = bootstrap(male['Purchase'], 3000, 10000)\n",
    "female_sample_means = bootstrap(female['Purchase'], 3000, 10000)"
   ]
  },
  {
   "cell_type": "code",
   "execution_count": 58,
   "id": "3ac825e1",
   "metadata": {},
   "outputs": [
    {
     "data": {
      "image/png": "[encoded data removed]",
      "text/plain": [
       "<Figure size 1000x500 with 2 Axes>"
      ]
     },
     "metadata": {},
     "output_type": "display_data"
    }
   ],
   "source": [
    "plt.figure(figsize = (10,5))\n",
    "plt.subplot(1,2,1)\n",
    "plt.title('Avg of Male purchase samples')\n",
    "sns.histplot(male_sample_means)\n",
    "\n",
    "plt.subplot(1,2,2)\n",
    "sns.histplot(female_sample_means)\n",
    "plt.title('Avg of female purchase samples')\n",
    "plt.show()"
   ]
  },
  {
   "cell_type": "markdown",
   "id": "90d4201b",
   "metadata": {},
   "source": [
    "Now the curve looks smoother. Lets increase the sample size even more and observe the distribution."
   ]
  },
  {
   "cell_type": "code",
   "execution_count": 59,
   "id": "d82e383e",
   "metadata": {},
   "outputs": [],
   "source": [
    "male_sample_means = bootstrap(male['Purchase'], 10000, 10000)\n",
    "female_sample_means = bootstrap(female['Purchase'], 10000, 10000)"
   ]
  },
  {
   "cell_type": "code",
   "execution_count": 60,
   "id": "a408ca63",
   "metadata": {},
   "outputs": [
    {
     "data": {
      "image/png": "[encoded data removed]",
      "text/plain": [
       "<Figure size 1000x500 with 2 Axes>"
      ]
     },
     "metadata": {},
     "output_type": "display_data"
    }
   ],
   "source": [
    "plt.figure(figsize = (10,5))\n",
    "plt.subplot(1,2,1)\n",
    "plt.title('Avg of Male purchase samples')\n",
    "sns.histplot(male_sample_means)\n",
    "\n",
    "plt.subplot(1,2,2)\n",
    "sns.histplot(female_sample_means)\n",
    "plt.title('Avg of female purchase samples')\n",
    "plt.show()"
   ]
  },
  {
   "cell_type": "markdown",
   "id": "acf90724",
   "metadata": {},
   "source": [
    "Now we got even smoother curve. Lets use this data to find the confidence intervals"
   ]
  },
  {
   "cell_type": "code",
   "execution_count": 61,
   "id": "bc4d91ec",
   "metadata": {},
   "outputs": [
    {
     "data": {
      "text/plain": [
       "5023.065393820627"
      ]
     },
     "execution_count": 61,
     "metadata": {},
     "output_type": "execute_result"
    }
   ],
   "source": [
    "# Lets find the standard deviation of the population before calculating the CI\n",
    "std_pop = df['Purchase'].std()\n",
    "std_pop"
   ]
  },
  {
   "cell_type": "code",
   "execution_count": 62,
   "id": "890132de",
   "metadata": {},
   "outputs": [
    {
     "data": {
      "text/plain": [
       "9437.75811743"
      ]
     },
     "execution_count": 62,
     "metadata": {},
     "output_type": "execute_result"
    }
   ],
   "source": [
    "# Mean of the bootstrapped sample means of male customers\n",
    "mu_male = np.mean(male_sample_means)\n",
    "mu_male"
   ]
  },
  {
   "cell_type": "code",
   "execution_count": 63,
   "id": "5534ce2f",
   "metadata": {},
   "outputs": [
    {
     "data": {
      "text/plain": [
       "8735.22981491"
      ]
     },
     "execution_count": 63,
     "metadata": {},
     "output_type": "execute_result"
    }
   ],
   "source": [
    "# Mean of the bootstrapped sample means of female customers\n",
    "mu_female = np.mean(female_sample_means)\n",
    "mu_female"
   ]
  },
  {
   "cell_type": "markdown",
   "id": "d265ecc2",
   "metadata": {},
   "source": [
    "***Confidence Interval:***"
   ]
  },
  {
   "cell_type": "code",
   "execution_count": 49,
   "id": "5d0918bc",
   "metadata": {},
   "outputs": [],
   "source": [
    "# Lets create a function for calculating the Confidence Interval using CLT\n",
    "\n",
    "def ci(interval, mu, sigma, n):\n",
    "    z_left = norm.ppf(((100-interval)/2)/100)\n",
    "    z_right = norm.ppf(((100+interval)/2)/100)\n",
    "    left = mu + (z_left*(sigma/np.sqrt(n)))\n",
    "    right = mu + (z_right*(sigma/np.sqrt(n)))\n",
    "    return left, right"
   ]
  },
  {
   "cell_type": "markdown",
   "id": "d14ba33e",
   "metadata": {},
   "source": [
    "### 90% CI\n",
    "Lets find the 90% confidence interval for the average amount spent per transaction for male and female customers"
   ]
  },
  {
   "cell_type": "code",
   "execution_count": 64,
   "id": "c9d4068b",
   "metadata": {},
   "outputs": [
    {
     "data": {
      "text/plain": [
       "(9355.136044115596, 9520.380190744403)"
      ]
     },
     "execution_count": 64,
     "metadata": {},
     "output_type": "execute_result"
    }
   ],
   "source": [
    "male90 = ci(90, mu_male, std_pop, 10000)\n",
    "male90"
   ]
  },
  {
   "cell_type": "code",
   "execution_count": 65,
   "id": "84096a62",
   "metadata": {},
   "outputs": [
    {
     "data": {
      "text/plain": [
       "(8652.607741595597, 8817.851888224404)"
      ]
     },
     "execution_count": 65,
     "metadata": {},
     "output_type": "execute_result"
    }
   ],
   "source": [
    "female90 = ci(90, mu_female, std_pop, 10000)\n",
    "female90"
   ]
  },
  {
   "cell_type": "markdown",
   "id": "a3fab5f8",
   "metadata": {},
   "source": [
    "### 95% CI\n",
    "Lets find the 95% confidence interval for the average amount spent per transaction for male and female customers"
   ]
  },
  {
   "cell_type": "code",
   "execution_count": 66,
   "id": "1e3283c5",
   "metadata": {},
   "outputs": [
    {
     "data": {
      "text/plain": [
       "(9339.30784479122, 9536.20839006878)"
      ]
     },
     "execution_count": 66,
     "metadata": {},
     "output_type": "execute_result"
    }
   ],
   "source": [
    "male95 = ci(95, mu_male, std_pop, 10000)\n",
    "male95"
   ]
  },
  {
   "cell_type": "code",
   "execution_count": 67,
   "id": "3020284a",
   "metadata": {},
   "outputs": [
    {
     "data": {
      "text/plain": [
       "(8636.77954227122, 8833.68008754878)"
      ]
     },
     "execution_count": 67,
     "metadata": {},
     "output_type": "execute_result"
    }
   ],
   "source": [
    "female95 = ci(95, mu_female, std_pop, 10000)\n",
    "female95"
   ]
  },
  {
   "cell_type": "markdown",
   "id": "00f47add",
   "metadata": {},
   "source": [
    "### 99% CI\n",
    "Lets find the 99% confidence interval for the average amount spent per transaction for male and female customers"
   ]
  },
  {
   "cell_type": "code",
   "execution_count": 68,
   "id": "695ea6e2",
   "metadata": {},
   "outputs": [
    {
     "data": {
      "text/plain": [
       "(9308.372527079544, 9567.143707780455)"
      ]
     },
     "execution_count": 68,
     "metadata": {},
     "output_type": "execute_result"
    }
   ],
   "source": [
    "male99 = ci(99, mu_male, std_pop, 10000)\n",
    "male99"
   ]
  },
  {
   "cell_type": "code",
   "execution_count": 69,
   "id": "d06d8b85",
   "metadata": {},
   "outputs": [
    {
     "data": {
      "text/plain": [
       "(8605.844224559545, 8864.615405260456)"
      ]
     },
     "execution_count": 69,
     "metadata": {},
     "output_type": "execute_result"
    }
   ],
   "source": [
    "female99 = ci(99, mu_female, std_pop, 10000)\n",
    "female99"
   ]
  },
  {
   "cell_type": "markdown",
   "id": "e83fe09c",
   "metadata": {},
   "source": [
    "**Insights:**\n",
    "* We can say with 99% confidence that the average amount spent per transaction of the male lies between the range 9308 and 9567,\n",
    "* Also we can say with 99% confidence that the average amount spent per transaction of the female lies between the range 8605 and 8864,\n",
    "* It is clear from the above observation that the male spend more than women on average per transaction"
   ]
  },
  {
   "cell_type": "markdown",
   "id": "b3a26709",
   "metadata": {},
   "source": [
    "**Tracking the amount spent per transaction for different marital status**"
   ]
  },
  {
   "cell_type": "code",
   "execution_count": 80,
   "id": "53b1ffba",
   "metadata": {},
   "outputs": [
    {
     "data": {
      "text/plain": [
       "Marital_Status\n",
       "0    9265.907619\n",
       "1    9261.174574\n",
       "Name: Purchase, dtype: float64"
      ]
     },
     "execution_count": 80,
     "metadata": {},
     "output_type": "execute_result"
    }
   ],
   "source": [
    "df.groupby('Marital_Status')['Purchase'].mean()"
   ]
  },
  {
   "cell_type": "markdown",
   "id": "5863c324",
   "metadata": {},
   "source": [
    "**Insight:**\n",
    "* The average amount spent per transaction for single customer is 9265.9 and for married customer, it is 9261.1\n",
    "* On average, the single customers spend slightly more than the married customers per transaction on black friday."
   ]
  },
  {
   "cell_type": "markdown",
   "id": "17bddfff",
   "metadata": {},
   "source": [
    "Lets find the average amount spent per transaction for all the single and married customers using CLT"
   ]
  },
  {
   "cell_type": "code",
   "execution_count": 77,
   "id": "1cf180ab",
   "metadata": {},
   "outputs": [],
   "source": [
    "# Separating the single and married purchase data\n",
    "\n",
    "single = df.loc[df['Marital_Status']==0]\n",
    "\n",
    "married = df.loc[df['Marital_Status']==1]"
   ]
  },
  {
   "cell_type": "markdown",
   "id": "b31b5473",
   "metadata": {},
   "source": [
    "***Bootstrapping:***"
   ]
  },
  {
   "cell_type": "markdown",
   "id": "c225ad39",
   "metadata": {},
   "source": [
    "Lets do bootstrapping for single and married customers with 10000 samples and 1000 repetitions and observe the distribution of them."
   ]
  },
  {
   "cell_type": "code",
   "execution_count": 78,
   "id": "c7f201c2",
   "metadata": {},
   "outputs": [],
   "source": [
    "single_sample_means = bootstrap(single['Purchase'], 10000, 1000)\n",
    "married_sample_means = bootstrap(married['Purchase'], 10000, 1000)"
   ]
  },
  {
   "cell_type": "code",
   "execution_count": 79,
   "id": "97fb9441",
   "metadata": {},
   "outputs": [
    {
     "data": {
      "image/png": "[encoded data removed]",
      "text/plain": [
       "<Figure size 1000x500 with 2 Axes>"
      ]
     },
     "metadata": {},
     "output_type": "display_data"
    }
   ],
   "source": [
    "plt.figure(figsize = (10,5))\n",
    "plt.subplot(1,2,1)\n",
    "plt.title('Avg of single purchase samples')\n",
    "sns.histplot(single_sample_means)\n",
    "\n",
    "plt.subplot(1,2,2)\n",
    "sns.histplot(married_sample_means)\n",
    "plt.title('Avg of married purchase samples')\n",
    "plt.show()"
   ]
  },
  {
   "cell_type": "markdown",
   "id": "8c644d1c",
   "metadata": {},
   "source": [
    "Lets find the confidence intervals"
   ]
  },
  {
   "cell_type": "code",
   "execution_count": 81,
   "id": "1e393343",
   "metadata": {},
   "outputs": [
    {
     "data": {
      "text/plain": [
       "9265.2569424"
      ]
     },
     "execution_count": 81,
     "metadata": {},
     "output_type": "execute_result"
    }
   ],
   "source": [
    "# Mean of the bootstrapped sample means of single customers\n",
    "mu_single = np.mean(single_sample_means)\n",
    "mu_single"
   ]
  },
  {
   "cell_type": "code",
   "execution_count": 82,
   "id": "cef9d3e0",
   "metadata": {},
   "outputs": [
    {
     "data": {
      "text/plain": [
       "9260.5753792"
      ]
     },
     "execution_count": 82,
     "metadata": {},
     "output_type": "execute_result"
    }
   ],
   "source": [
    "# Mean of the bootstrapped sample means of married customers\n",
    "mu_married = np.mean(married_sample_means)\n",
    "mu_married"
   ]
  },
  {
   "cell_type": "markdown",
   "id": "dc313ef0",
   "metadata": {},
   "source": [
    "***Confidence Interval:***"
   ]
  },
  {
   "cell_type": "markdown",
   "id": "104699d9",
   "metadata": {},
   "source": [
    "### 90% CI\n",
    "Lets find the 90% confidence interval for the average amount spent per transaction for single and married customers"
   ]
  },
  {
   "cell_type": "code",
   "execution_count": 83,
   "id": "69808b96",
   "metadata": {},
   "outputs": [
    {
     "data": {
      "text/plain": [
       "(9182.634869085596, 9347.879015714403)"
      ]
     },
     "execution_count": 83,
     "metadata": {},
     "output_type": "execute_result"
    }
   ],
   "source": [
    "single90 = ci(90, mu_single, std_pop, 10000)\n",
    "single90"
   ]
  },
  {
   "cell_type": "code",
   "execution_count": 84,
   "id": "a0c9816a",
   "metadata": {},
   "outputs": [
    {
     "data": {
      "text/plain": [
       "(9177.953305885596, 9343.197452514403)"
      ]
     },
     "execution_count": 84,
     "metadata": {},
     "output_type": "execute_result"
    }
   ],
   "source": [
    "married90 = ci(90, mu_married, std_pop, 10000)\n",
    "married90"
   ]
  },
  {
   "cell_type": "markdown",
   "id": "a0023afe",
   "metadata": {},
   "source": [
    "### 95% CI\n",
    "Lets find the 95% confidence interval for the average amount spent per transaction for single and married customers"
   ]
  },
  {
   "cell_type": "code",
   "execution_count": 85,
   "id": "563fb6b5",
   "metadata": {},
   "outputs": [
    {
     "data": {
      "text/plain": [
       "(9166.80666976122, 9363.70721503878)"
      ]
     },
     "execution_count": 85,
     "metadata": {},
     "output_type": "execute_result"
    }
   ],
   "source": [
    "single95 = ci(95, mu_single, std_pop, 10000)\n",
    "single95"
   ]
  },
  {
   "cell_type": "code",
   "execution_count": 86,
   "id": "dae7017d",
   "metadata": {},
   "outputs": [
    {
     "data": {
      "text/plain": [
       "(9162.12510656122, 9359.02565183878)"
      ]
     },
     "execution_count": 86,
     "metadata": {},
     "output_type": "execute_result"
    }
   ],
   "source": [
    "married95 = ci(95, mu_married, std_pop, 10000)\n",
    "married95"
   ]
  },
  {
   "cell_type": "markdown",
   "id": "86fb31a1",
   "metadata": {},
   "source": [
    "### 99% CI\n",
    "Lets find the 99% confidence interval for the average amount spent per transaction for single and married customers"
   ]
  },
  {
   "cell_type": "code",
   "execution_count": 87,
   "id": "0aa9a084",
   "metadata": {},
   "outputs": [
    {
     "data": {
      "text/plain": [
       "(9135.871352049544, 9394.642532750455)"
      ]
     },
     "execution_count": 87,
     "metadata": {},
     "output_type": "execute_result"
    }
   ],
   "source": [
    "single99 = ci(99, mu_single, std_pop, 10000)\n",
    "single99"
   ]
  },
  {
   "cell_type": "code",
   "execution_count": 88,
   "id": "9a3140e7",
   "metadata": {},
   "outputs": [
    {
     "data": {
      "text/plain": [
       "(9131.189788849544, 9389.960969550455)"
      ]
     },
     "execution_count": 88,
     "metadata": {},
     "output_type": "execute_result"
    }
   ],
   "source": [
    "married99 = ci(99, mu_married, std_pop, 10000)\n",
    "married99"
   ]
  },
  {
   "cell_type": "markdown",
   "id": "a6dcb4e3",
   "metadata": {},
   "source": [
    "**Insights:**\n",
    "* We can say with 99% confidence that the average amount spent per transaction of the single customer lies between the range 9135 and 9394,\n",
    "* Also we can say with 99% confidence that the average amount spent per transaction of the married customer lies between the range 9131 and 9389,\n",
    "* It is clear that the single and married customers have overlapping of confidence intervals. Therefore, the average amount spent per transaction for the single and married customers will be very close to each other"
   ]
  },
  {
   "cell_type": "markdown",
   "id": "3f3750e8",
   "metadata": {},
   "source": [
    "**Tracking the amount spent per transaction for different age categories**"
   ]
  },
  {
   "cell_type": "code",
   "execution_count": 89,
   "id": "ee0f345c",
   "metadata": {},
   "outputs": [
    {
     "data": {
      "text/plain": [
       "Age\n",
       "0-17     8933.464640\n",
       "18-25    9169.663606\n",
       "26-35    9252.690633\n",
       "36-45    9331.350695\n",
       "46-50    9208.625697\n",
       "51-55    9534.808031\n",
       "55+      9336.280459\n",
       "Name: Purchase, dtype: float64"
      ]
     },
     "execution_count": 89,
     "metadata": {},
     "output_type": "execute_result"
    }
   ],
   "source": [
    "df.groupby('Age')['Purchase'].mean()"
   ]
  },
  {
   "cell_type": "markdown",
   "id": "6a29907d",
   "metadata": {},
   "source": [
    "**Insight:**\n",
    "* The highest average amount spent per transaction is 9534.8 by the customers of age category 51 - 55\n",
    "* The lowest average amount spent per transaction is 8933 by the customers of age category 0 - 17"
   ]
  },
  {
   "cell_type": "markdown",
   "id": "b60756ad",
   "metadata": {},
   "source": [
    "Lets find the average amount spent per transaction for all the top 3(in no. of purchases) age category customers using CLT"
   ]
  },
  {
   "cell_type": "code",
   "execution_count": 90,
   "id": "e06172c4",
   "metadata": {},
   "outputs": [],
   "source": [
    "# Separating the data\n",
    "\n",
    "mid = df.loc[df['Age']=='26-35']\n",
    "\n",
    "old = df.loc[df['Age']=='36-45']\n",
    "\n",
    "young = df.loc[df['Age']=='18-25']"
   ]
  },
  {
   "cell_type": "markdown",
   "id": "63de2eaf",
   "metadata": {},
   "source": [
    "***Bootstrapping:***"
   ]
  },
  {
   "cell_type": "code",
   "execution_count": 91,
   "id": "8dd63b16",
   "metadata": {},
   "outputs": [],
   "source": [
    "mid_sample_means = bootstrap(mid['Purchase'], 10000, 1000)\n",
    "old_sample_means = bootstrap(old['Purchase'], 10000, 1000)\n",
    "young_sample_means = bootstrap(young['Purchase'], 10000, 1000)"
   ]
  },
  {
   "cell_type": "code",
   "execution_count": 92,
   "id": "408c86dc",
   "metadata": {},
   "outputs": [
    {
     "data": {
      "image/png": "[encoded data removed]",
      "text/plain": [
       "<Figure size 1000x500 with 3 Axes>"
      ]
     },
     "metadata": {},
     "output_type": "display_data"
    }
   ],
   "source": [
    "plt.figure(figsize = (10,5))\n",
    "plt.subplot(1,3,1)\n",
    "plt.title('Avg of mid purchase samples')\n",
    "sns.histplot(mid_sample_means)\n",
    "\n",
    "plt.subplot(1,3,2)\n",
    "plt.title('Avg of old purchase samples')\n",
    "sns.histplot(old_sample_means)\n",
    "\n",
    "plt.subplot(1,3,3)\n",
    "sns.histplot(young_sample_means)\n",
    "plt.title('Avg of young purchase samples')\n",
    "plt.show()"
   ]
  },
  {
   "cell_type": "markdown",
   "id": "ef6b5e57",
   "metadata": {},
   "source": [
    "Lets find the confidence intervals"
   ]
  },
  {
   "cell_type": "code",
   "execution_count": 93,
   "id": "69b2be9e",
   "metadata": {},
   "outputs": [
    {
     "data": {
      "text/plain": [
       "9252.6767178"
      ]
     },
     "execution_count": 93,
     "metadata": {},
     "output_type": "execute_result"
    }
   ],
   "source": [
    "mu_mid = np.mean(mid_sample_means)\n",
    "mu_mid"
   ]
  },
  {
   "cell_type": "code",
   "execution_count": 94,
   "id": "13c58a5a",
   "metadata": {},
   "outputs": [
    {
     "data": {
      "text/plain": [
       "9332.9092538"
      ]
     },
     "execution_count": 94,
     "metadata": {},
     "output_type": "execute_result"
    }
   ],
   "source": [
    "mu_old = np.mean(old_sample_means)\n",
    "mu_old"
   ]
  },
  {
   "cell_type": "code",
   "execution_count": 95,
   "id": "775c80b3",
   "metadata": {},
   "outputs": [
    {
     "data": {
      "text/plain": [
       "9168.318768199999"
      ]
     },
     "execution_count": 95,
     "metadata": {},
     "output_type": "execute_result"
    }
   ],
   "source": [
    "mu_young = np.mean(young_sample_means)\n",
    "mu_young"
   ]
  },
  {
   "cell_type": "markdown",
   "id": "979d769a",
   "metadata": {},
   "source": [
    "***Confidence Interval:***"
   ]
  },
  {
   "cell_type": "markdown",
   "id": "992689cd",
   "metadata": {},
   "source": [
    "### 95% CI\n",
    "Lets find the 95% confidence interval for the average amount spent per transaction for customers of different age categories"
   ]
  },
  {
   "cell_type": "code",
   "execution_count": 96,
   "id": "dc0eb524",
   "metadata": {},
   "outputs": [
    {
     "data": {
      "text/plain": [
       "(9154.226445161219, 9351.12699043878)"
      ]
     },
     "execution_count": 96,
     "metadata": {},
     "output_type": "execute_result"
    }
   ],
   "source": [
    "mid95 = ci(95, mu_mid, std_pop, 10000)\n",
    "mid95"
   ]
  },
  {
   "cell_type": "code",
   "execution_count": 97,
   "id": "00b82435",
   "metadata": {},
   "outputs": [
    {
     "data": {
      "text/plain": [
       "(9234.45898116122, 9431.35952643878)"
      ]
     },
     "execution_count": 97,
     "metadata": {},
     "output_type": "execute_result"
    }
   ],
   "source": [
    "old95 = ci(95, mu_old, std_pop, 10000)\n",
    "old95"
   ]
  },
  {
   "cell_type": "code",
   "execution_count": 98,
   "id": "76850340",
   "metadata": {},
   "outputs": [
    {
     "data": {
      "text/plain": [
       "(9069.868495561219, 9266.769040838779)"
      ]
     },
     "execution_count": 98,
     "metadata": {},
     "output_type": "execute_result"
    }
   ],
   "source": [
    "young95 = ci(95, mu_young, std_pop, 10000)\n",
    "young95"
   ]
  },
  {
   "cell_type": "markdown",
   "id": "631f07b3",
   "metadata": {},
   "source": [
    "### 99% CI\n",
    "Lets find the 99% confidence interval for the average amount spent per transaction for customers of different age categories"
   ]
  },
  {
   "cell_type": "code",
   "execution_count": 99,
   "id": "e21ac19f",
   "metadata": {},
   "outputs": [
    {
     "data": {
      "text/plain": [
       "(9123.291127449544, 9382.062308150455)"
      ]
     },
     "execution_count": 99,
     "metadata": {},
     "output_type": "execute_result"
    }
   ],
   "source": [
    "mid99 = ci(99, mu_mid, std_pop, 10000)\n",
    "mid99"
   ]
  },
  {
   "cell_type": "code",
   "execution_count": 100,
   "id": "af061173",
   "metadata": {},
   "outputs": [
    {
     "data": {
      "text/plain": [
       "(9203.523663449545, 9462.294844150456)"
      ]
     },
     "execution_count": 100,
     "metadata": {},
     "output_type": "execute_result"
    }
   ],
   "source": [
    "old99 = ci(99, mu_old, std_pop, 10000)\n",
    "old99"
   ]
  },
  {
   "cell_type": "code",
   "execution_count": 101,
   "id": "f02de6fb",
   "metadata": {},
   "outputs": [
    {
     "data": {
      "text/plain": [
       "(9038.933177849543, 9297.704358550454)"
      ]
     },
     "execution_count": 101,
     "metadata": {},
     "output_type": "execute_result"
    }
   ],
   "source": [
    "young99 = ci(99, mu_young, std_pop, 10000)\n",
    "young99"
   ]
  },
  {
   "cell_type": "markdown",
   "id": "3a1b0822",
   "metadata": {},
   "source": [
    "**Insight:**\n",
    "* The customers of top 3 age categories (26 - 35, 36 - 45,& 18 - 25) have overlapping confidence intervals. Therefore, the average amount spent per transaction for them will be very close to each other."
   ]
  },
  {
   "cell_type": "markdown",
   "id": "5d23190e",
   "metadata": {},
   "source": [
    "### Insights:\n",
    "* The average purchase amount of the given data is 9263.96,\n",
    "* The standard deviation is 5023.06,\n",
    "* The minimum and the maximum purchase amount was 12 and 23961 respectively.\n",
    "* Almost 40 % of the purchase were made by the customers between the age of 26 - 35\n",
    "* Almost 41% of male customers and 37% of female customers who made purchase belongs to the age category of 26 - 35.\n",
    "* Almost 60% of the purchases were made by the unmarried male and female customers. In other words, the single male and female customers tends to buy more than the married customers\n",
    "* The top 3 age categories are 26-35(mid), 36-45(old), 18-25(young)\n",
    "* The top 3 product categories on black friday are 5, 1, and 8.\n",
    "* The top 3 products sold in the black friday are P00265242, P00025442, P00110742\n",
    "* The median purchase amount of the male customers are bit higher than the median purchase amount of the female cusrtomers.\n",
    "* The female customers have more outliers than the male customers\n",
    "* The average amount spent per transaction for the male is 9437.5 and for female, it is 8734.5\n",
    "* On average, the male customers spend more than the female customers per transaction on black friday.\n",
    "* We can say with 99% confidence that the average amount spent per transaction of the male lies between the range 9308 and 9567,\n",
    "* Also we can say with 99% confidence that the average amount spent per transaction of the female lies between the range 8605 and 8864,\n",
    "* It is clear from the above observation that the male spend more than women on average per transaction\n",
    "* The average amount spent per transaction for single customer is 9265.9 and for married customer, it is 9261.1\n",
    "* On average, the single customers spend slightly more than the married customers per transaction on black friday.\n",
    "* We can say with 99% confidence that the average amount spent per transaction of the single customer lies between the range 9135 and 9394,\n",
    "* Also we can say with 99% confidence that the average amount spent per transaction of the married customer lies between the range 9131 and 9389,\n",
    "* It is clear that the single and married customers have overlapping of confidence intervals. Therefore, the average amount spent per transaction for the single and married customers will be very close to each other\n",
    "* The highest average amount spent per transaction is 9534.8 by the customers of age category 51 - 55\n",
    "* The lowest average amount spent per transaction is 8933 by the customers of age category 0 - 17\n",
    "* The customers of top 3 age categories (26 - 35, 36 - 45,& 18 - 25) have overlapping confidence intervals. Therefore, the average amount spent per transaction for them will be very close to each other."
   ]
  },
  {
   "cell_type": "markdown",
   "id": "281b1c95",
   "metadata": {},
   "source": [
    "### Recommendations:\n",
    "* It is recommended to get more stock of products for  male customers as they buy more on the black friday,\n",
    "* It is recommended to ensure the availability of the products P00265242, P00025442, P00110742 before black friday as they were the most sold products,\n",
    "* It is recommended that the walmart should roll out more offers for female customers as they spend less than male customers on black friday,\n",
    "* It is recommended to get more new product for female customers of age category 26 - 35 in the price range of 8605 to 8864,\n",
    "* It is recommended to get only lesser number of products, but costlier products for customers of age category 51 - 55,\n",
    "* It is recommended to ensure the availability of the products in the category 5, 1, and 8 before black friday as they were the most sold product category.\n"
   ]
  }
 ],
 "metadata": {
  "kernelspec": {
   "display_name": "Python 3 (ipykernel)",
   "language": "python",
   "name": "python3"
  },
  "language_info": {
   "codemirror_mode": {
    "name": "ipython",
    "version": 3
   },
   "file_extension": ".py",
   "mimetype": "text/x-python",
   "name": "python",
   "nbconvert_exporter": "python",
   "pygments_lexer": "ipython3",
   "version": "3.9.13"
  }
 },
 "nbformat": 4,
 "nbformat_minor": 5
}
